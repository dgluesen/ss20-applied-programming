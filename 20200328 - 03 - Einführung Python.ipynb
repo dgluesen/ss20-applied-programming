{
 "cells": [
  {
   "cell_type": "markdown",
   "metadata": {},
   "source": [
    "<div style=\"width:image width px; font-size:75%; text-align:right;\">\n",
    "    <img src=\"img/everyone_adi-goldstein_unsplash.jpg\" width=\"width\" height=\"height\" style=\"padding-bottom:0.2em;\" />\n",
    "    <figcaption>Photo by Adi Goldstein on Unsplash</figcaption>\n",
    "</div>"
   ]
  },
  {
   "cell_type": "markdown",
   "metadata": {},
   "source": [
    "# Introduction to Python\n",
    "\n",
    "**Applied Programming - Summer term 2020 - FOM Hochschule für Oekonomie und Management - Cologne**\n",
    "\n",
    "**Lecture 03 - March 28, 2020**"
   ]
  },
  {
   "cell_type": "markdown",
   "metadata": {},
   "source": [
    "*Dennis Gluesenkamp*"
   ]
  },
  {
   "cell_type": "markdown",
   "metadata": {},
   "source": [
    "### Table of contents\n",
    "* [Cells in Jupyter Notebooks](#cells)\n",
    "* [Values and types](#valuestypes)\n",
    "* [Variables, expressions, and statements](#variablesexpressionsstatements)\n",
    "* [Operators](#operators)\n",
    "* [Structuring code](#structure)\n",
    "* [Functions](#functions)\n",
    "* [References](#references)"
   ]
  },
  {
   "cell_type": "markdown",
   "metadata": {},
   "source": [
    "### Cells in Jupyter Notebooks<a class=\"anchor\" id=\"cells\"></a>\n",
    "\n",
    "Jupyter Notebooks are environments for creating documents which can contain code, visuals/graphs, and text. They are open-source, browser-/web-based, and interactive. [[1]](#la2018)\n",
    "\n",
    "A Jupyter Notebook consists of a series of cells. These cells can be\n",
    "* Code cells with program code which goes with the selected kernel (standard when inserting a new cell)\n",
    "* Markdown [[2]](#gruber2004) cells with text, comments, HTML-code and so on (switch to this type by pressing key \"m\" when cell is active/marked)\n",
    "\n",
    "Code cells can also contain comments which are started by a hashmark \"#\". If you want to access the raw Markdown double-click on the text of that cell.\n",
    "\n",
    "Other features of Jupyter notebooks are:\n",
    "* They can be used for other languages also, e.g. R, Julia\n",
    "* They can be exported to HTML or PDF\n",
    "* They can be displayed by GitHub when opened by a browser via the online repository\n",
    "* There is a enhanced development environment in this ecosystem called JupyterLab [[3]](#jupyter2020)\n",
    "\n",
    "**You can add cells above the current cell by using the key \"a\" or below the current cells with \"b\". If you want to delete a cell use the key \"d\" twofold.**\n",
    "\n",
    "In the following, you can find some examples of both types of cells."
   ]
  },
  {
   "cell_type": "code",
   "execution_count": 1,
   "metadata": {},
   "outputs": [
    {
     "data": {
      "text/plain": [
       "2"
      ]
     },
     "execution_count": 1,
     "metadata": {},
     "output_type": "execute_result"
    }
   ],
   "source": [
    "# This is a code cell with following output\n",
    "1+1"
   ]
  },
  {
   "cell_type": "code",
   "execution_count": 2,
   "metadata": {},
   "outputs": [
    {
     "name": "stdout",
     "output_type": "stream",
     "text": [
      "Hello World!\n"
     ]
    }
   ],
   "source": [
    "print('Hello World!')"
   ]
  },
  {
   "cell_type": "markdown",
   "metadata": {},
   "source": [
    "This is simple text in a Markdown cell."
   ]
  },
  {
   "cell_type": "markdown",
   "metadata": {},
   "source": [
    "This is an ordered list:\n",
    "1. The first\n",
    "2. The second\n",
    "3. The last\n",
    "\n",
    "This is an unordered list:\n",
    "* The first\n",
    "* The second\n",
    "* The last"
   ]
  },
  {
   "cell_type": "markdown",
   "metadata": {},
   "source": [
    "For further information and cheat sheets concerning the Markdown language please refer to the pdf-files stored in the cs-folder of the repository."
   ]
  },
  {
   "cell_type": "markdown",
   "metadata": {},
   "source": [
    "#### Exercises\n",
    "\n",
    "Try to add some cells below this one and execute the following tasks:\n",
    "1. Add a Markdown cell and write the headline (4th level >>> prefix with 4 hashmarks \"####\"): Solutions\n",
    "2. Add another Markdown cell below with a text of your choice, expressing that the solutions of the excercises will follow\n",
    "3. Add a code cell where you calculate the product of 7 and 42\n",
    "4. Add a code cell where you calculate the conjunction of True and False with a logical AND (hint the spelling in Python is ``and``)\n",
    "5. Add a code cell where you write a print statement with a farewell message"
   ]
  },
  {
   "cell_type": "markdown",
   "metadata": {},
   "source": [
    "#### Solutions"
   ]
  },
  {
   "cell_type": "markdown",
   "metadata": {},
   "source": [
    "The solutions are:"
   ]
  },
  {
   "cell_type": "code",
   "execution_count": 3,
   "metadata": {},
   "outputs": [
    {
     "data": {
      "text/plain": [
       "294"
      ]
     },
     "execution_count": 3,
     "metadata": {},
     "output_type": "execute_result"
    }
   ],
   "source": [
    "7 * 42"
   ]
  },
  {
   "cell_type": "code",
   "execution_count": 4,
   "metadata": {},
   "outputs": [
    {
     "data": {
      "text/plain": [
       "False"
      ]
     },
     "execution_count": 4,
     "metadata": {},
     "output_type": "execute_result"
    }
   ],
   "source": [
    "True and False"
   ]
  },
  {
   "cell_type": "code",
   "execution_count": 5,
   "metadata": {},
   "outputs": [
    {
     "name": "stdout",
     "output_type": "stream",
     "text": [
      "Bye!\n"
     ]
    }
   ],
   "source": [
    "print('Bye!')"
   ]
  },
  {
   "cell_type": "markdown",
   "metadata": {},
   "source": [
    "### Values and types<a class=\"anchor\" id=\"valuestypes\"></a>\n",
    "Values are elements a computer program is handling. E.g. some values of the excercises above are: ``7``, ``True`` or the character string of your personal farewell message. Values are of a certain type. This type can be called with the ``type()`` function."
   ]
  },
  {
   "cell_type": "code",
   "execution_count": 6,
   "metadata": {},
   "outputs": [
    {
     "data": {
      "text/plain": [
       "int"
      ]
     },
     "execution_count": 6,
     "metadata": {},
     "output_type": "execute_result"
    }
   ],
   "source": [
    "type(7)"
   ]
  },
  {
   "cell_type": "markdown",
   "metadata": {},
   "source": [
    "#### Exercises\n",
    "Check the type of the following expressions. Please use the whole set of characters in the listed items (e.g. \"5\" >>> ``type('5')``).\n",
    "1. 42\n",
    "2. 'foo'\n",
    "3. 3.1415\n",
    "4. '2.7183'\n",
    "5. 1,4142\n",
    "\n",
    "What is the problem with the fifth expression?"
   ]
  },
  {
   "cell_type": "code",
   "execution_count": 7,
   "metadata": {},
   "outputs": [
    {
     "data": {
      "text/plain": [
       "int"
      ]
     },
     "execution_count": 7,
     "metadata": {},
     "output_type": "execute_result"
    }
   ],
   "source": [
    "type(42)"
   ]
  },
  {
   "cell_type": "code",
   "execution_count": 8,
   "metadata": {},
   "outputs": [
    {
     "data": {
      "text/plain": [
       "str"
      ]
     },
     "execution_count": 8,
     "metadata": {},
     "output_type": "execute_result"
    }
   ],
   "source": [
    "type('foo')"
   ]
  },
  {
   "cell_type": "code",
   "execution_count": 9,
   "metadata": {},
   "outputs": [
    {
     "data": {
      "text/plain": [
       "float"
      ]
     },
     "execution_count": 9,
     "metadata": {},
     "output_type": "execute_result"
    }
   ],
   "source": [
    "type(3.1415)"
   ]
  },
  {
   "cell_type": "code",
   "execution_count": 10,
   "metadata": {},
   "outputs": [
    {
     "data": {
      "text/plain": [
       "str"
      ]
     },
     "execution_count": 10,
     "metadata": {},
     "output_type": "execute_result"
    }
   ],
   "source": [
    "type('2.7183')"
   ]
  },
  {
   "cell_type": "code",
   "execution_count": 11,
   "metadata": {},
   "outputs": [
    {
     "ename": "TypeError",
     "evalue": "type() takes 1 or 3 arguments",
     "output_type": "error",
     "traceback": [
      "\u001b[0;31m---------------------------------------------------------------------------\u001b[0m",
      "\u001b[0;31mTypeError\u001b[0m                                 Traceback (most recent call last)",
      "\u001b[0;32m<ipython-input-11-3ba94ad53b96>\u001b[0m in \u001b[0;36m<module>\u001b[0;34m\u001b[0m\n\u001b[0;32m----> 1\u001b[0;31m \u001b[0mtype\u001b[0m\u001b[0;34m(\u001b[0m\u001b[0;36m1\u001b[0m\u001b[0;34m,\u001b[0m\u001b[0;36m4142\u001b[0m\u001b[0;34m)\u001b[0m\u001b[0;34m\u001b[0m\u001b[0;34m\u001b[0m\u001b[0m\n\u001b[0m",
      "\u001b[0;31mTypeError\u001b[0m: type() takes 1 or 3 arguments"
     ]
    }
   ],
   "source": [
    "type(1,4142)"
   ]
  },
  {
   "cell_type": "markdown",
   "metadata": {},
   "source": [
    "### Variables, expressions, and statements<a class=\"anchor\" id=\"variablesexpressionsstatements\"></a>\n",
    "**Variables** are assignable empty items in the code, so a memory address. The code can assign, manipulate and use these elements. With the **assignment statement** the variable is created and a value is given. [[4, p.9]](#downey2015)"
   ]
  },
  {
   "cell_type": "code",
   "execution_count": 19,
   "metadata": {},
   "outputs": [],
   "source": [
    "information = 'This is a text message'\n",
    "euler = 2.718281828459045\n",
    "num = 42"
   ]
  },
  {
   "cell_type": "markdown",
   "metadata": {},
   "source": [
    "Variable names can be of any length but have to begin with a character. The underscore ``_`` is allowed a a special character in a variable name. Python-specific keywords can't be used as variable names. Therefore, the following are legal and illegal examples of variable names:\n",
    "* ``var`` (*legal*)\n",
    "* ``extra_long_variable_name_12345`` (*legal*, however bad style)\n",
    "* ``Variable`` (*legal*, however to start with lower case is convention)\n",
    "* ``01_first_var`` (*illegal*, because it starts with a numeric)\n",
    "* ``_notthisway`` (*legal*, because it starts with a special character it is against the convention for standard variable names)\n",
    "* ``else`` (*illeagal*, because this is a Python-specific keyword)"
   ]
  },
  {
   "cell_type": "markdown",
   "metadata": {},
   "source": [
    "**Expressions** are an arbitrarily long combination of variables, values and operators, which the interpreter evaluates when executing the expression. Therefore, the call of a single variable or value is also an expression. [[4, p.10]](#downey2015)"
   ]
  },
  {
   "cell_type": "code",
   "execution_count": 20,
   "metadata": {},
   "outputs": [
    {
     "data": {
      "text/plain": [
       "44.71828182845905"
      ]
     },
     "execution_count": 20,
     "metadata": {},
     "output_type": "execute_result"
    }
   ],
   "source": [
    "euler + num"
   ]
  },
  {
   "cell_type": "markdown",
   "metadata": {},
   "source": [
    "A line or block of code that executes an operation in any form is called a **statement**. For example, the mapping of a variable (assignment statement) or the output of an expression/value can be mentioned. [[4, p.10]](#downey2015)"
   ]
  },
  {
   "cell_type": "code",
   "execution_count": 21,
   "metadata": {},
   "outputs": [
    {
     "name": "stdout",
     "output_type": "stream",
     "text": [
      "44.71828182845905\n"
     ]
    }
   ],
   "source": [
    "new_value = euler + num\n",
    "print(new_value)"
   ]
  },
  {
   "cell_type": "markdown",
   "metadata": {},
   "source": [
    "#### Exercises\n",
    "Please create a separate cell for each of the following exercises and execute the code you designed according to the task or write your answer as Markdown respectively.\n",
    "1. Instantiate a variable ``a`` and assign the integer value ``3`` to it.\n",
    "2. Instantiate a variable ``b`` and assign the difference between ``4`` and ``2`` to it.\n",
    "3. Divide ``a`` by ``b`` without a variable assignment.\n",
    "4. What kind of terms are your lines for exercise 1 to 3?\n",
    "5. What is happening now when you are coding this: ``c = d = a``?\n",
    "6. Calculate the circumference of a circle with radius $r = 5$. Create a variable for $\\pi = 3.1415$ and use this one for the calculation.\n",
    "7. Due to the current corona crisis you want to hoard toilet paper. A pack usually costs 2.89 EUR. But currently you have to pay 10% more per pack. But from 10 packs on you get a 5% quantity discount and you buy 20 packs. How much do you have to pay? Calculate everything in one cell and output the result via ``print(result)``."
   ]
  },
  {
   "cell_type": "code",
   "execution_count": 22,
   "metadata": {},
   "outputs": [
    {
     "data": {
      "text/plain": [
       "1.5"
      ]
     },
     "execution_count": 22,
     "metadata": {},
     "output_type": "execute_result"
    }
   ],
   "source": [
    "# 1.\n",
    "a = 3\n",
    "\n",
    "# 2.\n",
    "b = 4-2\n",
    "\n",
    "# 3.\n",
    "a / b"
   ]
  },
  {
   "cell_type": "code",
   "execution_count": 23,
   "metadata": {},
   "outputs": [],
   "source": [
    "c = d = a"
   ]
  },
  {
   "cell_type": "code",
   "execution_count": 24,
   "metadata": {
    "scrolled": true
   },
   "outputs": [
    {
     "name": "stdout",
     "output_type": "stream",
     "text": [
      "3\n",
      "3\n"
     ]
    }
   ],
   "source": [
    "print(c)\n",
    "print(d)"
   ]
  },
  {
   "cell_type": "code",
   "execution_count": 25,
   "metadata": {},
   "outputs": [
    {
     "data": {
      "text/plain": [
       "31.415000000000003"
      ]
     },
     "execution_count": 25,
     "metadata": {},
     "output_type": "execute_result"
    }
   ],
   "source": [
    "pi = 3.1415\n",
    "pi * 2 * 5 "
   ]
  },
  {
   "cell_type": "markdown",
   "metadata": {},
   "source": [
    "### Operators<a class=\"anchor\" id=\"operators\"></a>\n",
    "Operators provide function-like capabilities without being typical functions, since their usage is syntactically and semantically different. For example, operators can be prefix, infix, or postfix to operands. In contrast, a function is usually called as a prefix with parantheses.\n",
    "\n",
    "In Python the built-in operators can be assigned to one of the following groups."
   ]
  },
  {
   "cell_type": "markdown",
   "metadata": {},
   "source": [
    "#### Arithmetic operators"
   ]
  },
  {
   "cell_type": "code",
   "execution_count": 26,
   "metadata": {},
   "outputs": [],
   "source": [
    "x = 11\n",
    "y = 7"
   ]
  },
  {
   "cell_type": "code",
   "execution_count": 27,
   "metadata": {},
   "outputs": [
    {
     "data": {
      "text/plain": [
       "18"
      ]
     },
     "execution_count": 27,
     "metadata": {},
     "output_type": "execute_result"
    }
   ],
   "source": [
    "# Addition\n",
    "x + y"
   ]
  },
  {
   "cell_type": "code",
   "execution_count": 28,
   "metadata": {},
   "outputs": [
    {
     "data": {
      "text/plain": [
       "4"
      ]
     },
     "execution_count": 28,
     "metadata": {},
     "output_type": "execute_result"
    }
   ],
   "source": [
    "# Subtraction\n",
    "x - y"
   ]
  },
  {
   "cell_type": "code",
   "execution_count": 29,
   "metadata": {},
   "outputs": [
    {
     "data": {
      "text/plain": [
       "77"
      ]
     },
     "execution_count": 29,
     "metadata": {},
     "output_type": "execute_result"
    }
   ],
   "source": [
    "# Multiplication\n",
    "x * y"
   ]
  },
  {
   "cell_type": "code",
   "execution_count": 30,
   "metadata": {},
   "outputs": [
    {
     "data": {
      "text/plain": [
       "1.5714285714285714"
      ]
     },
     "execution_count": 30,
     "metadata": {},
     "output_type": "execute_result"
    }
   ],
   "source": [
    "# Division\n",
    "x / y"
   ]
  },
  {
   "cell_type": "code",
   "execution_count": 31,
   "metadata": {},
   "outputs": [
    {
     "data": {
      "text/plain": [
       "1"
      ]
     },
     "execution_count": 31,
     "metadata": {},
     "output_type": "execute_result"
    }
   ],
   "source": [
    "# Division, floor\n",
    "x // y"
   ]
  },
  {
   "cell_type": "code",
   "execution_count": 32,
   "metadata": {},
   "outputs": [
    {
     "data": {
      "text/plain": [
       "4"
      ]
     },
     "execution_count": 32,
     "metadata": {},
     "output_type": "execute_result"
    }
   ],
   "source": [
    "# Modulo\n",
    "x % y"
   ]
  },
  {
   "cell_type": "markdown",
   "metadata": {},
   "source": [
    "#### Relational operators"
   ]
  },
  {
   "cell_type": "code",
   "execution_count": 33,
   "metadata": {},
   "outputs": [
    {
     "data": {
      "text/plain": [
       "True"
      ]
     },
     "execution_count": 33,
     "metadata": {},
     "output_type": "execute_result"
    }
   ],
   "source": [
    "# Greater than\n",
    "x > y"
   ]
  },
  {
   "cell_type": "code",
   "execution_count": 34,
   "metadata": {},
   "outputs": [
    {
     "data": {
      "text/plain": [
       "False"
      ]
     },
     "execution_count": 34,
     "metadata": {},
     "output_type": "execute_result"
    }
   ],
   "source": [
    "# Less than\n",
    "x < y"
   ]
  },
  {
   "cell_type": "code",
   "execution_count": 35,
   "metadata": {},
   "outputs": [
    {
     "data": {
      "text/plain": [
       "True"
      ]
     },
     "execution_count": 35,
     "metadata": {},
     "output_type": "execute_result"
    }
   ],
   "source": [
    "# Greater than or equal to\n",
    "x >= y"
   ]
  },
  {
   "cell_type": "code",
   "execution_count": 36,
   "metadata": {},
   "outputs": [
    {
     "data": {
      "text/plain": [
       "False"
      ]
     },
     "execution_count": 36,
     "metadata": {},
     "output_type": "execute_result"
    }
   ],
   "source": [
    "# Les than or equal to\n",
    "x <= y"
   ]
  },
  {
   "cell_type": "code",
   "execution_count": 37,
   "metadata": {},
   "outputs": [
    {
     "data": {
      "text/plain": [
       "False"
      ]
     },
     "execution_count": 37,
     "metadata": {},
     "output_type": "execute_result"
    }
   ],
   "source": [
    "# Equal to\n",
    "x == y"
   ]
  },
  {
   "cell_type": "code",
   "execution_count": 38,
   "metadata": {},
   "outputs": [
    {
     "data": {
      "text/plain": [
       "True"
      ]
     },
     "execution_count": 38,
     "metadata": {},
     "output_type": "execute_result"
    }
   ],
   "source": [
    "# Not equal to\n",
    "x != y"
   ]
  },
  {
   "cell_type": "markdown",
   "metadata": {},
   "source": [
    "#### Logical, identity, and memebership operators"
   ]
  },
  {
   "cell_type": "code",
   "execution_count": 39,
   "metadata": {},
   "outputs": [
    {
     "data": {
      "text/plain": [
       "str"
      ]
     },
     "execution_count": 39,
     "metadata": {},
     "output_type": "execute_result"
    }
   ],
   "source": [
    "t = True\n",
    "f = False\n",
    "t2 = 'True'\n",
    "type(t2)"
   ]
  },
  {
   "cell_type": "code",
   "execution_count": 40,
   "metadata": {},
   "outputs": [
    {
     "data": {
      "text/plain": [
       "False"
      ]
     },
     "execution_count": 40,
     "metadata": {},
     "output_type": "execute_result"
    }
   ],
   "source": [
    "# Logical AND\n",
    "t and f"
   ]
  },
  {
   "cell_type": "code",
   "execution_count": 41,
   "metadata": {},
   "outputs": [
    {
     "data": {
      "text/plain": [
       "True"
      ]
     },
     "execution_count": 41,
     "metadata": {},
     "output_type": "execute_result"
    }
   ],
   "source": [
    "# Logical OR\n",
    "t or f"
   ]
  },
  {
   "cell_type": "code",
   "execution_count": 42,
   "metadata": {},
   "outputs": [
    {
     "data": {
      "text/plain": [
       "False"
      ]
     },
     "execution_count": 42,
     "metadata": {},
     "output_type": "execute_result"
    }
   ],
   "source": [
    "# NOT\n",
    "not t"
   ]
  },
  {
   "cell_type": "code",
   "execution_count": 43,
   "metadata": {},
   "outputs": [
    {
     "data": {
      "text/plain": [
       "False"
      ]
     },
     "execution_count": 43,
     "metadata": {},
     "output_type": "execute_result"
    }
   ],
   "source": [
    "# Identity\n",
    "t is f"
   ]
  },
  {
   "cell_type": "code",
   "execution_count": 44,
   "metadata": {},
   "outputs": [
    {
     "data": {
      "text/plain": [
       "True"
      ]
     },
     "execution_count": 44,
     "metadata": {},
     "output_type": "execute_result"
    }
   ],
   "source": [
    "# Membership\n",
    "a = True\n",
    "a in [t, f]"
   ]
  },
  {
   "cell_type": "markdown",
   "metadata": {},
   "source": [
    "#### Assignment operator (selection)"
   ]
  },
  {
   "cell_type": "code",
   "execution_count": 45,
   "metadata": {},
   "outputs": [],
   "source": [
    "# Assignment\n",
    "z = x - y\n",
    "v = w = 2*x"
   ]
  },
  {
   "cell_type": "code",
   "execution_count": 46,
   "metadata": {},
   "outputs": [
    {
     "name": "stdout",
     "output_type": "stream",
     "text": [
      "4\n",
      "22\n",
      "22\n"
     ]
    }
   ],
   "source": [
    "print(z)\n",
    "print(v)\n",
    "print(w)"
   ]
  },
  {
   "cell_type": "code",
   "execution_count": 47,
   "metadata": {},
   "outputs": [
    {
     "name": "stdout",
     "output_type": "stream",
     "text": [
      "11\n",
      "18\n"
     ]
    }
   ],
   "source": [
    "# Addition and\n",
    "print(x)\n",
    "x += y # equivalent to x = x+y\n",
    "print(x)"
   ]
  },
  {
   "cell_type": "code",
   "execution_count": 48,
   "metadata": {},
   "outputs": [
    {
     "name": "stdout",
     "output_type": "stream",
     "text": [
      "18\n",
      "11\n"
     ]
    }
   ],
   "source": [
    "# Subtraction and\n",
    "print(x)\n",
    "x -= y\n",
    "print(x)"
   ]
  },
  {
   "cell_type": "markdown",
   "metadata": {},
   "source": [
    "### Structuring code <a class=\"anchor\" id=\"structure\"></a>\n",
    "Before further functionalities of the Python language are considered here, a few words about the general structure of computer programs and the organisation of projects.\n",
    "\n",
    "Computer programs are generally a series of instructions on how to perform calculations or data processing. This can be meant both in the mathematical (solving systems of equations, curve discussion) and symbolic sense (image and text processing). Regardless of the programming language, a program is made up of its components. [[4, p.1f.]](#downey2015)\n",
    "\n",
    "* Input\n",
    "* Output\n",
    "* Mathematics\n",
    "* Conditions\n",
    "* Repetitions\n",
    "\n",
    "The structure of a program, in other words the basic principles of how to best achieve your own goals through implementation, is of great importance. It means clarity, consistent standards and approaches and a clear vision of what the result should look like. The following questions are of relevance here [[5, p.61f.]](#reitz2016):\n",
    "* Which functions can be grouped thematically and how?\n",
    "* How are the data flows set up?\n",
    "* Which functions and features can be implemented independently?\n",
    "\n",
    "If a series of instructions are used repeatedly or if one would like to define them separately outside the main program flow for the sake of greater convenience, **[functions](#functions)** can be created.\n",
    "\n",
    "\n",
    "To work out the structure of a program in a meaningful way, layers of abstraction can be included in the coding. These allow the program to be divided into areas whose contents bundle related functionalities and data. In Python, **modules** are part of the layers of abstraction. These are simply Python files in their native form [[6]](#learnpython2020).\n",
    "\n",
    "Another layer involves **packages** whose use is simple and straightforward. They can include modules and other packages. Packages are folders of Python files, with one special feature: they contain a ``__init__.py``, which can be empty [[6]](#learnpython2020). Otherwise, it contains all definitions that should be valid package-wide. An empty ``__init__.py`` is a common and good practice in case there are no common definitions in the package. [[5, p.62ff.]](#reitz2016)\n",
    "\n",
    "Three types of modules and packages can be distinguished according to their origin [[5, p.61]](#reitz2016):\n",
    "* *Built-in* modules that belong to the base installation (e.g. sys, os)\n",
    "* *Third-party* packages that are installed and included after the installation (e.g. NumPy, seaborn)\n",
    "* Own modules and/or packages that have been developed individually\n",
    "\n",
    "In the following sections we will therefore look at functions, modules and packages."
   ]
  },
  {
   "cell_type": "markdown",
   "metadata": {},
   "source": [
    "### Functions <a class=\"anchor\" id=\"functions\"></a>\n",
    "Functions are a collection of instructions which taken together perform a specific and defined task. They can also be called subroutines.\n",
    "\n",
    "Python has a number of built-in functions, but the user can define customized functions. Furthermore, by loading modules and packages, functions from those are added to the environment."
   ]
  },
  {
   "cell_type": "markdown",
   "metadata": {},
   "source": [
    "#### Built-in functions\n",
    "Here, only some built-in functions are shown. A comprehensive list can be found for at [[7]](#python2020)."
   ]
  },
  {
   "cell_type": "code",
   "execution_count": 49,
   "metadata": {},
   "outputs": [
    {
     "data": {
      "text/plain": [
       "42"
      ]
     },
     "execution_count": 49,
     "metadata": {},
     "output_type": "execute_result"
    }
   ],
   "source": [
    "# Absolute value\n",
    "abs(-42)"
   ]
  },
  {
   "cell_type": "code",
   "execution_count": 50,
   "metadata": {},
   "outputs": [
    {
     "data": {
      "text/plain": [
       "7.0"
      ]
     },
     "execution_count": 50,
     "metadata": {},
     "output_type": "execute_result"
    }
   ],
   "source": [
    "# Float/decimal\n",
    "float(7)"
   ]
  },
  {
   "cell_type": "code",
   "execution_count": 51,
   "metadata": {},
   "outputs": [
    {
     "name": "stdout",
     "output_type": "stream",
     "text": [
      "Help on built-in function print in module builtins:\n",
      "\n",
      "print(...)\n",
      "    print(value, ..., sep=' ', end='\\n', file=sys.stdout, flush=False)\n",
      "    \n",
      "    Prints the values to a stream, or to sys.stdout by default.\n",
      "    Optional keyword arguments:\n",
      "    file:  a file-like object (stream); defaults to the current sys.stdout.\n",
      "    sep:   string inserted between values, default a space.\n",
      "    end:   string appended after the last value, default a newline.\n",
      "    flush: whether to forcibly flush the stream.\n",
      "\n"
     ]
    }
   ],
   "source": [
    "# Help on a function\n",
    "help(print)"
   ]
  },
  {
   "cell_type": "code",
   "execution_count": 52,
   "metadata": {},
   "outputs": [
    {
     "data": {
      "text/plain": [
       "42"
      ]
     },
     "execution_count": 52,
     "metadata": {},
     "output_type": "execute_result"
    }
   ],
   "source": [
    "# Integer\n",
    "int(42.7)"
   ]
  },
  {
   "cell_type": "code",
   "execution_count": 53,
   "metadata": {},
   "outputs": [
    {
     "data": {
      "text/plain": [
       "3"
      ]
     },
     "execution_count": 53,
     "metadata": {},
     "output_type": "execute_result"
    }
   ],
   "source": [
    "# Length of list (lists are explained later)\n",
    "len([99, 98, 97])"
   ]
  },
  {
   "cell_type": "code",
   "execution_count": 54,
   "metadata": {},
   "outputs": [
    {
     "data": {
      "text/plain": [
       "3"
      ]
     },
     "execution_count": 54,
     "metadata": {},
     "output_type": "execute_result"
    }
   ],
   "source": [
    "# Maximum of list\n",
    "max([1,2,3])"
   ]
  },
  {
   "cell_type": "code",
   "execution_count": 55,
   "metadata": {},
   "outputs": [
    {
     "data": {
      "text/plain": [
       "1"
      ]
     },
     "execution_count": 55,
     "metadata": {},
     "output_type": "execute_result"
    }
   ],
   "source": [
    "# Minimum of list\n",
    "min([1,2,3])"
   ]
  },
  {
   "cell_type": "code",
   "execution_count": 56,
   "metadata": {},
   "outputs": [
    {
     "name": "stdout",
     "output_type": "stream",
     "text": [
      "abc\n"
     ]
    }
   ],
   "source": [
    "# Display/print\n",
    "print('abc')"
   ]
  },
  {
   "cell_type": "code",
   "execution_count": 57,
   "metadata": {},
   "outputs": [
    {
     "data": {
      "text/plain": [
       "1.235"
      ]
     },
     "execution_count": 57,
     "metadata": {},
     "output_type": "execute_result"
    }
   ],
   "source": [
    "# Round decimals\n",
    "round(1.23456, 3)"
   ]
  },
  {
   "cell_type": "code",
   "execution_count": 58,
   "metadata": {},
   "outputs": [
    {
     "data": {
      "text/plain": [
       "'7'"
      ]
     },
     "execution_count": 58,
     "metadata": {},
     "output_type": "execute_result"
    }
   ],
   "source": [
    "# Strings\n",
    "str(7)"
   ]
  },
  {
   "cell_type": "code",
   "execution_count": 59,
   "metadata": {},
   "outputs": [
    {
     "data": {
      "text/plain": [
       "6"
      ]
     },
     "execution_count": 59,
     "metadata": {},
     "output_type": "execute_result"
    }
   ],
   "source": [
    "# Sum up items\n",
    "sum([1, 2, 3])"
   ]
  },
  {
   "cell_type": "markdown",
   "metadata": {},
   "source": [
    "#### Customized functions\n",
    "In order to define and use own functions, the user first has to specifiy what the function should do."
   ]
  },
  {
   "cell_type": "code",
   "execution_count": 60,
   "metadata": {},
   "outputs": [],
   "source": [
    "def cust_function(param_a, param_b, param_c):\n",
    "    buffer = param_a + param_b\n",
    "    result = buffer % param_c\n",
    "    return result"
   ]
  },
  {
   "cell_type": "markdown",
   "metadata": {},
   "source": [
    "After the definition of a function, it can be called by the name and - if necessary - the parameters."
   ]
  },
  {
   "cell_type": "code",
   "execution_count": 61,
   "metadata": {},
   "outputs": [
    {
     "data": {
      "text/plain": [
       "0"
      ]
     },
     "execution_count": 61,
     "metadata": {},
     "output_type": "execute_result"
    }
   ],
   "source": [
    "cust_function(1, 2, 3)"
   ]
  },
  {
   "cell_type": "markdown",
   "metadata": {},
   "source": [
    "The parameters can also be set with default values."
   ]
  },
  {
   "cell_type": "code",
   "execution_count": 62,
   "metadata": {},
   "outputs": [
    {
     "data": {
      "text/plain": [
       "3"
      ]
     },
     "execution_count": 62,
     "metadata": {},
     "output_type": "execute_result"
    }
   ],
   "source": [
    "def cust_function_default(param_a = 11, param_b = 7, param_c = 5):\n",
    "    buffer = param_a + param_b\n",
    "    result = buffer % param_c\n",
    "    return result\n",
    "\n",
    "cust_function_default()"
   ]
  },
  {
   "cell_type": "code",
   "execution_count": 63,
   "metadata": {},
   "outputs": [
    {
     "data": {
      "text/plain": [
       "0"
      ]
     },
     "execution_count": 63,
     "metadata": {},
     "output_type": "execute_result"
    }
   ],
   "source": [
    "cust_function_default(1, 2, 3)"
   ]
  },
  {
   "cell_type": "markdown",
   "metadata": {},
   "source": [
    "#### Exercises\n",
    "1. Find out with ``help()`` what the built-in function ``eval()`` does.\n",
    "2. Use ``eval()`` in order to calculate the circumference of the circle from the exercise above.\n",
    "3. Calculate the hexadecimal representation of the number 42.\n",
    "4. Create a list by a statement like this: ``l = [1, 2, 3]``. Your list should contain at least five float values. Get the minimum and maximum value of your list with built-in functions.\n",
    "5. Create a list ``long_list`` of sequential numbers starting with 5 and ending with 15. Use the functions ``range()`` and ``list()``.\n",
    "6. Calculate the sum of all elements of ``long_list``.\n",
    "7. Define a function ``specific_list_values()`` which takes a list and returns a list. The returning list should have the following elements in this order: length of list, sum of list elements, minimum value, maximum value, the sum of elements to the power of 3. Test your function."
   ]
  },
  {
   "cell_type": "code",
   "execution_count": 64,
   "metadata": {},
   "outputs": [
    {
     "name": "stdout",
     "output_type": "stream",
     "text": [
      "Help on built-in function eval in module builtins:\n",
      "\n",
      "eval(source, globals=None, locals=None, /)\n",
      "    Evaluate the given source in the context of globals and locals.\n",
      "    \n",
      "    The source may be a string representing a Python expression\n",
      "    or a code object as returned by compile().\n",
      "    The globals must be a dictionary and locals can be any mapping,\n",
      "    defaulting to the current globals and locals.\n",
      "    If only globals is given, locals defaults to it.\n",
      "\n"
     ]
    }
   ],
   "source": [
    "help(eval)"
   ]
  },
  {
   "cell_type": "code",
   "execution_count": 65,
   "metadata": {},
   "outputs": [
    {
     "data": {
      "text/plain": [
       "31.415000000000003"
      ]
     },
     "execution_count": 65,
     "metadata": {},
     "output_type": "execute_result"
    }
   ],
   "source": [
    "pythonstring = 'pi * 2 * 5'\n",
    "eval(pythonstring)"
   ]
  },
  {
   "cell_type": "code",
   "execution_count": 66,
   "metadata": {},
   "outputs": [
    {
     "data": {
      "text/plain": [
       "'0x2a'"
      ]
     },
     "execution_count": 66,
     "metadata": {},
     "output_type": "execute_result"
    }
   ],
   "source": [
    "hex(42)"
   ]
  },
  {
   "cell_type": "code",
   "execution_count": 67,
   "metadata": {},
   "outputs": [],
   "source": [
    "own_list = [0.1, 0.2, 1.3, 2.4, 2.4789]"
   ]
  },
  {
   "cell_type": "code",
   "execution_count": 68,
   "metadata": {},
   "outputs": [
    {
     "data": {
      "text/plain": [
       "0.1"
      ]
     },
     "execution_count": 68,
     "metadata": {},
     "output_type": "execute_result"
    }
   ],
   "source": [
    "min(own_list)"
   ]
  },
  {
   "cell_type": "code",
   "execution_count": 69,
   "metadata": {},
   "outputs": [
    {
     "data": {
      "text/plain": [
       "2.4789"
      ]
     },
     "execution_count": 69,
     "metadata": {},
     "output_type": "execute_result"
    }
   ],
   "source": [
    "max(own_list)"
   ]
  },
  {
   "cell_type": "code",
   "execution_count": 70,
   "metadata": {},
   "outputs": [
    {
     "name": "stdout",
     "output_type": "stream",
     "text": [
      "[5, 6, 7, 8, 9, 10, 11, 12, 13, 14, 15]\n"
     ]
    }
   ],
   "source": [
    "long_list = list(range(5, 16))\n",
    "print(long_list)"
   ]
  },
  {
   "cell_type": "code",
   "execution_count": 71,
   "metadata": {},
   "outputs": [
    {
     "data": {
      "text/plain": [
       "110"
      ]
     },
     "execution_count": 71,
     "metadata": {},
     "output_type": "execute_result"
    }
   ],
   "source": [
    "sum(long_list)"
   ]
  },
  {
   "cell_type": "code",
   "execution_count": 72,
   "metadata": {},
   "outputs": [
    {
     "data": {
      "text/plain": [
       "[11, 110, 5, 15, 1331000]"
      ]
     },
     "execution_count": 72,
     "metadata": {},
     "output_type": "execute_result"
    }
   ],
   "source": [
    "def specific_list_values(l):\n",
    "    return [len(l),\n",
    "            sum(l),\n",
    "            min(l),\n",
    "            max(l),\n",
    "            pow(sum(l), 3)]\n",
    "\n",
    "specific_list_values(long_list)"
   ]
  },
  {
   "cell_type": "markdown",
   "metadata": {},
   "source": [
    "#### Conditions and recursion\n",
    "As a normal case, almost all computer programs, even those that are only slightly more complex or useful, contain processes that depend on conditions or include loops. Of course Python also provides such functionalities."
   ]
  },
  {
   "cell_type": "markdown",
   "metadata": {},
   "source": [
    "As a check for a condition the ``if`` statement can be used, which can be supplemented with ``else`` or ``elif`` if necessary."
   ]
  },
  {
   "cell_type": "code",
   "execution_count": 73,
   "metadata": {},
   "outputs": [
    {
     "name": "stdout",
     "output_type": "stream",
     "text": [
      "This is true!\n"
     ]
    }
   ],
   "source": [
    "control = True\n",
    "\n",
    "if control:\n",
    "    print('This is true!')"
   ]
  },
  {
   "cell_type": "code",
   "execution_count": 74,
   "metadata": {},
   "outputs": [],
   "source": [
    "number = 10\n",
    "\n",
    "if number < 5:\n",
    "    print('This is a small number.')"
   ]
  },
  {
   "cell_type": "code",
   "execution_count": 75,
   "metadata": {},
   "outputs": [
    {
     "name": "stdout",
     "output_type": "stream",
     "text": [
      "The value is even.\n"
     ]
    }
   ],
   "source": [
    "if number%2 == 0:\n",
    "    print('The value is even.')\n",
    "else:\n",
    "    print('The value is odd.')"
   ]
  },
  {
   "cell_type": "code",
   "execution_count": 76,
   "metadata": {},
   "outputs": [
    {
     "name": "stdout",
     "output_type": "stream",
     "text": [
      "b is greater than a.\n"
     ]
    }
   ],
   "source": [
    "a = 2\n",
    "b = 3\n",
    "\n",
    "if a > b:\n",
    "    print('a is greater than b.')\n",
    "elif a < b:\n",
    "    print('b is greater than a.')\n",
    "else:\n",
    "    print('a and b are equal.')"
   ]
  },
  {
   "cell_type": "markdown",
   "metadata": {},
   "source": [
    "#### Exercises\n",
    "Exercise from [[4, p.48]](#downey2015):\n",
    "1. Fermat's Last Theorem says that there are no positive integers a, b, and c such that $a^n + b^n = c^n$ for any values of $n$ greater than 2. Write a function named ``check_fermat()`` that takes four parameters ($a$, $b$, $c$ and $n$) and checks to see if Fermat’s theorem holds. If $n$ is greater than 2 and $a^n + b^n = c^n$ the program should print, \"Holy smokes, Fermat was wrong!\" Otherwise the program should print, \"No, that doesn’t work.\"\n",
    "2. What does the following function ``recurse()`` do? What happens for different values of $n$ and $s$? Write a docstring (and research upfront what this refers to in terms of functions) that explains everything someone would need to know in order to use this function (and nothing else)."
   ]
  },
  {
   "cell_type": "code",
   "execution_count": 3,
   "metadata": {},
   "outputs": [
    {
     "name": "stdout",
     "output_type": "stream",
     "text": [
      "No, that doesn't work.\n"
     ]
    }
   ],
   "source": [
    "def check_fermat(a, b, c, n):\n",
    "    if ((a**n + b**n == c**n) and n>2):\n",
    "        print('Holy smokes, Fermat was wrong!')\n",
    "    else: print(\"No, that doesn't work.\")\n",
    "\n",
    "check_fermat(2,3,4,15) "
   ]
  },
  {
   "cell_type": "code",
   "execution_count": 6,
   "metadata": {},
   "outputs": [],
   "source": [
    "def recurse(n, s):\n",
    "    \"\"\"\n",
    "    This is a recursive function\n",
    "    \"\"\"\n",
    "    if n == 0:\n",
    "        print(s)\n",
    "    else:\n",
    "        recurse(n-1, n+s)"
   ]
  },
  {
   "cell_type": "code",
   "execution_count": 5,
   "metadata": {},
   "outputs": [
    {
     "name": "stdout",
     "output_type": "stream",
     "text": [
      "65\n"
     ]
    }
   ],
   "source": [
    "recurse(10, 10)"
   ]
  },
  {
   "cell_type": "code",
   "execution_count": 7,
   "metadata": {},
   "outputs": [
    {
     "name": "stdout",
     "output_type": "stream",
     "text": [
      "Help on function recurse in module __main__:\n",
      "\n",
      "recurse(n, s)\n",
      "    This is a recursive function\n",
      "\n"
     ]
    }
   ],
   "source": [
    "help(recurse)"
   ]
  },
  {
   "cell_type": "markdown",
   "metadata": {},
   "source": [
    "### References<a class=\"anchor\" id=\"references\"></a>"
   ]
  },
  {
   "cell_type": "markdown",
   "metadata": {},
   "source": [
    "[1]<a class=\"anchor\" id=\"la2018\"></a> La, F. (2018). Artificially Intelligent - Using Jupyter Notebooks. Retrieved 2020-03-26 from https://docs.microsoft.com/en-us/archive/msdn-magazine/2018/february/artificially-intelligent-using-jupyter-notebooks"
   ]
  },
  {
   "cell_type": "markdown",
   "metadata": {},
   "source": [
    "[2]<a class=\"anchor\" id=\"jupyter2020\"></a> Project Jupyter (2020). Overview. Retrieved 2020-03-26 from https://jupyterlab.readthedocs.io/en/stable/getting_started/overview.html"
   ]
  },
  {
   "cell_type": "markdown",
   "metadata": {},
   "source": [
    "[3]<a class=\"anchor\" id=\"gruber2004\"></a> Gruber, J. (2004). Markdown. Retrieved 2020-03-26 from https://daringfireball.net/projects/markdown/"
   ]
  },
  {
   "cell_type": "markdown",
   "metadata": {},
   "source": [
    "[4]<a class=\"anchor\" id=\"downey2015\"></a> Downey, A. (2015). *Think Python - How to think like a computer scientist* (2nd ed.). Green Tea Press. Retrieved 2020-03-26 from http://greenteapress.com/thinkpython2/thinkpython2.pdf"
   ]
  },
  {
   "cell_type": "markdown",
   "metadata": {},
   "source": [
    "[5]<a class=\"anchor\" id=\"reitz2016\"></a> Reitz, K., & Schlusser, T. (2016). *The Hitchhiker's Guide to Python: Best Practices for Development*. O'Reilly Media, Inc."
   ]
  },
  {
   "cell_type": "markdown",
   "metadata": {},
   "source": [
    "[6]<a class=\"anchor\" id=\"learnpython2020\"></a> learnpython.org (2020). Modules and Packages. Retrieved 2020-03-26 from https://www.learnpython.org/en/Modules_and_Packages"
   ]
  },
  {
   "cell_type": "markdown",
   "metadata": {},
   "source": [
    "[7]<a class=\"anchor\" id=\"python2020\"></a> The Python Standard Library (2020). Built-in functions. Retrieved 2020-03-26 from https://docs.python.org/3/library/functions.html"
   ]
  }
 ],
 "metadata": {
  "kernelspec": {
   "display_name": "Python 3",
   "language": "python",
   "name": "python3"
  },
  "language_info": {
   "codemirror_mode": {
    "name": "ipython",
    "version": 3
   },
   "file_extension": ".py",
   "mimetype": "text/x-python",
   "name": "python",
   "nbconvert_exporter": "python",
   "pygments_lexer": "ipython3",
   "version": "3.7.4"
  }
 },
 "nbformat": 4,
 "nbformat_minor": 4
}
