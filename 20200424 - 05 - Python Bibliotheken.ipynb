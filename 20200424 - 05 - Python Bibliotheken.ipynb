{
 "cells": [
  {
   "cell_type": "markdown",
   "metadata": {},
   "source": [
    "<div style=\"width:image width px; font-size:75%; text-align:right;\">\n",
    "    <img src=\"img/python_mahesh-ranaweera_unsplash.jpg\" width=\"width\" height=\"height\" style=\"padding-bottom:0.2em;\" />\n",
    "    <figcaption>Photo by Mahesh Ranaweera on Unsplash</figcaption>\n",
    "</div>"
   ]
  },
  {
   "cell_type": "markdown",
   "metadata": {},
   "source": [
    "# Python libraries\n",
    "\n",
    "**Applied Programming - Summer term 2020 - FOM Hochschule für Oekonomie und Management - Cologne**\n",
    "\n",
    "**Lecture 05 - April 24, 2020**"
   ]
  },
  {
   "cell_type": "markdown",
   "metadata": {},
   "source": [
    "## Table of contents\n",
    "* [Introduction](#introduction)\n",
    "* [NumPy](#numpy)\n",
    "    * [n-dimensional arrays](#numpy_array)\n",
    "    * [Indexing, slicing and dicing](#numpy_indexing)\n",
    "    * [Additional online literature](#numpy_lit)\n",
    "* [pandas](#pandas)\n",
    "    * [Data structures](#pandas_datastructures)\n",
    "    * [Import and export data](#pandas_io)\n",
    "    * [Slicing and dicing](#pandas_slicingdicing)\n",
    "    * [Combining datasets](#pandas_combine)\n",
    "    * [Plots](#pandas_plots)\n",
    "    * [Additional online literature](#pandas_lit)\n",
    "* [Matplotlib](#matplotlib)\n",
    "    * [Import](#matplotlib_import)\n",
    "    * [First, simple plots](#matplotlib_firstplots)\n",
    "    * [Styles and organization of multiple plots](#matplotlib_styles)\n",
    "    * [Other types of plots](#matplotlib_other)\n",
    "    * [Additional online literature](#matplotlib_lit)\n",
    "* [Scikit-learn](#sklearn)\n",
    "    * [Online literature](#sklearn_lit)\n",
    "* [Keras](#keras)\n",
    "    * [Online literature](#keras_lit)\n",
    "* [References](#references)"
   ]
  },
  {
   "cell_type": "markdown",
   "metadata": {},
   "source": [
    "<hr>"
   ]
  },
  {
   "cell_type": "markdown",
   "metadata": {},
   "source": [
    "## Introduction<a class=\"anchor\" id=\"introduction\"></a>\n",
    "The aim of this lecture is to teach applied programming for the purpose of (advanced) data analysis and in the field of data science. The course is therefore very practice-oriented and less focused on the detailed consideration of all theoretical principles. Therefore the contents are mostly covered by means of programming examples and exercises.\n",
    "\n",
    "For the following introduction of Python libraries, this means that the course does not go into all details. Rather, the general applications of a package are to be pointed out in order to then work out and practice the most common and/or most important functionalities with practical examples. At the end of each chapter, students are therefore provided with links to further online material to work on more in-depth topics of their own interest."
   ]
  },
  {
   "cell_type": "markdown",
   "metadata": {},
   "source": [
    "<hr>"
   ]
  },
  {
   "cell_type": "markdown",
   "metadata": {},
   "source": [
    "<div style=\"width:image width px; font-size:75%; text-align:right;\">\n",
    "    <img src=\"img/numpy_header.png\" width=\"width\" height=\"height\" style=\"padding-bottom:0.2em;\" />\n",
    "    <copyright>Copyright © 2005 NumPy Developers, licensed under  <a href=\"https://opensource.org/licenses/BSD-3-Clause\">BSD</a></copyright>\n",
    "</div>\n",
    "<a class=\"anchor\" id=\"numpy\"></a>"
   ]
  },
  {
   "cell_type": "markdown",
   "metadata": {},
   "source": [
    "## NumPy\n",
    "> *NumPy is the fundamental package for scientific computing with Python. [...]* [[1]](#numpy2020a)\n",
    "\n",
    "NumPy is the basis for many other Python packages, such as pandas, and provides them data structures and functions for numerical calculations (hence the package name).\n",
    "\n",
    "Important features of the NumPy library are:\n",
    "* Powerful N-dimensional array object ``ndarray``\n",
    "* Mathematical and logical operations on arrays\n",
    "* Generators for random numbers\n",
    "* Fourier transform, trigonometric, statistical and algebraic routines"
   ]
  },
  {
   "cell_type": "code",
   "execution_count": null,
   "metadata": {},
   "outputs": [],
   "source": [
    "import numpy as np\n",
    "\n",
    "# We will use random generators later, for comparability reasons set seed\n",
    "np.random.seed(42)"
   ]
  },
  {
   "cell_type": "markdown",
   "metadata": {},
   "source": [
    "### n-dimensional arrays<a class=\"anchor\" id=\"numpy_array\"></a>\n",
    "In NumPy, arrays of any size can be created simply by entering the appropriate values. These can be in the form of lists or tuples among others. Furthermore, there are additional functions that generate standard or placeholder arrays according to certain specifications."
   ]
  },
  {
   "cell_type": "code",
   "execution_count": null,
   "metadata": {},
   "outputs": [],
   "source": [
    "# Create 1D-array based on list (vector-like)\n",
    "array1D = np.array([1, 2, 3, 4, 5])\n",
    "\n",
    "array1D\n",
    "#print(array1D)"
   ]
  },
  {
   "cell_type": "code",
   "execution_count": null,
   "metadata": {},
   "outputs": [],
   "source": [
    "# Tuple can also be the basis for creation\n",
    "array1D = np.array((1, 2, 3, 4, 5))\n",
    "array1D"
   ]
  },
  {
   "cell_type": "code",
   "execution_count": null,
   "metadata": {},
   "outputs": [],
   "source": [
    "# Create 2D-array based on list of lists (table/matrix-like)\n",
    "array2D = np.array([[1, 2], [3, 4], [4, 5], [6, 7]])\n",
    "print(array2D)"
   ]
  },
  {
   "cell_type": "code",
   "execution_count": null,
   "metadata": {},
   "outputs": [],
   "source": [
    "# Create 3D-array based on list of lists of tuples (cube-like)\n",
    "array3D = np.array([[(9.1, 8.2, 7.3), (6.4, 5.5, 4.6), (3.7, 2.8, 1.9)],\n",
    "                    [(0.1, 0.2, 0.3), (0.4, 0.5, 0.6), (0.7, 0.8, 0.9)]])\n",
    "print(array3D)"
   ]
  },
  {
   "cell_type": "code",
   "execution_count": null,
   "metadata": {},
   "outputs": [],
   "source": [
    "# Create 4D-array based on list of lists of lists of lists (hypercube-like)\n",
    "array4D = np.array([[[[0,0,0],\n",
    "                      [0,0,0],\n",
    "                      [0,0,0]],\n",
    "                     [[0,0,0],\n",
    "                      [0,0,0],\n",
    "                      [0,0,0]],\n",
    "                     [[0,0,0],\n",
    "                      [0,0,0],\n",
    "                      [0,0,0]]],\n",
    "                    [[[0,0,0],\n",
    "                      [0,0,0],\n",
    "                      [0,0,0]],\n",
    "                     [[0,0,0],\n",
    "                      [0,0,0],\n",
    "                      [0,0,0]],\n",
    "                     [[0,0,0],\n",
    "                      [0,0,0],\n",
    "                      [0,0,0]]],\n",
    "                    [[[0,0,0],\n",
    "                      [0,0,0],\n",
    "                      [0,0,0]],\n",
    "                     [[0,0,0],\n",
    "                      [0,0,0],\n",
    "                      [0,0,0]],\n",
    "                     [[0,0,0],\n",
    "                      [0,0,0],\n",
    "                      [0,0,0]]]], dtype = float)\n",
    "print(array4D)"
   ]
  },
  {
   "cell_type": "code",
   "execution_count": null,
   "metadata": {},
   "outputs": [],
   "source": [
    "# Create placeholder arrays\n",
    "arrayZeros = np.zeros((5, 4, 3, 2))               # fill specificed dimensions with zeros\n",
    "arrayOnes = np.ones((3, 3))                       # fill specificed dimensions with ones\n",
    "arrayConstant = np.full((3, 3, 3), 3.1415)        # fill specificed dimensions with constant value\n",
    "arrayIdentity = np.eye(3)                         # create identity map (2D) with specified size\n",
    "arrayRandom = np.random.random((2, 2, 2))         # fill specified dimensions with random numbers\n",
    "arrayRandInt = np.random.randint(0, 100, (3, 3))  # fill specified dimensions with random integers\n",
    "arrayNormal = np.random.normal(0, 1, (3, 3))      # fill specified dimensions with normally distributed numbers\n",
    "# For more information on random number generator functions see [2]."
   ]
  },
  {
   "cell_type": "code",
   "execution_count": null,
   "metadata": {},
   "outputs": [],
   "source": [
    "print(arrayZeros)"
   ]
  },
  {
   "cell_type": "code",
   "execution_count": null,
   "metadata": {},
   "outputs": [],
   "source": [
    "# Usage of some inspection functions\n",
    "print(arrayNormal.dtype)\n",
    "print(arrayNormal.size)\n",
    "print(arrayNormal.ndim)\n",
    "print(arrayNormal.shape)"
   ]
  },
  {
   "cell_type": "markdown",
   "metadata": {},
   "source": [
    "### Indexing, slicing and dicing<a class=\"anchor\" id=\"numpy_indexing\"></a>\n",
    "Arrays are accessed by specifying the indexes after the array name in square brackets - as we already know from the standard Python container ``list``."
   ]
  },
  {
   "cell_type": "code",
   "execution_count": null,
   "metadata": {},
   "outputs": [],
   "source": [
    "# Inspect the following array\n",
    "print(arrayNormal)"
   ]
  },
  {
   "cell_type": "code",
   "execution_count": null,
   "metadata": {},
   "outputs": [],
   "source": [
    "# Get second row, so index is 1, no specification of columns\n",
    "arrayNormal[1]"
   ]
  },
  {
   "cell_type": "code",
   "execution_count": null,
   "metadata": {
    "scrolled": true
   },
   "outputs": [],
   "source": [
    "# Get first column, use wildcard for rows\n",
    "arrayNormal[:, 0]"
   ]
  },
  {
   "cell_type": "code",
   "execution_count": null,
   "metadata": {},
   "outputs": [],
   "source": [
    "# Slice second and third element in last row\n",
    "arrayNormal[-1, 1:3]"
   ]
  },
  {
   "cell_type": "code",
   "execution_count": null,
   "metadata": {},
   "outputs": [],
   "source": [
    "# Select elements based on boolean expression\n",
    "print(arrayNormal > 0)\n",
    "print(arrayNormal[arrayNormal > 0])"
   ]
  },
  {
   "cell_type": "code",
   "execution_count": null,
   "metadata": {},
   "outputs": [],
   "source": [
    "# Selecting elements in arrays with more than 2 dimensions\n",
    "array3D[0:2, :, 1]"
   ]
  },
  {
   "cell_type": "markdown",
   "metadata": {},
   "source": [
    "#### Fancy indexing\n",
    "> *Fancy indexing is conceptually simple: it means passing an array of indices to access multiple arrayelements at once, [...].* [[3]](#vanderplas2016)\n",
    "\n",
    "NumPy implements a method to access arrays, which is called *fancy indexing*. In this method, no numerical indexes are passed directly when the indexing is called, but lists of index values or variables that have stored them. Simple and fancy indexing can also be used in combination."
   ]
  },
  {
   "cell_type": "code",
   "execution_count": null,
   "metadata": {},
   "outputs": [],
   "source": [
    "# Inspect the following array\n",
    "print(arrayRandInt)"
   ]
  },
  {
   "cell_type": "code",
   "execution_count": null,
   "metadata": {},
   "outputs": [],
   "source": [
    "sel1 = [1]\n",
    "sel2 = [0, 2]\n",
    "sel3 = [True, True, False]\n",
    "sel4 = np.where(arrayRandInt > 50)\n",
    "sel4"
   ]
  },
  {
   "cell_type": "code",
   "execution_count": null,
   "metadata": {},
   "outputs": [],
   "source": [
    "arrayRandInt[sel4]"
   ]
  },
  {
   "cell_type": "markdown",
   "metadata": {},
   "source": [
    "#### Exercise\n",
    "1. Without running the code below, please consider the following fancy indexing.\n",
    "```python\n",
    "arrayRandInt[[1, 0, 1]][:, [1, 2, 0]]\n",
    "```\n",
    "What result do you expect? Once you have formed a reasoned opinion, run the code in the cell below and check your expectation. *Make sure you understand exactly how it works!*"
   ]
  },
  {
   "cell_type": "markdown",
   "metadata": {},
   "source": [
    "2. Create a variable and assign the following NumPy-array to it.\n",
    "```python\n",
    "array([[6, 1, 8],\n",
    "          [4, 3, 7],\n",
    "          [9, 5, 2]])\n",
    "```\n",
    "Implement a fancy indexing according to the first exercise to achieve the following result:\n",
    "```python\n",
    "array([[8, 1, 8],\n",
    "          [1, 8, 1],\n",
    "          [8, 1, 8]])\n",
    "```"
   ]
  },
  {
   "cell_type": "markdown",
   "metadata": {},
   "source": [
    "### Additional online literature<a class=\"anchor\" id=\"numpy_lit\"></a>\n",
    "* Ehi Aigiomawu: <a href=\"https://towardsdatascience.com/lets-talk-about-numpy-for-datascience-beginners-b8088722309f\">Let’s talk about NumPy — for data science beginners</a>\n",
    "* Farhad Malik: <a href=\"https://medium.com/fintechexplained/why-should-we-use-numpy-c14a4fb03ee9\">Why Should We Use NumPy?</a>\n",
    "* Roshan Rush: <a href=\"https://www.youtube.com/watch?v=o8fmjaW9a0A\">NumPy basics - IPython Notebook tutorial</a>\n",
    "* Justin Johnson: <a href=\"https://cs231n.github.io/python-numpy-tutorial/\">Python NumPy tutorial</a>"
   ]
  },
  {
   "cell_type": "markdown",
   "metadata": {},
   "source": [
    "<hr>"
   ]
  },
  {
   "cell_type": "markdown",
   "metadata": {},
   "source": [
    "<div style=\"width:image width px; font-size:75%; text-align:right;\">\n",
    "    <img src=\"img/pandas_header.png\" width=\"width\" height=\"height\" style=\"padding-bottom:0.2em;\" />\n",
    "    <copyright>Copyright © 2008 AQR Capital Management, LLC, Lambda Foundry, Inc. and PyData Development Team, licensed under  <a href=\"https://opensource.org/licenses/BSD-3-Clause\">BSD</a></copyright>\n",
    "</div>\n",
    "<a class=\"anchor\" id=\"pandas\"></a>"
   ]
  },
  {
   "cell_type": "markdown",
   "metadata": {},
   "source": [
    "## pandas\n",
    "> *pandas is a fast, powerful, flexible and easy to use open source data analysis and manipulation tool,\n",
    "built on top of the Python programming language.* [[4]](#pandas2020a)\n",
    "\n",
    "Important features of the pandas library are:\n",
    "* Multidimensional, tabular data object ``DataFrame`` for efficient data manipulation and integrated indices.\n",
    "* Direct import of various source formats such as CSV, Excel or SQL\n",
    "* Routines for pre-processing of the data including handling of missing data\n",
    "* Aggregation, merging and joins of data records\n",
    "* Integrated visualization options"
   ]
  },
  {
   "cell_type": "code",
   "execution_count": null,
   "metadata": {},
   "outputs": [],
   "source": [
    "import pandas as pd"
   ]
  },
  {
   "cell_type": "markdown",
   "metadata": {},
   "source": [
    "### Data structures<a class=\"anchor\" id=\"pandas_datastructures\"></a>\n",
    "pandas introduces two types of data structures/objects: ``Series`` and ``DataFrame``. ``Series`` is a one-dimensional array with indices. ``DataFrame`` is a two-dimensional, so table-like structure. The various columns can store data of different types."
   ]
  },
  {
   "cell_type": "markdown",
   "metadata": {},
   "source": [
    "#### Series"
   ]
  },
  {
   "cell_type": "code",
   "execution_count": null,
   "metadata": {},
   "outputs": [],
   "source": [
    "# Without specifying an index, a sequence of integers is used as index\n",
    "starts = pd.Series([1949, 1963, 1966, 1969, 1974, 1982, 1998, 2005])\n",
    "starts"
   ]
  },
  {
   "cell_type": "code",
   "execution_count": null,
   "metadata": {},
   "outputs": [],
   "source": [
    "# Specify indices\n",
    "starts = pd.Series([1949, 1963, 1966, 1969, 1974, 1982, 1998, 2005],\n",
    "                   index = ['Adenauer', 'Erhard', 'Kiesinger', 'Brandt',\n",
    "                            'Schmidt', 'Kohl', 'Schroeder', 'Merkel'])\n",
    "starts"
   ]
  },
  {
   "cell_type": "code",
   "execution_count": null,
   "metadata": {},
   "outputs": [],
   "source": [
    "# Return values/indices\n",
    "print(starts.values)\n",
    "print(starts.index)"
   ]
  },
  {
   "cell_type": "code",
   "execution_count": null,
   "metadata": {},
   "outputs": [],
   "source": [
    "# Access via index\n",
    "starts['Merkel']"
   ]
  },
  {
   "cell_type": "code",
   "execution_count": null,
   "metadata": {},
   "outputs": [],
   "source": [
    "starts[[idx.endswith('r') for idx in starts.index]]"
   ]
  },
  {
   "cell_type": "code",
   "execution_count": null,
   "metadata": {},
   "outputs": [],
   "source": [
    "starts[[idx.startswith('S') for idx in starts.index]]"
   ]
  },
  {
   "cell_type": "markdown",
   "metadata": {},
   "source": [
    "#### DataFrame"
   ]
  },
  {
   "cell_type": "code",
   "execution_count": null,
   "metadata": {},
   "outputs": [],
   "source": [
    "chancellors = pd.DataFrame({'start':[1949, 1963, 1966, 1969, 1974, 1982, 1998, 2005],\n",
    "                            'end':[1963, 1966, 1969, 1974, 1982, 1998, 2005, None],\n",
    "                            'surname':['Adenauer', 'Erhard', 'Kiesinger', 'Brandt',\n",
    "                                       'Schmidt', 'Kohl', 'Schroeder', 'Merkel'],\n",
    "                            'prename':['Konrad', 'Ludwig', 'Kurt Georg', 'Willy',\n",
    "                                       'Helmut', 'Helmut', 'Gerhard', 'Angela']})\n",
    "chancellors"
   ]
  },
  {
   "cell_type": "markdown",
   "metadata": {},
   "source": [
    "#### Exercises\n",
    "1. Make an assumption about what the following command does and check your assumptions afterwards.\n",
    "```python\n",
    "chancellors.head(3)\n",
    "```\n",
    "2. Search for the command that processes the data exactly the other way round than in 1.\n",
    "3. Create a ``DataFrame`` with the variable name ``df`` for which you get the result ``(3, 3)`` for the operation\n",
    "```python\n",
    "df.shape\n",
    "```\n",
    "4. Explain the result of ``chancellors.count()``."
   ]
  },
  {
   "cell_type": "markdown",
   "metadata": {},
   "source": [
    "### Import and export data<a class=\"anchor\" id=\"pandas_io\"></a>\n",
    "Different data formats can be imported directly via pandas. The output of results in such formats can also be quickly implemented using pandas functions.\n",
    "\n",
    "*Note: The following data has been obtained through Kaggle from the sites mentioned below:*\n",
    "* *attrition.csv: https://www.kaggle.com/pavansubhasht/ibm-hr-analytics-attrition-dataset*\n",
    "* *pse.xlsx: https://www.kaggle.com/jwaitze/tablesoftheelements*\n",
    "* *baseball.sqlite: https://www.kaggle.com/seanlahman/the-history-of-baseball*"
   ]
  },
  {
   "cell_type": "code",
   "execution_count": null,
   "metadata": {
    "scrolled": true
   },
   "outputs": [],
   "source": [
    "# Import routine - in this case from csv - creates DataFrame directly\n",
    "attrition = pd.read_csv('dat/attrition.csv')\n",
    "attrition.head()"
   ]
  },
  {
   "cell_type": "code",
   "execution_count": null,
   "metadata": {},
   "outputs": [],
   "source": [
    "# DataFrame can be exported directly to csv-files\n",
    "attrition.to_csv('dat/attrition_out.csv')"
   ]
  },
  {
   "cell_type": "code",
   "execution_count": null,
   "metadata": {},
   "outputs": [],
   "source": [
    "pse = pd.read_excel('dat/pse.xlsx')\n",
    "pse.tail()"
   ]
  },
  {
   "cell_type": "code",
   "execution_count": null,
   "metadata": {},
   "outputs": [],
   "source": [
    "pse.to_excel('dat/pse_out.xlsx', sheet_name = 'Output')"
   ]
  },
  {
   "cell_type": "code",
   "execution_count": null,
   "metadata": {},
   "outputs": [],
   "source": [
    "import sqlite3\n",
    "\n",
    "con_obj = sqlite3.connect('dat/baseball.sqlite')\n",
    "c = con_obj.cursor()\n",
    "\n",
    "baseball = pd.read_sql_query(\"\"\"\n",
    "SELECT   *\n",
    "FROM     park\n",
    "\"\"\", con_obj)\n",
    "\n",
    "con_obj.close()\n",
    "\n",
    "baseball.head()"
   ]
  },
  {
   "cell_type": "markdown",
   "metadata": {},
   "source": [
    "A comprehensive overview of reader and writer routines in pandas can be found at [[5]](#pandas2020b)."
   ]
  },
  {
   "cell_type": "markdown",
   "metadata": {},
   "source": [
    "### Slicing and dicing<a class=\"anchor\" id=\"pandas_slicingdicing\"></a>\n",
    "pandas offers special, optimized methods for data access. The following paragraph is quoted in this regard from the pandas documentation:\n",
    "> *The Python and NumPy indexing operators ``[]`` and attribute operator ``.`` provide quick and easy access to pandas data structures across a wide range of use cases. This makes interactive work intuitive, as there’s little new to learn if you already know how to deal with Python dictionaries and NumPy arrays. However, since the type of the data to be accessed isn’t known in advance, directly using standard operators has some optimization limits. For production code, we recommended that you take advantage of the optimized pandas data access methods exposed in this chapter.* [[6]](pandas2020c)\n",
    "\n",
    "With this in mind, we will look at the two methods ``loc`` and ``iloc`` and illustrate this with ``DataFrame`` examples.  In addition, we have also a look at Boolean indexing.\n",
    "\n",
    "* For **label-based** selection pandas provides the ``loc`` function. Here, the name of the rows and/or columns have to be specified in order to select the desired output.\n",
    "* The other method is **index-based** selection of rows and/or columns. This is done with the ``iloc`` function where the indices have do be chosen.\n",
    "\n",
    "*Note: A circumstance that may need practice is the use of square brackets for these functions, thus ``loc[...]`` and ``iloc[...]``.*"
   ]
  },
  {
   "cell_type": "markdown",
   "metadata": {},
   "source": [
    "#### Label-based "
   ]
  },
  {
   "cell_type": "code",
   "execution_count": null,
   "metadata": {},
   "outputs": [],
   "source": [
    "# Select rows by label (Attention: the row names/indices of the baseball example are integers, no need to\n",
    "# specify column names)\n",
    "baseball.loc[[2, 4]]"
   ]
  },
  {
   "cell_type": "code",
   "execution_count": null,
   "metadata": {},
   "outputs": [],
   "source": [
    "# Select columns by label (Attention: The wildcard ':' for the rows must be inserted)\n",
    "baseball.loc[:, 'city'].head()"
   ]
  },
  {
   "cell_type": "code",
   "execution_count": null,
   "metadata": {},
   "outputs": [],
   "source": [
    "# Select a subset of rows and columns by label\n",
    "baseball.loc[[10, 12, 15], 'park_name':'city']"
   ]
  },
  {
   "cell_type": "markdown",
   "metadata": {},
   "source": [
    "#### Index-based"
   ]
  },
  {
   "cell_type": "code",
   "execution_count": null,
   "metadata": {},
   "outputs": [],
   "source": [
    "baseball.iloc[[2, 4]]"
   ]
  },
  {
   "cell_type": "code",
   "execution_count": null,
   "metadata": {},
   "outputs": [],
   "source": [
    "baseball.iloc[:, 3].head()"
   ]
  },
  {
   "cell_type": "code",
   "execution_count": null,
   "metadata": {},
   "outputs": [],
   "source": [
    "baseball.iloc[[10, 12, 15], 1:4]"
   ]
  },
  {
   "cell_type": "markdown",
   "metadata": {},
   "source": [
    "#### Boolean indexing"
   ]
  },
  {
   "cell_type": "code",
   "execution_count": null,
   "metadata": {},
   "outputs": [],
   "source": [
    "# Boolean indexing in combination with label-based selection of columns\n",
    "baseball[baseball['state'] == 'GA'].loc[:, 'park_id':'city']"
   ]
  },
  {
   "cell_type": "code",
   "execution_count": null,
   "metadata": {},
   "outputs": [],
   "source": [
    "# Logical connections, dot- and square-bracket-notation for column selection is allowed\n",
    "baseball[(baseball.city == 'Baltimore') | (baseball['city'] == 'Miami')]\n",
    "#baseball[(baseball.city == 'Baltimore') | (baseball['city'] == 'Miami')].reset_index()"
   ]
  },
  {
   "cell_type": "markdown",
   "metadata": {},
   "source": [
    "#### Other useful functions"
   ]
  },
  {
   "cell_type": "code",
   "execution_count": null,
   "metadata": {},
   "outputs": [],
   "source": [
    "# Return an random sample of rows\n",
    "baseball.sample(3)"
   ]
  },
  {
   "cell_type": "code",
   "execution_count": null,
   "metadata": {},
   "outputs": [],
   "source": [
    "# Create missing values\n",
    "baseball_empty = baseball.head(10).copy()\n",
    "baseball_empty.iloc[7:10, [3]] = None\n",
    "baseball_empty"
   ]
  },
  {
   "cell_type": "code",
   "execution_count": null,
   "metadata": {
    "scrolled": true
   },
   "outputs": [],
   "source": [
    "# Drop rows with missing data\n",
    "baseball_empty.dropna()"
   ]
  },
  {
   "cell_type": "markdown",
   "metadata": {},
   "source": [
    "#### Exercises\n",
    "1. Use the data set for the periodic table of elements ``pse``. What is the atomic number of iron (Fe)? Answer the question with a pandas-statement.\n",
    "1. Filter the table for the columns ``name``, ``symbol`` and ``atomic_number``. Only output the ``atomic_number`` up to and including 10 and save a copy of the result in a variable."
   ]
  },
  {
   "cell_type": "markdown",
   "metadata": {},
   "source": [
    "### Combining datasets<a class=\"anchor\" id=\"pandas_combining\"></a>\n",
    "The operations already known from SQL for combining data sets can also be reproduced very easily with panda's functions."
   ]
  },
  {
   "cell_type": "code",
   "execution_count": null,
   "metadata": {},
   "outputs": [],
   "source": [
    "# Filter data like SQL's SELECT\n",
    "attrition_filter = attrition.loc[:, ['Attrition',\n",
    "                                     'Department',\n",
    "                                     'Age',\n",
    "                                     'Education',\n",
    "                                     'EducationField',\n",
    "                                     'DailyRate']].copy()\n",
    "attrition_filter"
   ]
  },
  {
   "cell_type": "code",
   "execution_count": null,
   "metadata": {},
   "outputs": [],
   "source": [
    "education_grades = pd.DataFrame({'EducationIdx':[1, 2, 3, 4, 5],\n",
    "                                 'EducationName':['ungraduate', 'High School', 'Bachelor', 'Master', 'PhD']})\n",
    "education_grades\n",
    "\n",
    "# Merge data like SQL's (LEFT) JOIN\n",
    "attrition_filter.merge(education_grades,\n",
    "                       how = 'left',\n",
    "                       left_on = 'Education',\n",
    "                       right_on = 'EducationIdx')"
   ]
  },
  {
   "cell_type": "code",
   "execution_count": null,
   "metadata": {},
   "outputs": [],
   "source": [
    "# Smaller DataFrames to check all types of join\n",
    "adf = pd.DataFrame({'x1':['A', 'B', 'C'],\n",
    "                    'x2':[1, 2, 3]})\n",
    "bdf = pd.DataFrame({'x1':['A', 'B', 'D'],\n",
    "                    'x3':[True, False, True]})\n",
    "\n",
    "# how = [left, right, inner, outer], merge can also be executed as static method\n",
    "pd.merge(adf, bdf, how = 'right', on = 'x1')"
   ]
  },
  {
   "cell_type": "code",
   "execution_count": null,
   "metadata": {},
   "outputs": [],
   "source": [
    "# Aggregtion like in SQL's GROUP BY\n",
    "attrition_filter.groupby('EducationField').size()"
   ]
  },
  {
   "cell_type": "code",
   "execution_count": null,
   "metadata": {},
   "outputs": [],
   "source": [
    "attrition_filter[['EducationField', 'DailyRate']].groupby('EducationField').mean()"
   ]
  },
  {
   "cell_type": "markdown",
   "metadata": {},
   "source": [
    "An overview of pandas' aggregation function can be found at [[7]](#cmdline2019)."
   ]
  },
  {
   "cell_type": "markdown",
   "metadata": {},
   "source": [
    "### Plots<a class=\"anchor\" id=\"pandas_plots\"></a>\n",
    "pandas offers the possibility to create simple plots without the need to integrate additional packages."
   ]
  },
  {
   "cell_type": "code",
   "execution_count": null,
   "metadata": {},
   "outputs": [],
   "source": [
    "# Set the backend of matplotlib to the 'inline' backend, so output of plotting commands is displayed\n",
    "# inline within frontends like the Jupyter notebook; for more information on this see [8] or in the\n",
    "# next section regarding Matplotlib.\n",
    "%matplotlib inline\n",
    "\n",
    "# Generate arbitrary, artificial time series\n",
    "ts = pd.Series([4,5,-6,-8,5,-2,4,6,-7,3,-2,1,4,-9,5,\n",
    "                8,4,-7,5,4,-8,4,-5,2,-1,2,-3,4,-6,5,\n",
    "                8,-4,6,4,-7,9,-9,5,1,7,-1,2,-5,4,-6,\n",
    "                3,-6,9,8,7,-5,8,-9,6,-2,2,-3,2,-1,2,\n",
    "                5,-4,8,5,8,-5,-2,-2,-1,2,9,8,-6,8,7]).cumsum()\n",
    "\n",
    "# Plot a simple line chart\n",
    "ts.plot()"
   ]
  },
  {
   "cell_type": "code",
   "execution_count": null,
   "metadata": {},
   "outputs": [],
   "source": [
    "# Histogram\n",
    "attrition_filter.EducationField.hist()     # single column\n",
    "#attrition_filter.plot.hist()              # all columns"
   ]
  },
  {
   "cell_type": "code",
   "execution_count": null,
   "metadata": {},
   "outputs": [],
   "source": [
    "# Scatter plot\n",
    "attrition_filter.plot.scatter(x = 'Age',\n",
    "                              y = 'DailyRate')"
   ]
  },
  {
   "cell_type": "markdown",
   "metadata": {},
   "source": [
    "### Additional online literature<a class=\"anchor\" id=\"pandas_lit\"></a>\n",
    "* Chris Fonnesbeck: <a href=\"https://nbviewer.jupyter.org/github/fonnesbeck/Bios8366/blob/master/notebooks/Section2_1-Introduction-to-Pandas.ipynb\">1. Introduction to pandas</a>\n",
    "* Chris Fonnesbeck: <a href=\"https://nbviewer.jupyter.org/github/fonnesbeck/Bios8366/blob/master/notebooks/Section2_2-Pandas-Fundamentals.ipynb\">2. pandas fundamentals</a>\n",
    "* Chris Fonnesbeck: <a href=\"https://nbviewer.jupyter.org/github/fonnesbeck/Bios8366/blob/master/notebooks/Section2_3-Data-Wrangling-with-Pandas.ipynb\">3. Data wrangling with pandas</a>\n",
    "* Yury Kashnitsky: <a href=\"https://www.kaggle.com/kashnitsky/topic-1-exploratory-data-analysis-with-pandas\">Exploratory Data Analysis with Pandas</a>\n",
    "* George McIntire, Brendan Martin, Lauren Washington: <a href=\"https://www.learndatasci.com/tutorials/python-pandas-tutorial-complete-introduction-for-beginners/\">Python pandas tutorial: A complete introduction for beginners</a>\n",
    "* Kevin Markham: <a href=\"https://nbviewer.jupyter.org/github/justmarkham/pandas-videos/blob/master/pandas.ipynb\">Python pandas Q&A video series by Data School</a>"
   ]
  },
  {
   "cell_type": "markdown",
   "metadata": {},
   "source": [
    "<hr>"
   ]
  },
  {
   "cell_type": "markdown",
   "metadata": {},
   "source": [
    "<div style=\"width:image width px; font-size:75%; text-align:right;\">\n",
    "    <img src=\"img/matplotlib_header.png\" width=\"width\" height=\"height\" style=\"padding-bottom:0.2em;\" />\n",
    "    <copyright>Matplotlib logo by the Matplotlib development team</copyright>\n",
    "</div>\n",
    "<a class=\"anchor\" id=\"matplotlib\"></a>"
   ]
  },
  {
   "cell_type": "markdown",
   "metadata": {},
   "source": [
    "## Matplotlib\n",
    "> *Matplotlib is a comprehensive library for creating static, animated, and interactive visualizations in Python. Matplotlib makes easy things easy and hard things possible.* [[9]](#matplotlib2007)\n",
    "\n",
    "Important features of the Matplotlib library are:\n",
    "* Creation of a variety of plots, e.g. bar, scatter, line, heatmap, etc.\n",
    "* Customization of plot properties as color, annotations etc.\n",
    "* Extension of functionalities through supplementary packages such as seaborn [[10]](#seaborn2010)"
   ]
  },
  {
   "cell_type": "markdown",
   "metadata": {},
   "source": [
    "### Import<a class=\"anchor\" id=\"matplotlib_import\"></a>\n",
    "To use the functionality of Matplotlib we have to include the package as we usually do. However, to be precise, we will include a specific module - this is ``pyplot``. ``pyplot`` is a type of interface for using the ``matplotlib`` routines. It is based on the code for visualizations of the programming environment for numerical calculations *MATLAB*. When talking about visualizing something with Matplotlib, in many cases the interface ``pyplot`` is used."
   ]
  },
  {
   "cell_type": "code",
   "execution_count": null,
   "metadata": {},
   "outputs": [],
   "source": [
    "import matplotlib.pyplot as plt"
   ]
  },
  {
   "cell_type": "markdown",
   "metadata": {},
   "source": [
    "To display graphical output under the respective cell in the notebook, it is also necessary to set the graphical backend of ``matplotlib`` to ``inline``. This will display the output in the front end of the Jupyter Notebook, i.e. directly under the respective cell. If you are working with Juypter Notebooks, you can append this command line right at the beginning when importing all required packages and thus set the notebook for the graphical output."
   ]
  },
  {
   "cell_type": "code",
   "execution_count": null,
   "metadata": {},
   "outputs": [],
   "source": [
    "%matplotlib inline"
   ]
  },
  {
   "cell_type": "markdown",
   "metadata": {},
   "source": [
    "### First, simple plots<a class=\"anchor\" id=\"matplotlib_firstplots\"></a>\n",
    "With the ``plot()`` function standard graphs with $x$- and $y$-coordinates can be realized in short time (Matplotlib documentation: https://matplotlib.org/3.1.0/api/_as_gen/matplotlib.pyplot.plot.html#matplotlib.pyplot.plot). The shortest form is to specifiy only a series of values as a line chart."
   ]
  },
  {
   "cell_type": "code",
   "execution_count": null,
   "metadata": {},
   "outputs": [],
   "source": [
    "plt.plot([2,8,4,5,2,9])\n",
    "plt.draw()                 # Redraws the current figure with alle elements and do not output object-related data"
   ]
  },
  {
   "cell_type": "markdown",
   "metadata": {},
   "source": [
    "You will often find the call ``plt.show()`` at the end of a graph compilation. Why it is sufficient/better to use ``plt.draw()`` in a Jupyter Notebook environment is described by Jake VanderPlas [[11]](#vanderplas2016b).\n",
    "\n",
    "You can also specify the $x$ values as first argument and change to a scatter plot or different colors. Furthermore, you can combine multiple plots to one chart."
   ]
  },
  {
   "cell_type": "code",
   "execution_count": null,
   "metadata": {},
   "outputs": [],
   "source": [
    "plt.plot([1,3,4,7,8,9], [2,8,4,5,2,9], 'o')\n",
    "plt.plot([1,3,4,7,8,9], [3,9,5,6,3,10], 'g-.')\n",
    "plt.plot([1,3,4,7,8,9], [4,10,6,7,4,11], 'r+:')\n",
    "plt.plot([1,3,4,7,8,9], [5,11,7,8,5,12], 'yv--')\n",
    "plt.draw()"
   ]
  },
  {
   "cell_type": "markdown",
   "metadata": {},
   "source": [
    "It is possible to adjust the dimensions of the plot, the labels on the axes and the title."
   ]
  },
  {
   "cell_type": "code",
   "execution_count": null,
   "metadata": {},
   "outputs": [],
   "source": [
    "plt.figure(figsize = (18,5))              # specify aspect ratio, width to height\n",
    "plt.plot(ts)                              # ts is a Series object from pandas section\n",
    "plt.xlabel('This is x data')\n",
    "plt.ylabel('Here comes y data')\n",
    "plt.title('This is quite a fancy plot')\n",
    "plt.draw()"
   ]
  },
  {
   "cell_type": "markdown",
   "metadata": {},
   "source": [
    "### Styles and organization of multiple plots<a class=\"anchor\" id=\"matplotlib_styles\"></a>\n",
    "Matplotlib provides a number of predefined styles for graphics [[12]](#matplotlib2018a). Here are a few examples."
   ]
  },
  {
   "cell_type": "code",
   "execution_count": null,
   "metadata": {},
   "outputs": [],
   "source": [
    "plt.style.use('classic')\n",
    "plt.plot(ts)\n",
    "plt.draw()"
   ]
  },
  {
   "cell_type": "code",
   "execution_count": null,
   "metadata": {},
   "outputs": [],
   "source": [
    "plt.style.use('fivethirtyeight')\n",
    "plt.plot(ts)\n",
    "plt.draw()"
   ]
  },
  {
   "cell_type": "code",
   "execution_count": null,
   "metadata": {},
   "outputs": [],
   "source": [
    "plt.style.use('grayscale')\n",
    "plt.plot(ts)\n",
    "plt.draw()"
   ]
  },
  {
   "cell_type": "markdown",
   "metadata": {},
   "source": [
    "To display several plots on top of each other or side by side you can work with subplot() and consecutive numbering."
   ]
  },
  {
   "cell_type": "code",
   "execution_count": null,
   "metadata": {},
   "outputs": [],
   "source": [
    "plt.style.use('default')  # Set style to default\n",
    "\n",
    "ts2 = ts%10               # Generate new Series object\n",
    "\n",
    "plt.subplot(1, 2, 1)      # Subplots in one row and two columns, first object\n",
    "plt.plot(ts)\n",
    "plt.title('The left one')\n",
    "\n",
    "plt.subplot(1, 2, 2)      # Subplots in one row and two columns, second object\n",
    "plt.plot(ts2)\n",
    "plt.title('The right one')\n",
    "\n",
    "plt.draw()"
   ]
  },
  {
   "cell_type": "code",
   "execution_count": null,
   "metadata": {},
   "outputs": [],
   "source": [
    "plt.subplot(2, 1, 1)      # Subplots in two rows and one columns, first object\n",
    "plt.plot(ts)\n",
    "plt.title('The upper one')\n",
    "\n",
    "plt.subplot(2, 1, 2)      # Subplots in two rows and one columns, second object\n",
    "plt.plot(ts2)\n",
    "plt.title('The lower one')\n",
    "\n",
    "plt.draw()"
   ]
  },
  {
   "cell_type": "code",
   "execution_count": null,
   "metadata": {},
   "outputs": [],
   "source": [
    "# Some new Series objects to plot\n",
    "ts3 = np.sqrt(ts)\n",
    "ts4 = (ts2+ts3)/np.sqrt(ts%3)\n",
    "\n",
    "fig, ax = plt.subplots(nrows = 2, ncols = 2, figsize = (8, 6))\n",
    "ax[0, 0].plot(ts)\n",
    "ax[0, 0].set_title('The original')\n",
    "ax[0, 1].plot(ts2, 'r.')\n",
    "ax[0, 1].set_title('The modulo')\n",
    "ax[1, 0].plot(ts3, 'm--')\n",
    "ax[1, 0].set_title('The square root')\n",
    "ax[1, 1].plot(ts4, 'c.-')\n",
    "ax[1, 1].set_title('The complex')\n",
    "plt.draw()"
   ]
  },
  {
   "cell_type": "markdown",
   "metadata": {},
   "source": [
    "### Other types of plots<a class=\"anchor\" id=\"matplotlib_other\"></a>\n",
    "In addition to line and scatter plots, there are a number of other visualization options."
   ]
  },
  {
   "cell_type": "markdown",
   "metadata": {},
   "source": [
    "#### Bar chart\n",
    "Matplotlib documentation: https://matplotlib.org/3.1.0/api/_as_gen/matplotlib.pyplot.bar.html#matplotlib.pyplot.bar"
   ]
  },
  {
   "cell_type": "code",
   "execution_count": null,
   "metadata": {},
   "outputs": [],
   "source": [
    "education = pd.DataFrame(attrition_filter.groupby('EducationField').size()).reset_index().rename(columns={0: 'Count'})\n",
    "education"
   ]
  },
  {
   "cell_type": "code",
   "execution_count": null,
   "metadata": {},
   "outputs": [],
   "source": [
    "plt.bar(education.EducationField, education.Count, color = 'tab:purple')\n",
    "plt.draw()"
   ]
  },
  {
   "cell_type": "code",
   "execution_count": null,
   "metadata": {},
   "outputs": [],
   "source": [
    "plt.barh(education.EducationField, education.Count, color = 'tab:orange')\n",
    "plt.draw()"
   ]
  },
  {
   "cell_type": "markdown",
   "metadata": {},
   "source": [
    "#### Histogram\n",
    "Matplotlib documentation: https://matplotlib.org/3.1.0/api/_as_gen/matplotlib.pyplot.hist.html#matplotlib.pyplot.hist"
   ]
  },
  {
   "cell_type": "code",
   "execution_count": null,
   "metadata": {},
   "outputs": [],
   "source": [
    "education_raw = pd.DataFrame(attrition_filter['EducationField'])\n",
    "education_raw"
   ]
  },
  {
   "cell_type": "code",
   "execution_count": null,
   "metadata": {},
   "outputs": [],
   "source": [
    "plt.hist(ts, bins = 5)\n",
    "plt.draw()"
   ]
  },
  {
   "cell_type": "markdown",
   "metadata": {},
   "source": [
    "#### Box plot\n",
    "Matplotlib documentation: https://matplotlib.org/3.1.0/api/_as_gen/matplotlib.pyplot.boxplot.html#matplotlib.pyplot.boxplot"
   ]
  },
  {
   "cell_type": "code",
   "execution_count": null,
   "metadata": {},
   "outputs": [],
   "source": [
    "plt.subplot(1, 3, 1)\n",
    "plt.boxplot(ts)\n",
    "plt.title('Standard')\n",
    "\n",
    "plt.subplot(1, 3, 2)\n",
    "plt.boxplot(ts, notch = True)\n",
    "plt.title('Notched')\n",
    "\n",
    "plt.subplot(1, 3, 3)\n",
    "plt.boxplot(ts, vert = False)\n",
    "plt.title('Horizontal')\n",
    "\n",
    "plt.draw()"
   ]
  },
  {
   "cell_type": "markdown",
   "metadata": {},
   "source": [
    "### Additional online literature<a class=\"anchor\" id=\"matplotlib_lit\"></a>\n",
    "* Jake VanderPlas: <a href=\"https://jakevdp.github.io/PythonDataScienceHandbook/04.00-introduction-to-matplotlib.html\">Visualization with Matplotlib</a>\n",
    "* Killol Govani: <a href=\"https://towardsdatascience.com/matplotlib-tutorial-learn-basics-of-pythons-powerful-plotting-library-b5d1b8f67596\">Matplotlib Tutorial: Learn basics of Python’s powerful Plotting library</a>\n",
    "* Nicolas P. Rougier: <a href=\"https://github.com/rougier/matplotlib-tutorial\">Matplotlib tutorial</a>"
   ]
  },
  {
   "cell_type": "markdown",
   "metadata": {},
   "source": [
    "<hr>"
   ]
  },
  {
   "cell_type": "markdown",
   "metadata": {},
   "source": [
    "<div style=\"width:image width px; font-size:75%; text-align:right;\">\n",
    "    <img src=\"img/sklearn_header.png\" width=\"width\" height=\"height\" style=\"padding-bottom:0.2em;\" />\n",
    "    <copyright>Copyright © 2012 The scikit-learn developers, licensed under  <a href=\"https://opensource.org/licenses/BSD-3-Clause\">BSD</a></copyright>\n",
    "</div>\n",
    "<a class=\"anchor\" id=\"sklearn\"></a>"
   ]
  },
  {
   "cell_type": "markdown",
   "metadata": {},
   "source": [
    "## scikit-learn\n",
    "> *Scikit-learn is an open source machine learning library that supports supervised and unsupervised learning. It also provides various tools for model fitting, data preprocessing, model selection and evaluation, and many other utilities.* [[13]](#sklearn2020)\n",
    "\n",
    "Important features of the scikit-learn library are:\n",
    "* Supervised and unsupervised learning algorithms\n",
    "* Clean, uniform, and streamlined API\n",
    "* In-depth, well understandable documentation with references to scientific papers"
   ]
  },
  {
   "cell_type": "markdown",
   "metadata": {},
   "source": [
    "### Online literature<a class=\"anchor\" id=\"sklearn_lit\"></a>\n",
    "* Jason Brownlee:  <a href=\"https://machinelearningmastery.com/a-gentle-introduction-to-scikit-learn-a-python-machine-learning-library/\">A gentle introduction to scikit-learn: A Python machine learning library</a>\n",
    "* The scikit-learn developers: <a href=\"https://scikit-learn.org/stable/tutorial/basic/tutorial.html\">An introduction to machine learning with scikit-learn</a>\n",
    "* Jake VanderPlas: <a href=\"https://nbviewer.jupyter.org/github/jakevdp/sklearn_tutorial/blob/master/notebooks/Index.ipynb\">Scikit-learn tutorial</a>\n",
    "* Gilles Louppe: <a href=\"https://github.com/glouppe/tutorials-scikit-learn\">Scikit-learn tutorials</a>\n",
    "* Data School: <a href=\"https://www.dataschool.io/machine-learning-with-scikit-learn/\">Introduction to machine learning in Python with scikit-learn (video series)</a>"
   ]
  },
  {
   "cell_type": "markdown",
   "metadata": {},
   "source": [
    "<hr>"
   ]
  },
  {
   "cell_type": "markdown",
   "metadata": {},
   "source": [
    "<div style=\"width:image width px; font-size:75%; text-align:right;\">\n",
    "    <img src=\"img/keras_header.png\" width=\"width\" height=\"height\" style=\"padding-bottom:0.2em;\" />\n",
    "    <copyright>Keras logo by Francois Chollet</copyright>\n",
    "</div>\n",
    "<a class=\"anchor\" id=\"keras\"></a>"
   ]
  },
  {
   "cell_type": "markdown",
   "metadata": {},
   "source": [
    "## Keras\n",
    "> *Keras is a high-level neural networks API, written in Python and capable of running on top of TensorFlow, CNTK, or Theano. It was developed with a focus on enabling fast experimentation. Being able to go from idea to result with the least possible delay is key to doing good research.* [[14]](#chollet2015)\n",
    "\n",
    "Important features of the scikit-learn library are:\n",
    "* Support of convolutional networks and recurrent networks, as well as combinations of both\n",
    "* CPU and GPU calculations\n",
    "* Modularity of a model so that a sequence of fully configurable modules can be plugged together (neural layers, cost functions, optimizers, etc.)"
   ]
  },
  {
   "cell_type": "markdown",
   "metadata": {},
   "source": [
    "### Online literature<a class=\"anchor\" id=\"keras_lit\"></a>\n",
    "* Jason Brownlee:  <a href=\"https://machinelearningmastery.com/tutorial-first-neural-network-python-keras/\">Your First Deep Learning Project in Python with Keras Step-By-Step</a>\n",
    "* edureka!: <a href=\"https://www.youtube.com/watch?v=XNKeayZW4dY\">Keras Tutorial For Beginners | Creating Deep Learning Models Using Keras In Python</a>\n",
    "* Elite Data Science: <a href=\"https://elitedatascience.com/keras-tutorial-deep-learning-in-python\">Keras Tutorial: The Ultimate Beginner’s Guide to Deep Learning in Python</a>\n",
    "* sentdex: <a href=\"https://www.youtube.com/playlist?list=PLQVvvaa0QuDfhTox0AjmQ6tvTgMBZBEXN\">Deep Learning basics with Python, TensorFlow and Keras</a>"
   ]
  },
  {
   "cell_type": "markdown",
   "metadata": {},
   "source": [
    "<hr>"
   ]
  },
  {
   "cell_type": "markdown",
   "metadata": {},
   "source": [
    "## References"
   ]
  },
  {
   "cell_type": "markdown",
   "metadata": {},
   "source": [
    "[1]<a class=\"anchor\" id=\"numpy2020a\"></a> NumPy developers (2020). NumPy. Retrieved 2020-04-02 from https://numpy.org/"
   ]
  },
  {
   "cell_type": "markdown",
   "metadata": {},
   "source": [
    "[2]<a class=\"anchor\" id=\"scipy2018\"></a> The SciPy community (2018). Random sampling. Retrieved 2020-04-02 from https://docs.scipy.org/doc/numpy-1.14.0/reference/routines.random.html"
   ]
  },
  {
   "cell_type": "markdown",
   "metadata": {},
   "source": [
    "[3]<a class=\"anchor\" id=\"vanderplas2016\"></a> VanderPlas, J. (2016). *Python data science handbook: Essential tools for working with data*. \"O'Reilly Media, Inc.\"."
   ]
  },
  {
   "cell_type": "markdown",
   "metadata": {},
   "source": [
    "[4]<a class=\"anchor\" id=\"pandas2020a\"></a> pandas (2020). pandas. Retrieved 2020-04-02 from https://pandas.pydata.org/"
   ]
  },
  {
   "cell_type": "markdown",
   "metadata": {},
   "source": [
    "[5]<a class=\"anchor\" id=\"pandas2020b\"></a> pandas (2020). IO tools (text, CSV, HDF5, ...). Retrieved 2020-04-02 from https://pandas.pydata.org/pandas-docs/stable/user_guide/io.html"
   ]
  },
  {
   "cell_type": "markdown",
   "metadata": {},
   "source": [
    "[6]<a class=\"anchor\" id=\"pandas2020c\"></a> pandas (2020). Indexing and selecting data. Retrieved 2020-04-02 from https://pandas.pydata.org/pandas-docs/stable/user_guide/indexing.html"
   ]
  },
  {
   "cell_type": "markdown",
   "metadata": {},
   "source": [
    "[7]<a class=\"anchor\" id=\"cmdline2019\"></a> cmdline (2019). Pandas groupby: 13 Functions To Aggregate. Retrieved 2020-04-02 from https://cmdlinetips.com/2019/10/pandas-groupby-13-functions-to-aggregate/"
   ]
  },
  {
   "cell_type": "markdown",
   "metadata": {},
   "source": [
    "[8]<a class=\"anchor\" id=\"rishabh2017\"></a> Rishabh, Ani Menon, Aurora0001 (2017). Purpose of \"%matplotlib inline\". *stack overflow*. Retrieved 2020-04-02 from https://stackoverflow.com/questions/43027980/purpose-of-matplotlib-inline"
   ]
  },
  {
   "cell_type": "markdown",
   "metadata": {},
   "source": [
    "[9]<a class=\"anchor\" id=\"matplotlib2007\"></a> Hunter, J. D. (2007). Matplotlib: A 2D graphics environment. *Computing in science & engineering, 9*(3), 90-95."
   ]
  },
  {
   "cell_type": "markdown",
   "metadata": {},
   "source": [
    "[10]<a class=\"anchor\" id=\"seaborn2017\"></a> Waskom, M., Botvinnik, O., O’Kane, D., Hobson, P., Lukauskas, S., Gemperline, D. C., ... & de Ruiter, J. (2017). Mwaskom/seaborn."
   ]
  },
  {
   "cell_type": "markdown",
   "metadata": {},
   "source": [
    "[11]<a class=\"anchor\" id=\"vanderplas2016b\"></a> VanderPlas, J. (2016). Visualization with Matplotlib. In [[3]](#vanderplas2016). Retrieved 2020-04-19 from https://jakevdp.github.io/PythonDataScienceHandbook/04.00-introduction-to-matplotlib.html#show()-or-No-show()?-How-to-Display-Your-Plots"
   ]
  },
  {
   "cell_type": "markdown",
   "metadata": {},
   "source": [
    "[12]<a class=\"anchor\" id=\"matplotlib2018a\"></a> The Matplotlib development team (2018). Style sheets reference. Retrieved 2020-04-19 from https://matplotlib.org/3.1.0/gallery/style_sheets/style_sheets_reference.html"
   ]
  },
  {
   "cell_type": "markdown",
   "metadata": {},
   "source": [
    "[13]<a class=\"anchor\" id=\"sklearn2020\"></a> The scikit-learn developers (2020). scikit-learn. Retrieved 2020-04-02 from https://scikit-learn.org/stable/"
   ]
  },
  {
   "cell_type": "markdown",
   "metadata": {},
   "source": [
    "[14]<a class=\"anchor\" id=\"chollet2015\"></a> Chollet, F. et al. (2015). Keras. Retrieved 2020-04-02 from https://keras.io/"
   ]
  }
 ],
 "metadata": {
  "kernelspec": {
   "display_name": "Python 3",
   "language": "python",
   "name": "python3"
  },
  "language_info": {
   "codemirror_mode": {
    "name": "ipython",
    "version": 3
   },
   "file_extension": ".py",
   "mimetype": "text/x-python",
   "name": "python",
   "nbconvert_exporter": "python",
   "pygments_lexer": "ipython3",
   "version": "3.7.4"
  }
 },
 "nbformat": 4,
 "nbformat_minor": 4
}
