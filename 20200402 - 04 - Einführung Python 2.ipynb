{
 "cells": [
  {
   "cell_type": "markdown",
   "metadata": {},
   "source": [
    "<div style=\"width:image width px; font-size:75%; text-align:right;\">\n",
    "    <img src=\"img/everyone_adi-goldstein_unsplash.jpg\" width=\"width\" height=\"height\" style=\"padding-bottom:0.2em;\" />\n",
    "    <figcaption>Photo by Adi Goldstein on Unsplash</figcaption>\n",
    "</div>"
   ]
  },
  {
   "cell_type": "markdown",
   "metadata": {},
   "source": [
    "# Introduction to Python 2\n",
    "\n",
    "**Applied Programming - Summer term 2020 - FOM Hochschule für Oekonomie und Management - Cologne**\n",
    "\n",
    "**Lecture 04 - April 02, 2020**"
   ]
  },
  {
   "cell_type": "markdown",
   "metadata": {},
   "source": [
    "*Dennis Gluesenkamp*"
   ]
  },
  {
   "cell_type": "markdown",
   "metadata": {},
   "source": [
    "### Table of contents\n",
    "* [Recap](#recap)\n",
    "* [Loops](#loops)\n",
    "* [Collections](#collections)\n",
    "    * [Lists](#lists)\n",
    "    * [Tuples](#tuples)\n",
    "    * [Sets](#sets)\n",
    "    * [Dictionaries](#dictionaries)\n",
    "* [Modules](#modules)\n",
    "* [Packages](#packages)\n",
    "* [Third-party modules/packages](#thirdpartymodpack)\n",
    "    * [sqlite3](#sqlite3)\n",
    "    * [pandas](#pandas)\n",
    "* [Exercise for the next lecture](#exerciselecture)\n",
    "* [References](#references)"
   ]
  },
  {
   "cell_type": "markdown",
   "metadata": {},
   "source": [
    "### Recap<a class=\"anchor\" id=\"recap\"></a>\n",
    "\n",
    "To briefly repeat what you learned in the previous lecture, please answer the following questions or write the Python code according to the instructions\n",
    "1. Write your solutions under this cell by creating more new cells. Introduce the solutions with a header of the fourth level.\n",
    "2. What is the function to determine that 'foo' is a string and 3.1415 is a floating number?\n",
    "3. What is the difference between an expression and a statement?\n",
    "4. What is the problem with the following statement? Correct the code so that it is runnable.\n",
    "```python\n",
    "12monkeys = 'film'\n",
    "result = 3 * 12monkeys\n",
    "print(result)\n",
    "```\n",
    "5. What are the basic types of packages and modules?\n",
    "6. Calculate the quotient of 11 (dividend) and 7 (divisor) and round the result to four decimal places.\n",
    "7. Create/define a custom function with three arguments that does the following: sum of the first and second argument, modulo third argument, and returns the result as a floating number. Set a default value of 2 for the third argument. "
   ]
  },
  {
   "cell_type": "markdown",
   "metadata": {},
   "source": [
    "#### Solutions"
   ]
  },
  {
   "cell_type": "code",
   "execution_count": 1,
   "metadata": {},
   "outputs": [
    {
     "data": {
      "text/plain": [
       "str"
      ]
     },
     "execution_count": 1,
     "metadata": {},
     "output_type": "execute_result"
    }
   ],
   "source": [
    "type('foo')"
   ]
  },
  {
   "cell_type": "code",
   "execution_count": 3,
   "metadata": {},
   "outputs": [
    {
     "name": "stdout",
     "output_type": "stream",
     "text": [
      "filmfilmfilm\n"
     ]
    }
   ],
   "source": [
    "monkeys = 'film'\n",
    "result = 3 * monkeys\n",
    "print(result)"
   ]
  },
  {
   "cell_type": "code",
   "execution_count": 6,
   "metadata": {},
   "outputs": [
    {
     "data": {
      "text/plain": [
       "1.5714"
      ]
     },
     "execution_count": 6,
     "metadata": {},
     "output_type": "execute_result"
    }
   ],
   "source": [
    "round(11/7, 4)"
   ]
  },
  {
   "cell_type": "code",
   "execution_count": 11,
   "metadata": {},
   "outputs": [
    {
     "data": {
      "text/plain": [
       "2.0"
      ]
     },
     "execution_count": 11,
     "metadata": {},
     "output_type": "execute_result"
    }
   ],
   "source": [
    "def cust_function(a,b,c=2):\n",
    "    return float((a+b)%c)\n",
    "\n",
    "cust_function(2,3, 3)"
   ]
  },
  {
   "cell_type": "markdown",
   "metadata": {},
   "source": [
    "### Loops<a class=\"anchor\" id=\"loops\"></a>\n",
    "In the last lecture the ``if`` statement was shown as a possible element for programming conditions. Another typical element for the implementation of execution sequences in code are loops. The two possibilities ``while`` and ``for`` in Python will be shown here. [[1]](#downey2015)"
   ]
  },
  {
   "cell_type": "code",
   "execution_count": 12,
   "metadata": {},
   "outputs": [],
   "source": [
    "def countdown(n = 10):\n",
    "    while n > 0:\n",
    "        print(n)\n",
    "        n = n-1\n",
    "    print('Lift off!')"
   ]
  },
  {
   "cell_type": "code",
   "execution_count": 13,
   "metadata": {},
   "outputs": [
    {
     "name": "stdout",
     "output_type": "stream",
     "text": [
      "10\n",
      "9\n",
      "8\n",
      "7\n",
      "6\n",
      "5\n",
      "4\n",
      "3\n",
      "2\n",
      "1\n",
      "Lift off!\n"
     ]
    }
   ],
   "source": [
    "countdown()"
   ]
  },
  {
   "cell_type": "markdown",
   "metadata": {},
   "source": [
    "With the while loop it is important to do the programming carefully. The variable of the test condition should change so that the loop does not run infinitely  [[1]](#downey2015).\n",
    "\n",
    "The for ``loop`` in Python works more like an iterator than typically found in other programming languages where it loops through a set of code for a certain number. Of course the following loop is correct and functional:"
   ]
  },
  {
   "cell_type": "code",
   "execution_count": 14,
   "metadata": {},
   "outputs": [
    {
     "data": {
      "text/plain": [
       "range(0, 10)"
      ]
     },
     "execution_count": 14,
     "metadata": {},
     "output_type": "execute_result"
    }
   ],
   "source": [
    "range(10)"
   ]
  },
  {
   "cell_type": "code",
   "execution_count": 15,
   "metadata": {},
   "outputs": [],
   "source": [
    "def countup(n = 10):\n",
    "    for i in range(n):\n",
    "        print(i+1)\n",
    "    print('Finished!')"
   ]
  },
  {
   "cell_type": "code",
   "execution_count": 16,
   "metadata": {},
   "outputs": [
    {
     "name": "stdout",
     "output_type": "stream",
     "text": [
      "1\n",
      "2\n",
      "3\n",
      "4\n",
      "5\n",
      "6\n",
      "7\n",
      "8\n",
      "9\n",
      "10\n",
      "Finished!\n"
     ]
    }
   ],
   "source": [
    "countup()"
   ]
  },
  {
   "cell_type": "markdown",
   "metadata": {},
   "source": [
    "However, you can also (and not only) iterate over the elements of lists:"
   ]
  },
  {
   "cell_type": "code",
   "execution_count": 17,
   "metadata": {},
   "outputs": [
    {
     "name": "stdout",
     "output_type": "stream",
     "text": [
      "A1\n",
      "B2\n",
      "C3\n"
     ]
    }
   ],
   "source": [
    "for i in ['A1', 'B2', 'C3']:\n",
    "    print(i)"
   ]
  },
  {
   "cell_type": "markdown",
   "metadata": {},
   "source": [
    "Or even strings:"
   ]
  },
  {
   "cell_type": "code",
   "execution_count": 18,
   "metadata": {},
   "outputs": [
    {
     "name": "stdout",
     "output_type": "stream",
     "text": [
      "L\n",
      "o\n",
      "r\n",
      "e\n",
      "m\n",
      "I\n",
      "p\n",
      "s\n",
      "u\n",
      "m\n"
     ]
    }
   ],
   "source": [
    "for i in 'LoremIpsum':\n",
    "    print(i)"
   ]
  },
  {
   "cell_type": "markdown",
   "metadata": {},
   "source": [
    "### Collections<a class=\"anchor\" id=\"collections\"></a>\n",
    "Python implements four types of data containers for general purposes which are called containers [[2]](#python2020a). These are [[3]](#w3schools2020):\n",
    "* **List** is a collection which is ordered and changeable. Allows duplicate members.\n",
    "* **Tuple** is a collection which is ordered and unchangeable. Allows duplicate members.\n",
    "* **Set** is a collection which is unordered and unindexed. No duplicate members.\n",
    "* **Dictionary** is a collection which is unordered, changeable and indexed. No duplicate members.\n",
    "\n",
    "The property that elements of a collection can respectively cannot be changed is called mutable respectively immutable. If you want to go deeper into this topic, the article by Megha Mohan [[4]](#mohan2017) is recommended."
   ]
  },
  {
   "cell_type": "markdown",
   "metadata": {},
   "source": [
    "#### Lists<a class=\"anchor\" id=\"lists\"></a>\n",
    "A list is a sequence of values, so it is ordered. The values of such a list are called items or elements and can be of any type - except a string which is also a list of characters. By the index you can access the items. Indices in Python start with 0. With negative indices the elements can be accessed backwards, so starting at the end of the list."
   ]
  },
  {
   "cell_type": "code",
   "execution_count": 19,
   "metadata": {},
   "outputs": [
    {
     "data": {
      "text/plain": [
       "list"
      ]
     },
     "execution_count": 19,
     "metadata": {},
     "output_type": "execute_result"
    }
   ],
   "source": [
    "listA = ['Mother', 'Father', 'Daughter', 'Son']\n",
    "type(listA)"
   ]
  },
  {
   "cell_type": "code",
   "execution_count": 20,
   "metadata": {},
   "outputs": [
    {
     "data": {
      "text/plain": [
       "'Father'"
      ]
     },
     "execution_count": 20,
     "metadata": {},
     "output_type": "execute_result"
    }
   ],
   "source": [
    "listA[1]"
   ]
  },
  {
   "cell_type": "code",
   "execution_count": 21,
   "metadata": {},
   "outputs": [
    {
     "data": {
      "text/plain": [
       "['Father', 'Daughter', 'Son']"
      ]
     },
     "execution_count": 21,
     "metadata": {},
     "output_type": "execute_result"
    }
   ],
   "source": [
    "listA[1:4]"
   ]
  },
  {
   "cell_type": "code",
   "execution_count": 22,
   "metadata": {},
   "outputs": [
    {
     "data": {
      "text/plain": [
       "['Daughter', 'Son']"
      ]
     },
     "execution_count": 22,
     "metadata": {},
     "output_type": "execute_result"
    }
   ],
   "source": [
    "listA[2:]"
   ]
  },
  {
   "cell_type": "code",
   "execution_count": 23,
   "metadata": {},
   "outputs": [
    {
     "data": {
      "text/plain": [
       "'Daughter'"
      ]
     },
     "execution_count": 23,
     "metadata": {},
     "output_type": "execute_result"
    }
   ],
   "source": [
    "listA[-2]"
   ]
  },
  {
   "cell_type": "code",
   "execution_count": 24,
   "metadata": {},
   "outputs": [
    {
     "data": {
      "text/plain": [
       "['Mother', 'Father']"
      ]
     },
     "execution_count": 24,
     "metadata": {},
     "output_type": "execute_result"
    }
   ],
   "source": [
    "listA[-4:-2]"
   ]
  },
  {
   "cell_type": "code",
   "execution_count": 27,
   "metadata": {},
   "outputs": [
    {
     "data": {
      "text/plain": [
       "['Mother', 'Father', 'Daughter', 'Son', 'Grandpa', 'Grandma', 'Grandma']"
      ]
     },
     "execution_count": 27,
     "metadata": {},
     "output_type": "execute_result"
    }
   ],
   "source": [
    "# Append additional elements to the list\n",
    "listA.append('Grandma')\n",
    "listA"
   ]
  },
  {
   "cell_type": "code",
   "execution_count": 34,
   "metadata": {},
   "outputs": [
    {
     "data": {
      "text/plain": [
       "['Mother', 'Father', 'Son', 'Baby', 'Grandpa', 'Grandpa', 'Grandma']"
      ]
     },
     "execution_count": 34,
     "metadata": {},
     "output_type": "execute_result"
    }
   ],
   "source": [
    "# Insert elements at a specific position\n",
    "listA.insert(4, \"Grandpa\")\n",
    "listA"
   ]
  },
  {
   "cell_type": "code",
   "execution_count": 29,
   "metadata": {},
   "outputs": [
    {
     "data": {
      "text/plain": [
       "['Mother',\n",
       " 'Father',\n",
       " 'Daughter',\n",
       " 'Son',\n",
       " 'Grandpa',\n",
       " 'Baby',\n",
       " 'Grandma',\n",
       " 'Grandma']"
      ]
     },
     "execution_count": 29,
     "metadata": {},
     "output_type": "execute_result"
    }
   ],
   "source": [
    "# Change elements in the list, because lists are mutable\n",
    "listA[5] = 'Baby'\n",
    "listA"
   ]
  },
  {
   "cell_type": "code",
   "execution_count": 36,
   "metadata": {},
   "outputs": [
    {
     "data": {
      "text/plain": [
       "['Mother', 'Father', 'Son', 'Baby', 'Grandma']"
      ]
     },
     "execution_count": 36,
     "metadata": {},
     "output_type": "execute_result"
    }
   ],
   "source": [
    "# Remove an element by value\n",
    "listA.remove('Grandpa')\n",
    "listA"
   ]
  },
  {
   "cell_type": "code",
   "execution_count": 32,
   "metadata": {},
   "outputs": [
    {
     "data": {
      "text/plain": [
       "['Mother', 'Father', 'Son', 'Baby', 'Grandma']"
      ]
     },
     "execution_count": 32,
     "metadata": {},
     "output_type": "execute_result"
    }
   ],
   "source": [
    "# Remove an element by index (default is last element)\n",
    "listA.pop(2)\n",
    "listA"
   ]
  },
  {
   "cell_type": "markdown",
   "metadata": {},
   "source": [
    "##### Exercises\n",
    "1. Create a list of five fruits and variable name of your choice.\n",
    "2. Make a copy of that list, so that the upcoming change in task 3 doesn't change the copy of your list. How can you do this? Explain in this context what a reference to an object is. (You may have to do some research on the Internet to find the solution.)\n",
    "3. Remove the third element by index.\n",
    "4. Join/concatenate your original list and the copy. There are multiple ways for this task."
   ]
  },
  {
   "cell_type": "code",
   "execution_count": 37,
   "metadata": {},
   "outputs": [
    {
     "data": {
      "text/plain": [
       "['Apfel',\n",
       " 'Banane',\n",
       " 'Kiwi',\n",
       " 'Orange',\n",
       " 'Birne',\n",
       " 'Apfel',\n",
       " 'Banane',\n",
       " 'Orange',\n",
       " 'Birne']"
      ]
     },
     "execution_count": 37,
     "metadata": {},
     "output_type": "execute_result"
    }
   ],
   "source": [
    "fruechte = ['Apfel','Banane','Kiwi','Orange','Birne']\n",
    "fruechteCPY = fruechte.copy()\n",
    "fruechteCPY.pop(2) \n",
    "fruechte += fruechteCPY\n",
    "#fruechte.extend(fruechteCPY)\n",
    "fruechte "
   ]
  },
  {
   "cell_type": "markdown",
   "metadata": {},
   "source": [
    "#### Tuples<a class=\"anchor\" id=\"tuples\"></a>\n",
    "The striking difference to lists is that tuples are not changeable - in other words *immutable*. However, their elements are also ordered by indexes."
   ]
  },
  {
   "cell_type": "code",
   "execution_count": 38,
   "metadata": {},
   "outputs": [
    {
     "data": {
      "text/plain": [
       "tuple"
      ]
     },
     "execution_count": 38,
     "metadata": {},
     "output_type": "execute_result"
    }
   ],
   "source": [
    "tupleA = ('Mother', 'Father', 'Daughter', 'Son')\n",
    "type(tupleA)"
   ]
  },
  {
   "cell_type": "code",
   "execution_count": 39,
   "metadata": {},
   "outputs": [
    {
     "data": {
      "text/plain": [
       "('Father', 'Daughter', 'Son')"
      ]
     },
     "execution_count": 39,
     "metadata": {},
     "output_type": "execute_result"
    }
   ],
   "source": [
    "tupleA[1:4]"
   ]
  },
  {
   "cell_type": "code",
   "execution_count": 40,
   "metadata": {},
   "outputs": [
    {
     "data": {
      "text/plain": [
       "('Mother', 'Father')"
      ]
     },
     "execution_count": 40,
     "metadata": {},
     "output_type": "execute_result"
    }
   ],
   "source": [
    "tupleA[-4:-2]"
   ]
  },
  {
   "cell_type": "code",
   "execution_count": 41,
   "metadata": {},
   "outputs": [
    {
     "ename": "TypeError",
     "evalue": "'tuple' object does not support item assignment",
     "output_type": "error",
     "traceback": [
      "\u001b[0;31m---------------------------------------------------------------------------\u001b[0m",
      "\u001b[0;31mTypeError\u001b[0m                                 Traceback (most recent call last)",
      "\u001b[0;32m<ipython-input-41-44eec2af8169>\u001b[0m in \u001b[0;36m<module>\u001b[0;34m\u001b[0m\n\u001b[1;32m      1\u001b[0m \u001b[0;31m# Elements of the tuple, resp. the tuple as a whole is immutable\u001b[0m\u001b[0;34m\u001b[0m\u001b[0;34m\u001b[0m\u001b[0;34m\u001b[0m\u001b[0m\n\u001b[0;32m----> 2\u001b[0;31m \u001b[0mtupleA\u001b[0m\u001b[0;34m[\u001b[0m\u001b[0;36m1\u001b[0m\u001b[0;34m]\u001b[0m \u001b[0;34m=\u001b[0m \u001b[0;34m'Men'\u001b[0m\u001b[0;34m\u001b[0m\u001b[0;34m\u001b[0m\u001b[0m\n\u001b[0m",
      "\u001b[0;31mTypeError\u001b[0m: 'tuple' object does not support item assignment"
     ]
    }
   ],
   "source": [
    "# Elements of the tuple, resp. the tuple as a whole is immutable\n",
    "tupleA[1] = 'Men'"
   ]
  },
  {
   "cell_type": "markdown",
   "metadata": {},
   "source": [
    "##### Exercises\n",
    "1. Create a tuple of five car manufacturers and variable name of your choice.\n",
    "2. Iterate through the tuple with a ``for`` loop and print the current manufacturer name in each loop iteration."
   ]
  },
  {
   "cell_type": "code",
   "execution_count": 42,
   "metadata": {},
   "outputs": [
    {
     "name": "stdout",
     "output_type": "stream",
     "text": [
      "VW\n",
      "BMW\n",
      "Toyota\n",
      "GM\n",
      "Peugeot\n"
     ]
    }
   ],
   "source": [
    "car_manuf = ('VW', 'BMW', 'Toyota', 'GM', 'Peugeot')\n",
    "for i in car_manuf:\n",
    "    print(i)"
   ]
  },
  {
   "cell_type": "markdown",
   "metadata": {},
   "source": [
    "#### Sets<a class=\"anchor\" id=\"sets\"></a>\n",
    "In contrast to tuples and lists, sets do not have an order and therefore the elements do not have indices. However iteration is possible and you can check whether an element exists in the set. The sets are mutable, whereas Python offers also a specific type of immutable sets: ``frozenset`` [[5]](#python2020b)"
   ]
  },
  {
   "cell_type": "code",
   "execution_count": 43,
   "metadata": {},
   "outputs": [
    {
     "data": {
      "text/plain": [
       "set"
      ]
     },
     "execution_count": 43,
     "metadata": {},
     "output_type": "execute_result"
    }
   ],
   "source": [
    "setA = {'Mother', 'Father', 'Daughter', 'Son'}\n",
    "type(setA)"
   ]
  },
  {
   "cell_type": "code",
   "execution_count": 44,
   "metadata": {},
   "outputs": [
    {
     "ename": "TypeError",
     "evalue": "'set' object is not subscriptable",
     "output_type": "error",
     "traceback": [
      "\u001b[0;31m---------------------------------------------------------------------------\u001b[0m",
      "\u001b[0;31mTypeError\u001b[0m                                 Traceback (most recent call last)",
      "\u001b[0;32m<ipython-input-44-70138870688f>\u001b[0m in \u001b[0;36m<module>\u001b[0;34m\u001b[0m\n\u001b[1;32m      1\u001b[0m \u001b[0;31m# Elements doesn't have an index\u001b[0m\u001b[0;34m\u001b[0m\u001b[0;34m\u001b[0m\u001b[0;34m\u001b[0m\u001b[0m\n\u001b[0;32m----> 2\u001b[0;31m \u001b[0msetA\u001b[0m\u001b[0;34m[\u001b[0m\u001b[0;36m1\u001b[0m\u001b[0;34m]\u001b[0m\u001b[0;34m\u001b[0m\u001b[0;34m\u001b[0m\u001b[0m\n\u001b[0m",
      "\u001b[0;31mTypeError\u001b[0m: 'set' object is not subscriptable"
     ]
    }
   ],
   "source": [
    "# Elements doesn't have an index\n",
    "setA[1]"
   ]
  },
  {
   "cell_type": "code",
   "execution_count": 45,
   "metadata": {},
   "outputs": [
    {
     "name": "stdout",
     "output_type": "stream",
     "text": [
      "Daughter\n",
      "Father\n",
      "Son\n",
      "Mother\n"
     ]
    }
   ],
   "source": [
    "for element in setA:\n",
    "    print(element) "
   ]
  },
  {
   "cell_type": "code",
   "execution_count": 47,
   "metadata": {},
   "outputs": [
    {
     "data": {
      "text/plain": [
       "False"
      ]
     },
     "execution_count": 47,
     "metadata": {},
     "output_type": "execute_result"
    }
   ],
   "source": [
    "'Men' in setA"
   ]
  },
  {
   "cell_type": "code",
   "execution_count": 48,
   "metadata": {},
   "outputs": [
    {
     "data": {
      "text/plain": [
       "{'Daughter', 'Father', 'Grandma', 'Mother', 'Son'}"
      ]
     },
     "execution_count": 48,
     "metadata": {},
     "output_type": "execute_result"
    }
   ],
   "source": [
    "setA.add('Grandma')\n",
    "setA"
   ]
  },
  {
   "cell_type": "code",
   "execution_count": 49,
   "metadata": {},
   "outputs": [
    {
     "data": {
      "text/plain": [
       "{'Daughter', 'Father', 'Grandma', 'Mother', 'Son'}"
      ]
     },
     "execution_count": 49,
     "metadata": {},
     "output_type": "execute_result"
    }
   ],
   "source": [
    "# Adding duplicates isn't possible but without error\n",
    "setA.add('Father')\n",
    "setA"
   ]
  },
  {
   "cell_type": "code",
   "execution_count": 50,
   "metadata": {},
   "outputs": [
    {
     "data": {
      "text/plain": [
       "{'Daughter', 'Father', 'Mother', 'Son'}"
      ]
     },
     "execution_count": 50,
     "metadata": {},
     "output_type": "execute_result"
    }
   ],
   "source": [
    "setA.remove('Grandma')\n",
    "setA"
   ]
  },
  {
   "cell_type": "code",
   "execution_count": 51,
   "metadata": {},
   "outputs": [
    {
     "ename": "KeyError",
     "evalue": "'Grandma'",
     "output_type": "error",
     "traceback": [
      "\u001b[0;31m---------------------------------------------------------------------------\u001b[0m",
      "\u001b[0;31mKeyError\u001b[0m                                  Traceback (most recent call last)",
      "\u001b[0;32m<ipython-input-51-f9226daced89>\u001b[0m in \u001b[0;36m<module>\u001b[0;34m\u001b[0m\n\u001b[1;32m      1\u001b[0m \u001b[0;31m# Raises an error if element doesn't exist\u001b[0m\u001b[0;34m\u001b[0m\u001b[0;34m\u001b[0m\u001b[0;34m\u001b[0m\u001b[0m\n\u001b[0;32m----> 2\u001b[0;31m \u001b[0msetA\u001b[0m\u001b[0;34m.\u001b[0m\u001b[0mremove\u001b[0m\u001b[0;34m(\u001b[0m\u001b[0;34m'Grandma'\u001b[0m\u001b[0;34m)\u001b[0m\u001b[0;34m\u001b[0m\u001b[0;34m\u001b[0m\u001b[0m\n\u001b[0m",
      "\u001b[0;31mKeyError\u001b[0m: 'Grandma'"
     ]
    }
   ],
   "source": [
    "# Raises an error if element doesn't exist\n",
    "setA.remove('Grandma')"
   ]
  },
  {
   "cell_type": "code",
   "execution_count": 52,
   "metadata": {},
   "outputs": [],
   "source": [
    "# Different method for removing items without error raising\n",
    "setA.discard('Grandma')"
   ]
  },
  {
   "cell_type": "markdown",
   "metadata": {},
   "source": [
    "##### Exercises\n",
    "1. Create a set of five cities and variable name of your choice.\n",
    "2. Copy your set to a new variable and change two cities to other cities of your choice.\n",
    "3. Research and test the set-related method ``intersection()``.\n",
    "4. Which SQL-statement is equivalent to the ``intersection()`` method? Write the SQL-statement here in a Markdown cell by using appropriate syntax highlighting."
   ]
  },
  {
   "cell_type": "code",
   "execution_count": 53,
   "metadata": {},
   "outputs": [
    {
     "name": "stdout",
     "output_type": "stream",
     "text": [
      "{'Mainz', 'Köln', 'London', 'New York', 'Paris'}\n",
      "{'London', 'New York', 'Paris'}\n",
      "{'Berlin', 'London', 'New York', 'Paris', 'Istanbul'}\n"
     ]
    }
   ],
   "source": [
    "cities = {'New York', 'Köln', 'Mainz', 'Paris', 'London'}\n",
    "c_cities = cities.copy()\n",
    "print(cities)\n",
    "\n",
    "cities.pop()\n",
    "cities.pop()\n",
    "print(cities)\n",
    "\n",
    "cities.add('Istanbul')\n",
    "cities.add('Berlin')\n",
    "print(cities)"
   ]
  },
  {
   "cell_type": "code",
   "execution_count": 54,
   "metadata": {},
   "outputs": [
    {
     "data": {
      "text/plain": [
       "{'London', 'New York', 'Paris'}"
      ]
     },
     "execution_count": 54,
     "metadata": {},
     "output_type": "execute_result"
    }
   ],
   "source": [
    "cities.intersection(c_cities)"
   ]
  },
  {
   "cell_type": "markdown",
   "metadata": {},
   "source": [
    "```SQL\n",
    "SELECT     *\n",
    "FROM       staedte\n",
    "INNER JOIN staedteCpy\n",
    "ON         staedte.Stadt = staedteCpy.Stadt\n",
    "```"
   ]
  },
  {
   "cell_type": "markdown",
   "metadata": {},
   "source": [
    "If you want to know more about the order in which sets are displayed, see [[6]](#aroutiounian2013)."
   ]
  },
  {
   "cell_type": "markdown",
   "metadata": {},
   "source": [
    "#### Dictionaries<a class=\"anchor\" id=\"dictionaries\"></a>\n",
    "Dictionaries consists of key-value-pairs which are unordered but the pairs have indices and can be changed - so dictionaries are *mutable*."
   ]
  },
  {
   "cell_type": "code",
   "execution_count": 55,
   "metadata": {},
   "outputs": [
    {
     "data": {
      "text/plain": [
       "{'mother': 'Mary', 'father': 'Pete', 'daughter': 'Daisy', 'son': 'Chuck'}"
      ]
     },
     "execution_count": 55,
     "metadata": {},
     "output_type": "execute_result"
    }
   ],
   "source": [
    "dictA = {\n",
    "    'mother': 'Mary',\n",
    "    'father': 'Pete',\n",
    "    'daughter': 'Daisy',\n",
    "    'son': 'Chuck'\n",
    "}\n",
    "dictA"
   ]
  },
  {
   "cell_type": "code",
   "execution_count": 58,
   "metadata": {},
   "outputs": [
    {
     "data": {
      "text/plain": [
       "'Mary'"
      ]
     },
     "execution_count": 58,
     "metadata": {},
     "output_type": "execute_result"
    }
   ],
   "source": [
    "# Access value by key, not vice versa\n",
    "dictA['mother']"
   ]
  },
  {
   "cell_type": "code",
   "execution_count": 59,
   "metadata": {},
   "outputs": [
    {
     "data": {
      "text/plain": [
       "'Pete'"
      ]
     },
     "execution_count": 59,
     "metadata": {},
     "output_type": "execute_result"
    }
   ],
   "source": [
    "dictA.get('father')"
   ]
  },
  {
   "cell_type": "code",
   "execution_count": 60,
   "metadata": {},
   "outputs": [
    {
     "data": {
      "text/plain": [
       "{'mother': 'Deanna', 'father': 'Pete', 'daughter': 'Daisy', 'son': 'Chuck'}"
      ]
     },
     "execution_count": 60,
     "metadata": {},
     "output_type": "execute_result"
    }
   ],
   "source": [
    "dictA['mother'] = 'Deanna'\n",
    "dictA"
   ]
  },
  {
   "cell_type": "markdown",
   "metadata": {},
   "source": [
    "### Modules<a class=\"anchor\" id=\"modules\"></a>\n",
    "Modules are one of the levels of abstraction in Python and technically nothing more than individual Python files (``*.py``). These files contain variables and functions that belong together in a certain sense and are therefore implemented or defined separately. [[7, p.61](#reitz2016); [8](#learnpython2020)]\n",
    "\n",
    "To create a module, it is therefore only necessary to write the desired code in a Python file. This file can then be integrated into the current project, for example a Jupyter Notebook, by calling ``import`` followed by the module name which is the file name. It is possible to name the included module with an (abbreviated) name. This is done with the command ``as``."
   ]
  },
  {
   "cell_type": "code",
   "execution_count": 1,
   "metadata": {},
   "outputs": [],
   "source": [
    "import examplemodule as em"
   ]
  },
  {
   "cell_type": "code",
   "execution_count": 3,
   "metadata": {},
   "outputs": [
    {
     "data": {
      "text/plain": [
       "7.54983443527075"
      ]
     },
     "execution_count": 3,
     "metadata": {},
     "output_type": "execute_result"
    }
   ],
   "source": [
    "em.calcEuclideanDist([1, 1, 1], em.coord2)"
   ]
  },
  {
   "cell_type": "markdown",
   "metadata": {},
   "source": [
    "### Packages<a class=\"anchor\" id=\"packages\"></a>\n",
    "If the complexity and the structure of a project makes it necessary to combine several modules to a superior unit, so-called packages can be created. These are folders that contain module files. The only special feature is the existence of a ``__init__.py`` in this folder, which contains overall definitions for the whole package. [[7, p.65](#reitz2016); [8](#learnpython2020)]\n",
    "\n",
    "A module of a package is included by the ``import`` command, preceded by the package name and separated from the module name by a period."
   ]
  },
  {
   "cell_type": "code",
   "execution_count": 4,
   "metadata": {},
   "outputs": [],
   "source": [
    "import examplepackage.examplemodule as pem"
   ]
  },
  {
   "cell_type": "code",
   "execution_count": 5,
   "metadata": {},
   "outputs": [
    {
     "name": "stdout",
     "output_type": "stream",
     "text": [
      "Help on module examplepackage.examplemodule in examplepackage:\n",
      "\n",
      "NAME\n",
      "    examplepackage.examplemodule - This module is for exemplary purposes.\n",
      "\n",
      "FUNCTIONS\n",
      "    calcEuclideanDist(c1, c2)\n",
      "        This function calculates the euclidean distance between two coordinates\n",
      "        in the three-dimensional space.\n",
      "\n",
      "DATA\n",
      "    coord1 = [1, 5, 7]\n",
      "    coord2 = [3, 3, 8]\n",
      "    coord3 = [8, 4, 3]\n",
      "    coord4 = [7, 5, 7]\n",
      "\n",
      "FILE\n",
      "    /home/dennis/Dokumente/DataScience/Lectures/ss20-applied-programming/examplepackage/examplemodule.py\n",
      "\n",
      "\n"
     ]
    }
   ],
   "source": [
    "help(pem)"
   ]
  },
  {
   "cell_type": "code",
   "execution_count": 6,
   "metadata": {},
   "outputs": [
    {
     "data": {
      "text/plain": [
       "10.198039027185569"
      ]
     },
     "execution_count": 6,
     "metadata": {},
     "output_type": "execute_result"
    }
   ],
   "source": [
    "pem.calcEuclideanDist(pem.coord1, [-1, -1, -1])"
   ]
  },
  {
   "cell_type": "markdown",
   "metadata": {},
   "source": [
    "### Third-party modules/packages<a class=\"anchor\" id=\"thirdpartymodpack\"></a>\n",
    "Besides the very extensive built-in modules and packages that Python already comes with by default, an overwhelming number of third-party packages can be installed and used. For an overview of such additional packages already included in the Anaconda distribution, please refer to [[9]](#anaconda2020). Here you can also see whether these packages are already available with the installation of Anaconda or whether they need to be installed later via conda. If you are not using Anaconda, you can install additional packages via ``pip`` [[10]](#pip2020). \n",
    "\n",
    "At this point we want to take a first, superficial look at two third-party packages: ``sqlite3`` [[11]](#sqlite32020) and ``pandas`` [[12]](#mckinney2011). In the next lectures we will learn more packages/modules and their usage."
   ]
  },
  {
   "cell_type": "markdown",
   "metadata": {},
   "source": [
    "#### sqlite3"
   ]
  },
  {
   "cell_type": "code",
   "execution_count": 7,
   "metadata": {},
   "outputs": [],
   "source": [
    "import sqlite3"
   ]
  },
  {
   "cell_type": "code",
   "execution_count": 8,
   "metadata": {},
   "outputs": [],
   "source": [
    "con_obj = sqlite3.connect('dat/baseball.sqlite')\n",
    "c = con_obj.cursor()"
   ]
  },
  {
   "cell_type": "code",
   "execution_count": 10,
   "metadata": {
    "scrolled": true
   },
   "outputs": [
    {
     "data": {
      "text/plain": [
       "[('Albany State University', 'Albany'),\n",
       " ('Armstrong Atlantic State University', 'Savannah'),\n",
       " ('Brewton-Parker College', 'Mount Vernon'),\n",
       " ('Emory University', 'Atlanta'),\n",
       " ('Berry College', 'Mount Berry'),\n",
       " ('Coastal Georgia Community College', 'Brunswick'),\n",
       " ('Georgia College and State University', 'Milledgeville'),\n",
       " ('Columbus State University', 'Columbus'),\n",
       " ('Georgia Perimeter College', 'Covington'),\n",
       " ('Middle Georgia College', 'Cochran'),\n",
       " ('South Georgia College', 'Douglas'),\n",
       " ('Georgia Southwestern State University', 'Americus'),\n",
       " ('Georgia Institute of Technology', 'Atlanta'),\n",
       " ('University of Georgia', 'Athens'),\n",
       " ('Georgia Southern University', 'Statesboro'),\n",
       " ('Georgia State University', 'Atlanta'),\n",
       " ('Kennesaw State University', 'Kennesaw'),\n",
       " ('Mercer University', 'Macon'),\n",
       " ('Morehouse College', 'Atlanta'),\n",
       " ('Oglethorpe University', 'Atlanta'),\n",
       " ('Piedmont College', 'Demorest'),\n",
       " ('Savannah College of Arts and Design', 'Savannah'),\n",
       " ('Shorter College', 'Rome'),\n",
       " ('Valdosta State University', 'Valdosta'),\n",
       " ('State University of West Georgia', 'Carrollton')]"
      ]
     },
     "execution_count": 10,
     "metadata": {},
     "output_type": "execute_result"
    }
   ],
   "source": [
    "c.execute(\"\"\"\n",
    "SELECT   name_full, city\n",
    "FROM     college\n",
    "WHERE    state = 'GA'\n",
    "\"\"\").fetchall()           # use fetchone() for single line of output"
   ]
  },
  {
   "cell_type": "markdown",
   "metadata": {},
   "source": [
    "#### pandas"
   ]
  },
  {
   "cell_type": "code",
   "execution_count": 11,
   "metadata": {},
   "outputs": [],
   "source": [
    "import pandas as pd"
   ]
  },
  {
   "cell_type": "code",
   "execution_count": 14,
   "metadata": {},
   "outputs": [],
   "source": [
    "df = pd.read_sql_query(\"\"\"\n",
    "SELECT   park_name, city\n",
    "FROM     park\n",
    "WHERE    state = 'TX'\n",
    "\"\"\", con_obj)"
   ]
  },
  {
   "cell_type": "code",
   "execution_count": 15,
   "metadata": {},
   "outputs": [
    {
     "data": {
      "text/html": [
       "<div>\n",
       "<style scoped>\n",
       "    .dataframe tbody tr th:only-of-type {\n",
       "        vertical-align: middle;\n",
       "    }\n",
       "\n",
       "    .dataframe tbody tr th {\n",
       "        vertical-align: top;\n",
       "    }\n",
       "\n",
       "    .dataframe thead th {\n",
       "        text-align: right;\n",
       "    }\n",
       "</style>\n",
       "<table border=\"1\" class=\"dataframe\">\n",
       "  <thead>\n",
       "    <tr style=\"text-align: right;\">\n",
       "      <th></th>\n",
       "      <th>park_name</th>\n",
       "      <th>city</th>\n",
       "    </tr>\n",
       "  </thead>\n",
       "  <tbody>\n",
       "    <tr>\n",
       "      <td>0</td>\n",
       "      <td>Arlington Stadium</td>\n",
       "      <td>Arlington</td>\n",
       "    </tr>\n",
       "    <tr>\n",
       "      <td>1</td>\n",
       "      <td>Rangers Ballpark in Arlington</td>\n",
       "      <td>Arlington</td>\n",
       "    </tr>\n",
       "    <tr>\n",
       "      <td>2</td>\n",
       "      <td>Colt Stadium</td>\n",
       "      <td>Houston</td>\n",
       "    </tr>\n",
       "    <tr>\n",
       "      <td>3</td>\n",
       "      <td>Astrodome</td>\n",
       "      <td>Houston</td>\n",
       "    </tr>\n",
       "    <tr>\n",
       "      <td>4</td>\n",
       "      <td>Minute Maid Park</td>\n",
       "      <td>Houston</td>\n",
       "    </tr>\n",
       "  </tbody>\n",
       "</table>\n",
       "</div>"
      ],
      "text/plain": [
       "                       park_name       city\n",
       "0              Arlington Stadium  Arlington\n",
       "1  Rangers Ballpark in Arlington  Arlington\n",
       "2                   Colt Stadium    Houston\n",
       "3                      Astrodome    Houston\n",
       "4               Minute Maid Park    Houston"
      ]
     },
     "execution_count": 15,
     "metadata": {},
     "output_type": "execute_result"
    }
   ],
   "source": [
    "df"
   ]
  },
  {
   "cell_type": "code",
   "execution_count": null,
   "metadata": {},
   "outputs": [],
   "source": [
    "# Close the database connection\n",
    "con_obj.close()"
   ]
  },
  {
   "cell_type": "markdown",
   "metadata": {},
   "source": [
    "##### Exercises\n",
    "1. Write an SQL-statement for the ``read_sql_query()`` method of the pandas module which copies the solution to the question t) of the live exercises/example in lecture 2. Store the result in a variable.\n",
    "2. Solve the following tasks using the pandas-documentation or a cheat sheet:\n",
    "\n",
    "    a) Delete the column ``park_name`` from the DataFrame.\n",
    "    \n",
    "    b) Store a filtered copy table in a new variable where rows with an empty ``city`` column are excluded.\n",
    "    \n",
    "    c) Add a new column ``adress`` to the just create table, which is composed of the information on ``park``, a comma followed by a blank and the ``city``."
   ]
  },
  {
   "cell_type": "markdown",
   "metadata": {},
   "source": [
    "```sql\n",
    "SELECT       year, team_id, park, city, park_name\n",
    "FROM         team\n",
    "LEFT JOIN    park\n",
    "ON           park = park_name\n",
    "WHERE        year = 2000\n",
    "ORDER BY     city\n",
    "```"
   ]
  },
  {
   "cell_type": "code",
   "execution_count": 24,
   "metadata": {},
   "outputs": [
    {
     "data": {
      "text/html": [
       "<div>\n",
       "<style scoped>\n",
       "    .dataframe tbody tr th:only-of-type {\n",
       "        vertical-align: middle;\n",
       "    }\n",
       "\n",
       "    .dataframe tbody tr th {\n",
       "        vertical-align: top;\n",
       "    }\n",
       "\n",
       "    .dataframe thead th {\n",
       "        text-align: right;\n",
       "    }\n",
       "</style>\n",
       "<table border=\"1\" class=\"dataframe\">\n",
       "  <thead>\n",
       "    <tr style=\"text-align: right;\">\n",
       "      <th></th>\n",
       "      <th>year</th>\n",
       "      <th>team_id</th>\n",
       "      <th>park</th>\n",
       "      <th>city</th>\n",
       "      <th>park_name</th>\n",
       "    </tr>\n",
       "  </thead>\n",
       "  <tbody>\n",
       "    <tr>\n",
       "      <td>0</td>\n",
       "      <td>2000</td>\n",
       "      <td>ANA</td>\n",
       "      <td>Edison International Field</td>\n",
       "      <td>None</td>\n",
       "      <td>None</td>\n",
       "    </tr>\n",
       "    <tr>\n",
       "      <td>1</td>\n",
       "      <td>2000</td>\n",
       "      <td>ARI</td>\n",
       "      <td>Bank One Ballpark</td>\n",
       "      <td>None</td>\n",
       "      <td>None</td>\n",
       "    </tr>\n",
       "    <tr>\n",
       "      <td>2</td>\n",
       "      <td>2000</td>\n",
       "      <td>BOS</td>\n",
       "      <td>Fenway Park II</td>\n",
       "      <td>None</td>\n",
       "      <td>None</td>\n",
       "    </tr>\n",
       "    <tr>\n",
       "      <td>3</td>\n",
       "      <td>2000</td>\n",
       "      <td>CHA</td>\n",
       "      <td>Comiskey Park II</td>\n",
       "      <td>None</td>\n",
       "      <td>None</td>\n",
       "    </tr>\n",
       "    <tr>\n",
       "      <td>4</td>\n",
       "      <td>2000</td>\n",
       "      <td>CLE</td>\n",
       "      <td>Jacobs Field</td>\n",
       "      <td>None</td>\n",
       "      <td>None</td>\n",
       "    </tr>\n",
       "    <tr>\n",
       "      <td>5</td>\n",
       "      <td>2000</td>\n",
       "      <td>FLO</td>\n",
       "      <td>Pro Player Stadium</td>\n",
       "      <td>None</td>\n",
       "      <td>None</td>\n",
       "    </tr>\n",
       "    <tr>\n",
       "      <td>6</td>\n",
       "      <td>2000</td>\n",
       "      <td>HOU</td>\n",
       "      <td>Enron Field</td>\n",
       "      <td>None</td>\n",
       "      <td>None</td>\n",
       "    </tr>\n",
       "    <tr>\n",
       "      <td>7</td>\n",
       "      <td>2000</td>\n",
       "      <td>MIN</td>\n",
       "      <td>Hubert H Humphrey Metrodome</td>\n",
       "      <td>None</td>\n",
       "      <td>None</td>\n",
       "    </tr>\n",
       "    <tr>\n",
       "      <td>8</td>\n",
       "      <td>2000</td>\n",
       "      <td>OAK</td>\n",
       "      <td>Oakland Coliseum</td>\n",
       "      <td>None</td>\n",
       "      <td>None</td>\n",
       "    </tr>\n",
       "    <tr>\n",
       "      <td>9</td>\n",
       "      <td>2000</td>\n",
       "      <td>SFN</td>\n",
       "      <td>PacBell Park</td>\n",
       "      <td>None</td>\n",
       "      <td>None</td>\n",
       "    </tr>\n",
       "    <tr>\n",
       "      <td>10</td>\n",
       "      <td>2000</td>\n",
       "      <td>TEX</td>\n",
       "      <td>The Ballpark at Arlington</td>\n",
       "      <td>None</td>\n",
       "      <td>None</td>\n",
       "    </tr>\n",
       "    <tr>\n",
       "      <td>11</td>\n",
       "      <td>2000</td>\n",
       "      <td>TOR</td>\n",
       "      <td>Skydome</td>\n",
       "      <td>None</td>\n",
       "      <td>None</td>\n",
       "    </tr>\n",
       "    <tr>\n",
       "      <td>12</td>\n",
       "      <td>2000</td>\n",
       "      <td>ATL</td>\n",
       "      <td>Turner Field</td>\n",
       "      <td>Atlanta</td>\n",
       "      <td>Turner Field</td>\n",
       "    </tr>\n",
       "    <tr>\n",
       "      <td>13</td>\n",
       "      <td>2000</td>\n",
       "      <td>BAL</td>\n",
       "      <td>Oriole Park at Camden Yards</td>\n",
       "      <td>Baltimore</td>\n",
       "      <td>Oriole Park at Camden Yards</td>\n",
       "    </tr>\n",
       "    <tr>\n",
       "      <td>14</td>\n",
       "      <td>2000</td>\n",
       "      <td>CHN</td>\n",
       "      <td>Wrigley Field</td>\n",
       "      <td>Chicago</td>\n",
       "      <td>Wrigley Field</td>\n",
       "    </tr>\n",
       "    <tr>\n",
       "      <td>15</td>\n",
       "      <td>2000</td>\n",
       "      <td>CIN</td>\n",
       "      <td>Cinergy Field</td>\n",
       "      <td>Cincinnati</td>\n",
       "      <td>Cinergy Field</td>\n",
       "    </tr>\n",
       "    <tr>\n",
       "      <td>16</td>\n",
       "      <td>2000</td>\n",
       "      <td>COL</td>\n",
       "      <td>Coors Field</td>\n",
       "      <td>Denver</td>\n",
       "      <td>Coors Field</td>\n",
       "    </tr>\n",
       "    <tr>\n",
       "      <td>17</td>\n",
       "      <td>2000</td>\n",
       "      <td>DET</td>\n",
       "      <td>Comerica Park</td>\n",
       "      <td>Detroit</td>\n",
       "      <td>Comerica Park</td>\n",
       "    </tr>\n",
       "    <tr>\n",
       "      <td>18</td>\n",
       "      <td>2000</td>\n",
       "      <td>KCA</td>\n",
       "      <td>Kauffman Stadium</td>\n",
       "      <td>Kansas City</td>\n",
       "      <td>Kauffman Stadium</td>\n",
       "    </tr>\n",
       "    <tr>\n",
       "      <td>19</td>\n",
       "      <td>2000</td>\n",
       "      <td>CHN</td>\n",
       "      <td>Wrigley Field</td>\n",
       "      <td>Los Angeles</td>\n",
       "      <td>Wrigley Field</td>\n",
       "    </tr>\n",
       "    <tr>\n",
       "      <td>20</td>\n",
       "      <td>2000</td>\n",
       "      <td>LAN</td>\n",
       "      <td>Dodger Stadium</td>\n",
       "      <td>Los Angeles</td>\n",
       "      <td>Dodger Stadium</td>\n",
       "    </tr>\n",
       "    <tr>\n",
       "      <td>21</td>\n",
       "      <td>2000</td>\n",
       "      <td>MIL</td>\n",
       "      <td>County Stadium</td>\n",
       "      <td>Milwaukee</td>\n",
       "      <td>County Stadium</td>\n",
       "    </tr>\n",
       "    <tr>\n",
       "      <td>22</td>\n",
       "      <td>2000</td>\n",
       "      <td>MON</td>\n",
       "      <td>Stade Olympique</td>\n",
       "      <td>Montreal</td>\n",
       "      <td>Stade Olympique</td>\n",
       "    </tr>\n",
       "    <tr>\n",
       "      <td>23</td>\n",
       "      <td>2000</td>\n",
       "      <td>NYA</td>\n",
       "      <td>Yankee Stadium II</td>\n",
       "      <td>New York</td>\n",
       "      <td>Yankee Stadium II</td>\n",
       "    </tr>\n",
       "    <tr>\n",
       "      <td>24</td>\n",
       "      <td>2000</td>\n",
       "      <td>NYN</td>\n",
       "      <td>Shea Stadium</td>\n",
       "      <td>New York</td>\n",
       "      <td>Shea Stadium</td>\n",
       "    </tr>\n",
       "    <tr>\n",
       "      <td>25</td>\n",
       "      <td>2000</td>\n",
       "      <td>PHI</td>\n",
       "      <td>Veterans Stadium</td>\n",
       "      <td>Philadelphia</td>\n",
       "      <td>Veterans Stadium</td>\n",
       "    </tr>\n",
       "    <tr>\n",
       "      <td>26</td>\n",
       "      <td>2000</td>\n",
       "      <td>PIT</td>\n",
       "      <td>Three Rivers Stadium</td>\n",
       "      <td>Pittsburgh</td>\n",
       "      <td>Three Rivers Stadium</td>\n",
       "    </tr>\n",
       "    <tr>\n",
       "      <td>27</td>\n",
       "      <td>2000</td>\n",
       "      <td>SDN</td>\n",
       "      <td>Qualcomm Stadium</td>\n",
       "      <td>San Diego</td>\n",
       "      <td>Qualcomm Stadium</td>\n",
       "    </tr>\n",
       "    <tr>\n",
       "      <td>28</td>\n",
       "      <td>2000</td>\n",
       "      <td>SEA</td>\n",
       "      <td>Safeco Field</td>\n",
       "      <td>Seattle</td>\n",
       "      <td>Safeco Field</td>\n",
       "    </tr>\n",
       "    <tr>\n",
       "      <td>29</td>\n",
       "      <td>2000</td>\n",
       "      <td>SLN</td>\n",
       "      <td>Busch Stadium II</td>\n",
       "      <td>St. Louis</td>\n",
       "      <td>Busch Stadium II</td>\n",
       "    </tr>\n",
       "    <tr>\n",
       "      <td>30</td>\n",
       "      <td>2000</td>\n",
       "      <td>TBA</td>\n",
       "      <td>Tropicana Field</td>\n",
       "      <td>St. Petersburg</td>\n",
       "      <td>Tropicana Field</td>\n",
       "    </tr>\n",
       "  </tbody>\n",
       "</table>\n",
       "</div>"
      ],
      "text/plain": [
       "    year team_id                         park            city  \\\n",
       "0   2000     ANA   Edison International Field            None   \n",
       "1   2000     ARI            Bank One Ballpark            None   \n",
       "2   2000     BOS               Fenway Park II            None   \n",
       "3   2000     CHA             Comiskey Park II            None   \n",
       "4   2000     CLE                 Jacobs Field            None   \n",
       "5   2000     FLO           Pro Player Stadium            None   \n",
       "6   2000     HOU                  Enron Field            None   \n",
       "7   2000     MIN  Hubert H Humphrey Metrodome            None   \n",
       "8   2000     OAK             Oakland Coliseum            None   \n",
       "9   2000     SFN                 PacBell Park            None   \n",
       "10  2000     TEX    The Ballpark at Arlington            None   \n",
       "11  2000     TOR                      Skydome            None   \n",
       "12  2000     ATL                 Turner Field         Atlanta   \n",
       "13  2000     BAL  Oriole Park at Camden Yards       Baltimore   \n",
       "14  2000     CHN                Wrigley Field         Chicago   \n",
       "15  2000     CIN                Cinergy Field      Cincinnati   \n",
       "16  2000     COL                  Coors Field          Denver   \n",
       "17  2000     DET                Comerica Park         Detroit   \n",
       "18  2000     KCA             Kauffman Stadium     Kansas City   \n",
       "19  2000     CHN                Wrigley Field     Los Angeles   \n",
       "20  2000     LAN               Dodger Stadium     Los Angeles   \n",
       "21  2000     MIL               County Stadium       Milwaukee   \n",
       "22  2000     MON              Stade Olympique        Montreal   \n",
       "23  2000     NYA            Yankee Stadium II        New York   \n",
       "24  2000     NYN                 Shea Stadium        New York   \n",
       "25  2000     PHI             Veterans Stadium    Philadelphia   \n",
       "26  2000     PIT         Three Rivers Stadium      Pittsburgh   \n",
       "27  2000     SDN             Qualcomm Stadium       San Diego   \n",
       "28  2000     SEA                 Safeco Field         Seattle   \n",
       "29  2000     SLN             Busch Stadium II       St. Louis   \n",
       "30  2000     TBA              Tropicana Field  St. Petersburg   \n",
       "\n",
       "                      park_name  \n",
       "0                          None  \n",
       "1                          None  \n",
       "2                          None  \n",
       "3                          None  \n",
       "4                          None  \n",
       "5                          None  \n",
       "6                          None  \n",
       "7                          None  \n",
       "8                          None  \n",
       "9                          None  \n",
       "10                         None  \n",
       "11                         None  \n",
       "12                 Turner Field  \n",
       "13  Oriole Park at Camden Yards  \n",
       "14                Wrigley Field  \n",
       "15                Cinergy Field  \n",
       "16                  Coors Field  \n",
       "17                Comerica Park  \n",
       "18             Kauffman Stadium  \n",
       "19                Wrigley Field  \n",
       "20               Dodger Stadium  \n",
       "21               County Stadium  \n",
       "22              Stade Olympique  \n",
       "23            Yankee Stadium II  \n",
       "24                 Shea Stadium  \n",
       "25             Veterans Stadium  \n",
       "26         Three Rivers Stadium  \n",
       "27             Qualcomm Stadium  \n",
       "28                 Safeco Field  \n",
       "29             Busch Stadium II  \n",
       "30              Tropicana Field  "
      ]
     },
     "execution_count": 24,
     "metadata": {},
     "output_type": "execute_result"
    }
   ],
   "source": [
    "df2 = pd.read_sql_query(\"\"\"\n",
    "SELECT       year, team_id, park, city, park_name\n",
    "FROM         team\n",
    "LEFT JOIN    park\n",
    "ON           park = park_name\n",
    "WHERE        year = 2000\n",
    "ORDER BY     city\n",
    "\"\"\", con_obj)\n",
    "df2"
   ]
  },
  {
   "cell_type": "code",
   "execution_count": 25,
   "metadata": {},
   "outputs": [],
   "source": [
    "df2.drop(columns = [\"park_name\"], inplace = True)"
   ]
  },
  {
   "cell_type": "code",
   "execution_count": 26,
   "metadata": {},
   "outputs": [
    {
     "data": {
      "text/html": [
       "<div>\n",
       "<style scoped>\n",
       "    .dataframe tbody tr th:only-of-type {\n",
       "        vertical-align: middle;\n",
       "    }\n",
       "\n",
       "    .dataframe tbody tr th {\n",
       "        vertical-align: top;\n",
       "    }\n",
       "\n",
       "    .dataframe thead th {\n",
       "        text-align: right;\n",
       "    }\n",
       "</style>\n",
       "<table border=\"1\" class=\"dataframe\">\n",
       "  <thead>\n",
       "    <tr style=\"text-align: right;\">\n",
       "      <th></th>\n",
       "      <th>year</th>\n",
       "      <th>team_id</th>\n",
       "      <th>park</th>\n",
       "      <th>city</th>\n",
       "    </tr>\n",
       "  </thead>\n",
       "  <tbody>\n",
       "    <tr>\n",
       "      <td>0</td>\n",
       "      <td>2000</td>\n",
       "      <td>ANA</td>\n",
       "      <td>Edison International Field</td>\n",
       "      <td>None</td>\n",
       "    </tr>\n",
       "    <tr>\n",
       "      <td>1</td>\n",
       "      <td>2000</td>\n",
       "      <td>ARI</td>\n",
       "      <td>Bank One Ballpark</td>\n",
       "      <td>None</td>\n",
       "    </tr>\n",
       "    <tr>\n",
       "      <td>2</td>\n",
       "      <td>2000</td>\n",
       "      <td>BOS</td>\n",
       "      <td>Fenway Park II</td>\n",
       "      <td>None</td>\n",
       "    </tr>\n",
       "    <tr>\n",
       "      <td>3</td>\n",
       "      <td>2000</td>\n",
       "      <td>CHA</td>\n",
       "      <td>Comiskey Park II</td>\n",
       "      <td>None</td>\n",
       "    </tr>\n",
       "    <tr>\n",
       "      <td>4</td>\n",
       "      <td>2000</td>\n",
       "      <td>CLE</td>\n",
       "      <td>Jacobs Field</td>\n",
       "      <td>None</td>\n",
       "    </tr>\n",
       "    <tr>\n",
       "      <td>5</td>\n",
       "      <td>2000</td>\n",
       "      <td>FLO</td>\n",
       "      <td>Pro Player Stadium</td>\n",
       "      <td>None</td>\n",
       "    </tr>\n",
       "    <tr>\n",
       "      <td>6</td>\n",
       "      <td>2000</td>\n",
       "      <td>HOU</td>\n",
       "      <td>Enron Field</td>\n",
       "      <td>None</td>\n",
       "    </tr>\n",
       "    <tr>\n",
       "      <td>7</td>\n",
       "      <td>2000</td>\n",
       "      <td>MIN</td>\n",
       "      <td>Hubert H Humphrey Metrodome</td>\n",
       "      <td>None</td>\n",
       "    </tr>\n",
       "    <tr>\n",
       "      <td>8</td>\n",
       "      <td>2000</td>\n",
       "      <td>OAK</td>\n",
       "      <td>Oakland Coliseum</td>\n",
       "      <td>None</td>\n",
       "    </tr>\n",
       "    <tr>\n",
       "      <td>9</td>\n",
       "      <td>2000</td>\n",
       "      <td>SFN</td>\n",
       "      <td>PacBell Park</td>\n",
       "      <td>None</td>\n",
       "    </tr>\n",
       "    <tr>\n",
       "      <td>10</td>\n",
       "      <td>2000</td>\n",
       "      <td>TEX</td>\n",
       "      <td>The Ballpark at Arlington</td>\n",
       "      <td>None</td>\n",
       "    </tr>\n",
       "    <tr>\n",
       "      <td>11</td>\n",
       "      <td>2000</td>\n",
       "      <td>TOR</td>\n",
       "      <td>Skydome</td>\n",
       "      <td>None</td>\n",
       "    </tr>\n",
       "    <tr>\n",
       "      <td>12</td>\n",
       "      <td>2000</td>\n",
       "      <td>ATL</td>\n",
       "      <td>Turner Field</td>\n",
       "      <td>Atlanta</td>\n",
       "    </tr>\n",
       "    <tr>\n",
       "      <td>13</td>\n",
       "      <td>2000</td>\n",
       "      <td>BAL</td>\n",
       "      <td>Oriole Park at Camden Yards</td>\n",
       "      <td>Baltimore</td>\n",
       "    </tr>\n",
       "    <tr>\n",
       "      <td>14</td>\n",
       "      <td>2000</td>\n",
       "      <td>CHN</td>\n",
       "      <td>Wrigley Field</td>\n",
       "      <td>Chicago</td>\n",
       "    </tr>\n",
       "    <tr>\n",
       "      <td>15</td>\n",
       "      <td>2000</td>\n",
       "      <td>CIN</td>\n",
       "      <td>Cinergy Field</td>\n",
       "      <td>Cincinnati</td>\n",
       "    </tr>\n",
       "    <tr>\n",
       "      <td>16</td>\n",
       "      <td>2000</td>\n",
       "      <td>COL</td>\n",
       "      <td>Coors Field</td>\n",
       "      <td>Denver</td>\n",
       "    </tr>\n",
       "    <tr>\n",
       "      <td>17</td>\n",
       "      <td>2000</td>\n",
       "      <td>DET</td>\n",
       "      <td>Comerica Park</td>\n",
       "      <td>Detroit</td>\n",
       "    </tr>\n",
       "    <tr>\n",
       "      <td>18</td>\n",
       "      <td>2000</td>\n",
       "      <td>KCA</td>\n",
       "      <td>Kauffman Stadium</td>\n",
       "      <td>Kansas City</td>\n",
       "    </tr>\n",
       "    <tr>\n",
       "      <td>19</td>\n",
       "      <td>2000</td>\n",
       "      <td>CHN</td>\n",
       "      <td>Wrigley Field</td>\n",
       "      <td>Los Angeles</td>\n",
       "    </tr>\n",
       "    <tr>\n",
       "      <td>20</td>\n",
       "      <td>2000</td>\n",
       "      <td>LAN</td>\n",
       "      <td>Dodger Stadium</td>\n",
       "      <td>Los Angeles</td>\n",
       "    </tr>\n",
       "    <tr>\n",
       "      <td>21</td>\n",
       "      <td>2000</td>\n",
       "      <td>MIL</td>\n",
       "      <td>County Stadium</td>\n",
       "      <td>Milwaukee</td>\n",
       "    </tr>\n",
       "    <tr>\n",
       "      <td>22</td>\n",
       "      <td>2000</td>\n",
       "      <td>MON</td>\n",
       "      <td>Stade Olympique</td>\n",
       "      <td>Montreal</td>\n",
       "    </tr>\n",
       "    <tr>\n",
       "      <td>23</td>\n",
       "      <td>2000</td>\n",
       "      <td>NYA</td>\n",
       "      <td>Yankee Stadium II</td>\n",
       "      <td>New York</td>\n",
       "    </tr>\n",
       "    <tr>\n",
       "      <td>24</td>\n",
       "      <td>2000</td>\n",
       "      <td>NYN</td>\n",
       "      <td>Shea Stadium</td>\n",
       "      <td>New York</td>\n",
       "    </tr>\n",
       "    <tr>\n",
       "      <td>25</td>\n",
       "      <td>2000</td>\n",
       "      <td>PHI</td>\n",
       "      <td>Veterans Stadium</td>\n",
       "      <td>Philadelphia</td>\n",
       "    </tr>\n",
       "    <tr>\n",
       "      <td>26</td>\n",
       "      <td>2000</td>\n",
       "      <td>PIT</td>\n",
       "      <td>Three Rivers Stadium</td>\n",
       "      <td>Pittsburgh</td>\n",
       "    </tr>\n",
       "    <tr>\n",
       "      <td>27</td>\n",
       "      <td>2000</td>\n",
       "      <td>SDN</td>\n",
       "      <td>Qualcomm Stadium</td>\n",
       "      <td>San Diego</td>\n",
       "    </tr>\n",
       "    <tr>\n",
       "      <td>28</td>\n",
       "      <td>2000</td>\n",
       "      <td>SEA</td>\n",
       "      <td>Safeco Field</td>\n",
       "      <td>Seattle</td>\n",
       "    </tr>\n",
       "    <tr>\n",
       "      <td>29</td>\n",
       "      <td>2000</td>\n",
       "      <td>SLN</td>\n",
       "      <td>Busch Stadium II</td>\n",
       "      <td>St. Louis</td>\n",
       "    </tr>\n",
       "    <tr>\n",
       "      <td>30</td>\n",
       "      <td>2000</td>\n",
       "      <td>TBA</td>\n",
       "      <td>Tropicana Field</td>\n",
       "      <td>St. Petersburg</td>\n",
       "    </tr>\n",
       "  </tbody>\n",
       "</table>\n",
       "</div>"
      ],
      "text/plain": [
       "    year team_id                         park            city\n",
       "0   2000     ANA   Edison International Field            None\n",
       "1   2000     ARI            Bank One Ballpark            None\n",
       "2   2000     BOS               Fenway Park II            None\n",
       "3   2000     CHA             Comiskey Park II            None\n",
       "4   2000     CLE                 Jacobs Field            None\n",
       "5   2000     FLO           Pro Player Stadium            None\n",
       "6   2000     HOU                  Enron Field            None\n",
       "7   2000     MIN  Hubert H Humphrey Metrodome            None\n",
       "8   2000     OAK             Oakland Coliseum            None\n",
       "9   2000     SFN                 PacBell Park            None\n",
       "10  2000     TEX    The Ballpark at Arlington            None\n",
       "11  2000     TOR                      Skydome            None\n",
       "12  2000     ATL                 Turner Field         Atlanta\n",
       "13  2000     BAL  Oriole Park at Camden Yards       Baltimore\n",
       "14  2000     CHN                Wrigley Field         Chicago\n",
       "15  2000     CIN                Cinergy Field      Cincinnati\n",
       "16  2000     COL                  Coors Field          Denver\n",
       "17  2000     DET                Comerica Park         Detroit\n",
       "18  2000     KCA             Kauffman Stadium     Kansas City\n",
       "19  2000     CHN                Wrigley Field     Los Angeles\n",
       "20  2000     LAN               Dodger Stadium     Los Angeles\n",
       "21  2000     MIL               County Stadium       Milwaukee\n",
       "22  2000     MON              Stade Olympique        Montreal\n",
       "23  2000     NYA            Yankee Stadium II        New York\n",
       "24  2000     NYN                 Shea Stadium        New York\n",
       "25  2000     PHI             Veterans Stadium    Philadelphia\n",
       "26  2000     PIT         Three Rivers Stadium      Pittsburgh\n",
       "27  2000     SDN             Qualcomm Stadium       San Diego\n",
       "28  2000     SEA                 Safeco Field         Seattle\n",
       "29  2000     SLN             Busch Stadium II       St. Louis\n",
       "30  2000     TBA              Tropicana Field  St. Petersburg"
      ]
     },
     "execution_count": 26,
     "metadata": {},
     "output_type": "execute_result"
    }
   ],
   "source": [
    "df2"
   ]
  },
  {
   "cell_type": "code",
   "execution_count": 32,
   "metadata": {},
   "outputs": [],
   "source": [
    "df3 = df2[df2.city.notnull()].copy()\n",
    "df4 = df2.dropna().copy()"
   ]
  },
  {
   "cell_type": "code",
   "execution_count": 30,
   "metadata": {},
   "outputs": [
    {
     "data": {
      "text/html": [
       "<div>\n",
       "<style scoped>\n",
       "    .dataframe tbody tr th:only-of-type {\n",
       "        vertical-align: middle;\n",
       "    }\n",
       "\n",
       "    .dataframe tbody tr th {\n",
       "        vertical-align: top;\n",
       "    }\n",
       "\n",
       "    .dataframe thead th {\n",
       "        text-align: right;\n",
       "    }\n",
       "</style>\n",
       "<table border=\"1\" class=\"dataframe\">\n",
       "  <thead>\n",
       "    <tr style=\"text-align: right;\">\n",
       "      <th></th>\n",
       "      <th>year</th>\n",
       "      <th>team_id</th>\n",
       "      <th>park</th>\n",
       "      <th>city</th>\n",
       "    </tr>\n",
       "  </thead>\n",
       "  <tbody>\n",
       "    <tr>\n",
       "      <td>12</td>\n",
       "      <td>2000</td>\n",
       "      <td>ATL</td>\n",
       "      <td>Turner Field</td>\n",
       "      <td>Atlanta</td>\n",
       "    </tr>\n",
       "    <tr>\n",
       "      <td>13</td>\n",
       "      <td>2000</td>\n",
       "      <td>BAL</td>\n",
       "      <td>Oriole Park at Camden Yards</td>\n",
       "      <td>Baltimore</td>\n",
       "    </tr>\n",
       "    <tr>\n",
       "      <td>14</td>\n",
       "      <td>2000</td>\n",
       "      <td>CHN</td>\n",
       "      <td>Wrigley Field</td>\n",
       "      <td>Chicago</td>\n",
       "    </tr>\n",
       "    <tr>\n",
       "      <td>15</td>\n",
       "      <td>2000</td>\n",
       "      <td>CIN</td>\n",
       "      <td>Cinergy Field</td>\n",
       "      <td>Cincinnati</td>\n",
       "    </tr>\n",
       "    <tr>\n",
       "      <td>16</td>\n",
       "      <td>2000</td>\n",
       "      <td>COL</td>\n",
       "      <td>Coors Field</td>\n",
       "      <td>Denver</td>\n",
       "    </tr>\n",
       "    <tr>\n",
       "      <td>17</td>\n",
       "      <td>2000</td>\n",
       "      <td>DET</td>\n",
       "      <td>Comerica Park</td>\n",
       "      <td>Detroit</td>\n",
       "    </tr>\n",
       "    <tr>\n",
       "      <td>18</td>\n",
       "      <td>2000</td>\n",
       "      <td>KCA</td>\n",
       "      <td>Kauffman Stadium</td>\n",
       "      <td>Kansas City</td>\n",
       "    </tr>\n",
       "    <tr>\n",
       "      <td>19</td>\n",
       "      <td>2000</td>\n",
       "      <td>CHN</td>\n",
       "      <td>Wrigley Field</td>\n",
       "      <td>Los Angeles</td>\n",
       "    </tr>\n",
       "    <tr>\n",
       "      <td>20</td>\n",
       "      <td>2000</td>\n",
       "      <td>LAN</td>\n",
       "      <td>Dodger Stadium</td>\n",
       "      <td>Los Angeles</td>\n",
       "    </tr>\n",
       "    <tr>\n",
       "      <td>21</td>\n",
       "      <td>2000</td>\n",
       "      <td>MIL</td>\n",
       "      <td>County Stadium</td>\n",
       "      <td>Milwaukee</td>\n",
       "    </tr>\n",
       "    <tr>\n",
       "      <td>22</td>\n",
       "      <td>2000</td>\n",
       "      <td>MON</td>\n",
       "      <td>Stade Olympique</td>\n",
       "      <td>Montreal</td>\n",
       "    </tr>\n",
       "    <tr>\n",
       "      <td>23</td>\n",
       "      <td>2000</td>\n",
       "      <td>NYA</td>\n",
       "      <td>Yankee Stadium II</td>\n",
       "      <td>New York</td>\n",
       "    </tr>\n",
       "    <tr>\n",
       "      <td>24</td>\n",
       "      <td>2000</td>\n",
       "      <td>NYN</td>\n",
       "      <td>Shea Stadium</td>\n",
       "      <td>New York</td>\n",
       "    </tr>\n",
       "    <tr>\n",
       "      <td>25</td>\n",
       "      <td>2000</td>\n",
       "      <td>PHI</td>\n",
       "      <td>Veterans Stadium</td>\n",
       "      <td>Philadelphia</td>\n",
       "    </tr>\n",
       "    <tr>\n",
       "      <td>26</td>\n",
       "      <td>2000</td>\n",
       "      <td>PIT</td>\n",
       "      <td>Three Rivers Stadium</td>\n",
       "      <td>Pittsburgh</td>\n",
       "    </tr>\n",
       "    <tr>\n",
       "      <td>27</td>\n",
       "      <td>2000</td>\n",
       "      <td>SDN</td>\n",
       "      <td>Qualcomm Stadium</td>\n",
       "      <td>San Diego</td>\n",
       "    </tr>\n",
       "    <tr>\n",
       "      <td>28</td>\n",
       "      <td>2000</td>\n",
       "      <td>SEA</td>\n",
       "      <td>Safeco Field</td>\n",
       "      <td>Seattle</td>\n",
       "    </tr>\n",
       "    <tr>\n",
       "      <td>29</td>\n",
       "      <td>2000</td>\n",
       "      <td>SLN</td>\n",
       "      <td>Busch Stadium II</td>\n",
       "      <td>St. Louis</td>\n",
       "    </tr>\n",
       "    <tr>\n",
       "      <td>30</td>\n",
       "      <td>2000</td>\n",
       "      <td>TBA</td>\n",
       "      <td>Tropicana Field</td>\n",
       "      <td>St. Petersburg</td>\n",
       "    </tr>\n",
       "  </tbody>\n",
       "</table>\n",
       "</div>"
      ],
      "text/plain": [
       "    year team_id                         park            city\n",
       "12  2000     ATL                 Turner Field         Atlanta\n",
       "13  2000     BAL  Oriole Park at Camden Yards       Baltimore\n",
       "14  2000     CHN                Wrigley Field         Chicago\n",
       "15  2000     CIN                Cinergy Field      Cincinnati\n",
       "16  2000     COL                  Coors Field          Denver\n",
       "17  2000     DET                Comerica Park         Detroit\n",
       "18  2000     KCA             Kauffman Stadium     Kansas City\n",
       "19  2000     CHN                Wrigley Field     Los Angeles\n",
       "20  2000     LAN               Dodger Stadium     Los Angeles\n",
       "21  2000     MIL               County Stadium       Milwaukee\n",
       "22  2000     MON              Stade Olympique        Montreal\n",
       "23  2000     NYA            Yankee Stadium II        New York\n",
       "24  2000     NYN                 Shea Stadium        New York\n",
       "25  2000     PHI             Veterans Stadium    Philadelphia\n",
       "26  2000     PIT         Three Rivers Stadium      Pittsburgh\n",
       "27  2000     SDN             Qualcomm Stadium       San Diego\n",
       "28  2000     SEA                 Safeco Field         Seattle\n",
       "29  2000     SLN             Busch Stadium II       St. Louis\n",
       "30  2000     TBA              Tropicana Field  St. Petersburg"
      ]
     },
     "execution_count": 30,
     "metadata": {},
     "output_type": "execute_result"
    }
   ],
   "source": [
    "df4"
   ]
  },
  {
   "cell_type": "code",
   "execution_count": 33,
   "metadata": {},
   "outputs": [
    {
     "data": {
      "text/html": [
       "<div>\n",
       "<style scoped>\n",
       "    .dataframe tbody tr th:only-of-type {\n",
       "        vertical-align: middle;\n",
       "    }\n",
       "\n",
       "    .dataframe tbody tr th {\n",
       "        vertical-align: top;\n",
       "    }\n",
       "\n",
       "    .dataframe thead th {\n",
       "        text-align: right;\n",
       "    }\n",
       "</style>\n",
       "<table border=\"1\" class=\"dataframe\">\n",
       "  <thead>\n",
       "    <tr style=\"text-align: right;\">\n",
       "      <th></th>\n",
       "      <th>year</th>\n",
       "      <th>team_id</th>\n",
       "      <th>park</th>\n",
       "      <th>city</th>\n",
       "      <th>adress</th>\n",
       "    </tr>\n",
       "  </thead>\n",
       "  <tbody>\n",
       "    <tr>\n",
       "      <td>12</td>\n",
       "      <td>2000</td>\n",
       "      <td>ATL</td>\n",
       "      <td>Turner Field</td>\n",
       "      <td>Atlanta</td>\n",
       "      <td>Turner Field, Atlanta</td>\n",
       "    </tr>\n",
       "    <tr>\n",
       "      <td>13</td>\n",
       "      <td>2000</td>\n",
       "      <td>BAL</td>\n",
       "      <td>Oriole Park at Camden Yards</td>\n",
       "      <td>Baltimore</td>\n",
       "      <td>Oriole Park at Camden Yards, Baltimore</td>\n",
       "    </tr>\n",
       "    <tr>\n",
       "      <td>14</td>\n",
       "      <td>2000</td>\n",
       "      <td>CHN</td>\n",
       "      <td>Wrigley Field</td>\n",
       "      <td>Chicago</td>\n",
       "      <td>Wrigley Field, Chicago</td>\n",
       "    </tr>\n",
       "    <tr>\n",
       "      <td>15</td>\n",
       "      <td>2000</td>\n",
       "      <td>CIN</td>\n",
       "      <td>Cinergy Field</td>\n",
       "      <td>Cincinnati</td>\n",
       "      <td>Cinergy Field, Cincinnati</td>\n",
       "    </tr>\n",
       "    <tr>\n",
       "      <td>16</td>\n",
       "      <td>2000</td>\n",
       "      <td>COL</td>\n",
       "      <td>Coors Field</td>\n",
       "      <td>Denver</td>\n",
       "      <td>Coors Field, Denver</td>\n",
       "    </tr>\n",
       "    <tr>\n",
       "      <td>17</td>\n",
       "      <td>2000</td>\n",
       "      <td>DET</td>\n",
       "      <td>Comerica Park</td>\n",
       "      <td>Detroit</td>\n",
       "      <td>Comerica Park, Detroit</td>\n",
       "    </tr>\n",
       "    <tr>\n",
       "      <td>18</td>\n",
       "      <td>2000</td>\n",
       "      <td>KCA</td>\n",
       "      <td>Kauffman Stadium</td>\n",
       "      <td>Kansas City</td>\n",
       "      <td>Kauffman Stadium, Kansas City</td>\n",
       "    </tr>\n",
       "    <tr>\n",
       "      <td>19</td>\n",
       "      <td>2000</td>\n",
       "      <td>CHN</td>\n",
       "      <td>Wrigley Field</td>\n",
       "      <td>Los Angeles</td>\n",
       "      <td>Wrigley Field, Los Angeles</td>\n",
       "    </tr>\n",
       "    <tr>\n",
       "      <td>20</td>\n",
       "      <td>2000</td>\n",
       "      <td>LAN</td>\n",
       "      <td>Dodger Stadium</td>\n",
       "      <td>Los Angeles</td>\n",
       "      <td>Dodger Stadium, Los Angeles</td>\n",
       "    </tr>\n",
       "    <tr>\n",
       "      <td>21</td>\n",
       "      <td>2000</td>\n",
       "      <td>MIL</td>\n",
       "      <td>County Stadium</td>\n",
       "      <td>Milwaukee</td>\n",
       "      <td>County Stadium, Milwaukee</td>\n",
       "    </tr>\n",
       "    <tr>\n",
       "      <td>22</td>\n",
       "      <td>2000</td>\n",
       "      <td>MON</td>\n",
       "      <td>Stade Olympique</td>\n",
       "      <td>Montreal</td>\n",
       "      <td>Stade Olympique, Montreal</td>\n",
       "    </tr>\n",
       "    <tr>\n",
       "      <td>23</td>\n",
       "      <td>2000</td>\n",
       "      <td>NYA</td>\n",
       "      <td>Yankee Stadium II</td>\n",
       "      <td>New York</td>\n",
       "      <td>Yankee Stadium II, New York</td>\n",
       "    </tr>\n",
       "    <tr>\n",
       "      <td>24</td>\n",
       "      <td>2000</td>\n",
       "      <td>NYN</td>\n",
       "      <td>Shea Stadium</td>\n",
       "      <td>New York</td>\n",
       "      <td>Shea Stadium, New York</td>\n",
       "    </tr>\n",
       "    <tr>\n",
       "      <td>25</td>\n",
       "      <td>2000</td>\n",
       "      <td>PHI</td>\n",
       "      <td>Veterans Stadium</td>\n",
       "      <td>Philadelphia</td>\n",
       "      <td>Veterans Stadium, Philadelphia</td>\n",
       "    </tr>\n",
       "    <tr>\n",
       "      <td>26</td>\n",
       "      <td>2000</td>\n",
       "      <td>PIT</td>\n",
       "      <td>Three Rivers Stadium</td>\n",
       "      <td>Pittsburgh</td>\n",
       "      <td>Three Rivers Stadium, Pittsburgh</td>\n",
       "    </tr>\n",
       "    <tr>\n",
       "      <td>27</td>\n",
       "      <td>2000</td>\n",
       "      <td>SDN</td>\n",
       "      <td>Qualcomm Stadium</td>\n",
       "      <td>San Diego</td>\n",
       "      <td>Qualcomm Stadium, San Diego</td>\n",
       "    </tr>\n",
       "    <tr>\n",
       "      <td>28</td>\n",
       "      <td>2000</td>\n",
       "      <td>SEA</td>\n",
       "      <td>Safeco Field</td>\n",
       "      <td>Seattle</td>\n",
       "      <td>Safeco Field, Seattle</td>\n",
       "    </tr>\n",
       "    <tr>\n",
       "      <td>29</td>\n",
       "      <td>2000</td>\n",
       "      <td>SLN</td>\n",
       "      <td>Busch Stadium II</td>\n",
       "      <td>St. Louis</td>\n",
       "      <td>Busch Stadium II, St. Louis</td>\n",
       "    </tr>\n",
       "    <tr>\n",
       "      <td>30</td>\n",
       "      <td>2000</td>\n",
       "      <td>TBA</td>\n",
       "      <td>Tropicana Field</td>\n",
       "      <td>St. Petersburg</td>\n",
       "      <td>Tropicana Field, St. Petersburg</td>\n",
       "    </tr>\n",
       "  </tbody>\n",
       "</table>\n",
       "</div>"
      ],
      "text/plain": [
       "    year team_id                         park            city  \\\n",
       "12  2000     ATL                 Turner Field         Atlanta   \n",
       "13  2000     BAL  Oriole Park at Camden Yards       Baltimore   \n",
       "14  2000     CHN                Wrigley Field         Chicago   \n",
       "15  2000     CIN                Cinergy Field      Cincinnati   \n",
       "16  2000     COL                  Coors Field          Denver   \n",
       "17  2000     DET                Comerica Park         Detroit   \n",
       "18  2000     KCA             Kauffman Stadium     Kansas City   \n",
       "19  2000     CHN                Wrigley Field     Los Angeles   \n",
       "20  2000     LAN               Dodger Stadium     Los Angeles   \n",
       "21  2000     MIL               County Stadium       Milwaukee   \n",
       "22  2000     MON              Stade Olympique        Montreal   \n",
       "23  2000     NYA            Yankee Stadium II        New York   \n",
       "24  2000     NYN                 Shea Stadium        New York   \n",
       "25  2000     PHI             Veterans Stadium    Philadelphia   \n",
       "26  2000     PIT         Three Rivers Stadium      Pittsburgh   \n",
       "27  2000     SDN             Qualcomm Stadium       San Diego   \n",
       "28  2000     SEA                 Safeco Field         Seattle   \n",
       "29  2000     SLN             Busch Stadium II       St. Louis   \n",
       "30  2000     TBA              Tropicana Field  St. Petersburg   \n",
       "\n",
       "                                    adress  \n",
       "12                   Turner Field, Atlanta  \n",
       "13  Oriole Park at Camden Yards, Baltimore  \n",
       "14                  Wrigley Field, Chicago  \n",
       "15               Cinergy Field, Cincinnati  \n",
       "16                     Coors Field, Denver  \n",
       "17                  Comerica Park, Detroit  \n",
       "18           Kauffman Stadium, Kansas City  \n",
       "19              Wrigley Field, Los Angeles  \n",
       "20             Dodger Stadium, Los Angeles  \n",
       "21               County Stadium, Milwaukee  \n",
       "22               Stade Olympique, Montreal  \n",
       "23             Yankee Stadium II, New York  \n",
       "24                  Shea Stadium, New York  \n",
       "25          Veterans Stadium, Philadelphia  \n",
       "26        Three Rivers Stadium, Pittsburgh  \n",
       "27             Qualcomm Stadium, San Diego  \n",
       "28                   Safeco Field, Seattle  \n",
       "29             Busch Stadium II, St. Louis  \n",
       "30         Tropicana Field, St. Petersburg  "
      ]
     },
     "execution_count": 33,
     "metadata": {},
     "output_type": "execute_result"
    }
   ],
   "source": [
    "df3['adress'] = df3['park'] + ', ' + df3['city']\n",
    "df3"
   ]
  },
  {
   "cell_type": "code",
   "execution_count": 34,
   "metadata": {},
   "outputs": [
    {
     "data": {
      "text/html": [
       "<div>\n",
       "<style scoped>\n",
       "    .dataframe tbody tr th:only-of-type {\n",
       "        vertical-align: middle;\n",
       "    }\n",
       "\n",
       "    .dataframe tbody tr th {\n",
       "        vertical-align: top;\n",
       "    }\n",
       "\n",
       "    .dataframe thead th {\n",
       "        text-align: right;\n",
       "    }\n",
       "</style>\n",
       "<table border=\"1\" class=\"dataframe\">\n",
       "  <thead>\n",
       "    <tr style=\"text-align: right;\">\n",
       "      <th></th>\n",
       "      <th>year</th>\n",
       "      <th>team_id</th>\n",
       "      <th>park</th>\n",
       "      <th>city</th>\n",
       "      <th>adress</th>\n",
       "    </tr>\n",
       "  </thead>\n",
       "  <tbody>\n",
       "    <tr>\n",
       "      <td>12</td>\n",
       "      <td>2000</td>\n",
       "      <td>ATL</td>\n",
       "      <td>Turner Field</td>\n",
       "      <td>Atlanta</td>\n",
       "      <td>Turner Field, Atlanta, USA</td>\n",
       "    </tr>\n",
       "    <tr>\n",
       "      <td>13</td>\n",
       "      <td>2000</td>\n",
       "      <td>BAL</td>\n",
       "      <td>Oriole Park at Camden Yards</td>\n",
       "      <td>Baltimore</td>\n",
       "      <td>Oriole Park at Camden Yards, Baltimore, USA</td>\n",
       "    </tr>\n",
       "    <tr>\n",
       "      <td>14</td>\n",
       "      <td>2000</td>\n",
       "      <td>CHN</td>\n",
       "      <td>Wrigley Field</td>\n",
       "      <td>Chicago</td>\n",
       "      <td>Wrigley Field, Chicago, USA</td>\n",
       "    </tr>\n",
       "    <tr>\n",
       "      <td>15</td>\n",
       "      <td>2000</td>\n",
       "      <td>CIN</td>\n",
       "      <td>Cinergy Field</td>\n",
       "      <td>Cincinnati</td>\n",
       "      <td>Cinergy Field, Cincinnati, USA</td>\n",
       "    </tr>\n",
       "    <tr>\n",
       "      <td>16</td>\n",
       "      <td>2000</td>\n",
       "      <td>COL</td>\n",
       "      <td>Coors Field</td>\n",
       "      <td>Denver</td>\n",
       "      <td>Coors Field, Denver, USA</td>\n",
       "    </tr>\n",
       "    <tr>\n",
       "      <td>17</td>\n",
       "      <td>2000</td>\n",
       "      <td>DET</td>\n",
       "      <td>Comerica Park</td>\n",
       "      <td>Detroit</td>\n",
       "      <td>Comerica Park, Detroit, USA</td>\n",
       "    </tr>\n",
       "    <tr>\n",
       "      <td>18</td>\n",
       "      <td>2000</td>\n",
       "      <td>KCA</td>\n",
       "      <td>Kauffman Stadium</td>\n",
       "      <td>Kansas City</td>\n",
       "      <td>Kauffman Stadium, Kansas City, USA</td>\n",
       "    </tr>\n",
       "    <tr>\n",
       "      <td>19</td>\n",
       "      <td>2000</td>\n",
       "      <td>CHN</td>\n",
       "      <td>Wrigley Field</td>\n",
       "      <td>Los Angeles</td>\n",
       "      <td>Wrigley Field, Los Angeles, USA</td>\n",
       "    </tr>\n",
       "    <tr>\n",
       "      <td>20</td>\n",
       "      <td>2000</td>\n",
       "      <td>LAN</td>\n",
       "      <td>Dodger Stadium</td>\n",
       "      <td>Los Angeles</td>\n",
       "      <td>Dodger Stadium, Los Angeles, USA</td>\n",
       "    </tr>\n",
       "    <tr>\n",
       "      <td>21</td>\n",
       "      <td>2000</td>\n",
       "      <td>MIL</td>\n",
       "      <td>County Stadium</td>\n",
       "      <td>Milwaukee</td>\n",
       "      <td>County Stadium, Milwaukee, USA</td>\n",
       "    </tr>\n",
       "    <tr>\n",
       "      <td>22</td>\n",
       "      <td>2000</td>\n",
       "      <td>MON</td>\n",
       "      <td>Stade Olympique</td>\n",
       "      <td>Montreal</td>\n",
       "      <td>Stade Olympique, Montreal, USA</td>\n",
       "    </tr>\n",
       "    <tr>\n",
       "      <td>23</td>\n",
       "      <td>2000</td>\n",
       "      <td>NYA</td>\n",
       "      <td>Yankee Stadium II</td>\n",
       "      <td>New York</td>\n",
       "      <td>Yankee Stadium II, New York, USA</td>\n",
       "    </tr>\n",
       "    <tr>\n",
       "      <td>24</td>\n",
       "      <td>2000</td>\n",
       "      <td>NYN</td>\n",
       "      <td>Shea Stadium</td>\n",
       "      <td>New York</td>\n",
       "      <td>Shea Stadium, New York, USA</td>\n",
       "    </tr>\n",
       "    <tr>\n",
       "      <td>25</td>\n",
       "      <td>2000</td>\n",
       "      <td>PHI</td>\n",
       "      <td>Veterans Stadium</td>\n",
       "      <td>Philadelphia</td>\n",
       "      <td>Veterans Stadium, Philadelphia, USA</td>\n",
       "    </tr>\n",
       "    <tr>\n",
       "      <td>26</td>\n",
       "      <td>2000</td>\n",
       "      <td>PIT</td>\n",
       "      <td>Three Rivers Stadium</td>\n",
       "      <td>Pittsburgh</td>\n",
       "      <td>Three Rivers Stadium, Pittsburgh, USA</td>\n",
       "    </tr>\n",
       "    <tr>\n",
       "      <td>27</td>\n",
       "      <td>2000</td>\n",
       "      <td>SDN</td>\n",
       "      <td>Qualcomm Stadium</td>\n",
       "      <td>San Diego</td>\n",
       "      <td>Qualcomm Stadium, San Diego, USA</td>\n",
       "    </tr>\n",
       "    <tr>\n",
       "      <td>28</td>\n",
       "      <td>2000</td>\n",
       "      <td>SEA</td>\n",
       "      <td>Safeco Field</td>\n",
       "      <td>Seattle</td>\n",
       "      <td>Safeco Field, Seattle, USA</td>\n",
       "    </tr>\n",
       "    <tr>\n",
       "      <td>29</td>\n",
       "      <td>2000</td>\n",
       "      <td>SLN</td>\n",
       "      <td>Busch Stadium II</td>\n",
       "      <td>St. Louis</td>\n",
       "      <td>Busch Stadium II, St. Louis, USA</td>\n",
       "    </tr>\n",
       "    <tr>\n",
       "      <td>30</td>\n",
       "      <td>2000</td>\n",
       "      <td>TBA</td>\n",
       "      <td>Tropicana Field</td>\n",
       "      <td>St. Petersburg</td>\n",
       "      <td>Tropicana Field, St. Petersburg, USA</td>\n",
       "    </tr>\n",
       "  </tbody>\n",
       "</table>\n",
       "</div>"
      ],
      "text/plain": [
       "    year team_id                         park            city  \\\n",
       "12  2000     ATL                 Turner Field         Atlanta   \n",
       "13  2000     BAL  Oriole Park at Camden Yards       Baltimore   \n",
       "14  2000     CHN                Wrigley Field         Chicago   \n",
       "15  2000     CIN                Cinergy Field      Cincinnati   \n",
       "16  2000     COL                  Coors Field          Denver   \n",
       "17  2000     DET                Comerica Park         Detroit   \n",
       "18  2000     KCA             Kauffman Stadium     Kansas City   \n",
       "19  2000     CHN                Wrigley Field     Los Angeles   \n",
       "20  2000     LAN               Dodger Stadium     Los Angeles   \n",
       "21  2000     MIL               County Stadium       Milwaukee   \n",
       "22  2000     MON              Stade Olympique        Montreal   \n",
       "23  2000     NYA            Yankee Stadium II        New York   \n",
       "24  2000     NYN                 Shea Stadium        New York   \n",
       "25  2000     PHI             Veterans Stadium    Philadelphia   \n",
       "26  2000     PIT         Three Rivers Stadium      Pittsburgh   \n",
       "27  2000     SDN             Qualcomm Stadium       San Diego   \n",
       "28  2000     SEA                 Safeco Field         Seattle   \n",
       "29  2000     SLN             Busch Stadium II       St. Louis   \n",
       "30  2000     TBA              Tropicana Field  St. Petersburg   \n",
       "\n",
       "                                         adress  \n",
       "12                   Turner Field, Atlanta, USA  \n",
       "13  Oriole Park at Camden Yards, Baltimore, USA  \n",
       "14                  Wrigley Field, Chicago, USA  \n",
       "15               Cinergy Field, Cincinnati, USA  \n",
       "16                     Coors Field, Denver, USA  \n",
       "17                  Comerica Park, Detroit, USA  \n",
       "18           Kauffman Stadium, Kansas City, USA  \n",
       "19              Wrigley Field, Los Angeles, USA  \n",
       "20             Dodger Stadium, Los Angeles, USA  \n",
       "21               County Stadium, Milwaukee, USA  \n",
       "22               Stade Olympique, Montreal, USA  \n",
       "23             Yankee Stadium II, New York, USA  \n",
       "24                  Shea Stadium, New York, USA  \n",
       "25          Veterans Stadium, Philadelphia, USA  \n",
       "26        Three Rivers Stadium, Pittsburgh, USA  \n",
       "27             Qualcomm Stadium, San Diego, USA  \n",
       "28                   Safeco Field, Seattle, USA  \n",
       "29             Busch Stadium II, St. Louis, USA  \n",
       "30         Tropicana Field, St. Petersburg, USA  "
      ]
     },
     "execution_count": 34,
     "metadata": {},
     "output_type": "execute_result"
    }
   ],
   "source": [
    "df3['adress'] = df3['adress'] + ', USA'\n",
    "df3"
   ]
  },
  {
   "cell_type": "markdown",
   "metadata": {},
   "source": [
    "### Exercise for the next lecture<a class=\"anchor\" id=\"exerciselecture\"></a>\n",
    "The National Football League (NFL, US professional league for American football) consists of 32 teams divided into two conferences, the AFC and the NFC. Each of these Conferences is again divided into - more or less - regional divisions, named after the compass directions, e.g. NFC South. A tabular overview can be found at https://bit.ly/2UP8Cfi (English) or https://bit.ly/2xHHoPH (German).\n",
    "\n",
    "**For the following tasks, please form teams of at least (and ideally also a maximum of) three people, whereby you determine a team lead.** *Please*, organize yourself in such a way that the previous knowledge is equally distributed in each team. Especially git/GitHub knowledge should be at least a little bit present in each team.\n",
    "\n",
    "1. The team lead creates a repository for this mini-project on GitHub and invites the other team members as collaborators (Settings >>> Manage access >>> Invite a collaborator).\n",
    "2. In the subfolder \"modules\" of the repository of this lecture you will find a template file named \"template_l04.py\". The team lead should download it and add it to your repository. It is up to you whether you do this in a subfolder or directly on the top level.\n",
    "3. In the template, which will be a module for your project, you will find an initial structure for a dictionary and two methods. The team lead is responsible for filling the dictionary and the other two team members share the methods between themselves. (If there are more than three people in your team, more people can create separate dictionaries for other NFL divisions, thus increasing the database).\n",
    "4. Each collaborator now creates his or her own branch in git/GitHub on which he or she will work.\n",
    "5. When the development work is completed, the team lead is responsible for merging the individual results and testing. The result should be able to be integrated as a module or package into a Jupyter Notebook, where, if two teams are specified, a sentence can be displayed about which team is older."
   ]
  },
  {
   "cell_type": "markdown",
   "metadata": {},
   "source": [
    "### References<a class=\"anchor\" id=\"references\"></a>"
   ]
  },
  {
   "cell_type": "markdown",
   "metadata": {},
   "source": [
    "[1]<a class=\"anchor\" id=\"downey2015\"></a> Downey, A. (2015). *Think Python - How to think like a computer scientist* (2nd ed.). Green Tea Press. Retrieved 2020-03-26 from http://greenteapress.com/thinkpython2/thinkpython2.pdf"
   ]
  },
  {
   "cell_type": "markdown",
   "metadata": {},
   "source": [
    "[2]<a class=\"anchor\" id=\"python2020a\"></a> The Python Standard Library (2020). Collections. Retrieved 2020-03-31 from https://docs.python.org/3/library/collections.html"
   ]
  },
  {
   "cell_type": "markdown",
   "metadata": {},
   "source": [
    "[3]<a class=\"anchor\" id=\"w3schools2020\"></a> w3schools (2020). Python lists. Retrieved 2020-03-31 from https://www.w3schools.com/python/python_lists.asp"
   ]
  },
  {
   "cell_type": "markdown",
   "metadata": {},
   "source": [
    "[4]<a class=\"anchor\" id=\"downey2015\"></a> Mohan, M. (2017). Mutable vs Immutable Objects in Python. *Medium*. Retrieved 2020-03-26 from https://medium.com/@meghamohan/mutable-and-immutable-side-of-python-c2145cf72747"
   ]
  },
  {
   "cell_type": "markdown",
   "metadata": {},
   "source": [
    "[5]<a class=\"anchor\" id=\"python2020b\"></a> The Python Standard Library (2020). Built-in types. Retrieved 2020-03-31 from https://docs.python.org/2.7/library/stdtypes.html#frozenset"
   ]
  },
  {
   "cell_type": "markdown",
   "metadata": {},
   "source": [
    "[6]<a class=\"anchor\" id=\"aroutiounian2013\"></a> Aroutiounian, E., Machavity, Pieters, M. (2013). Why is the order in dictionaries and sets arbitrary? *Stack Overflow*. Retrieved 2020-03-31 from https://stackoverflow.com/questions/15479928/why-is-the-order-in-dictionaries-and-sets-arbitrary/15479974#15479974"
   ]
  },
  {
   "cell_type": "markdown",
   "metadata": {},
   "source": [
    "[7]<a class=\"anchor\" id=\"reitz2016\"></a> Reitz, K., & Schlusser, T. (2016). *The Hitchhiker's Guide to Python: Best Practices for Development*. O'Reilly Media, Inc."
   ]
  },
  {
   "cell_type": "markdown",
   "metadata": {},
   "source": [
    "[8]<a class=\"anchor\" id=\"learnpython2020\"></a> learnpython.org (2020). Modules and Packages. Retrieved 2020-03-26 from https://www.learnpython.org/en/Modules_and_Packages"
   ]
  },
  {
   "cell_type": "markdown",
   "metadata": {},
   "source": [
    "[9]<a class=\"anchor\" id=\"anaconda2020\"></a> Anaconda, Inc. (2020). Anaconda package lists. Retrieved 2020-03-31 from https://docs.anaconda.com/anaconda/packages/pkg-docs/"
   ]
  },
  {
   "cell_type": "markdown",
   "metadata": {},
   "source": [
    "[10]<a class=\"anchor\" id=\"pip2020\"></a> Python Software Foundation (2020). pip 20.0.2. Retrieved 2020-03-31 from https://pypi.org/project/pip/"
   ]
  },
  {
   "cell_type": "markdown",
   "metadata": {},
   "source": [
    "[11]<a class=\"anchor\" id=\"sqlite32020\"></a> The Python Standard Library (2020). sqlite3 — DB-API 2.0 interface for SQLite databases. Retrieved 2020-03-31 from https://docs.python.org/3/library/sqlite3.html"
   ]
  },
  {
   "cell_type": "markdown",
   "metadata": {},
   "source": [
    "[12]<a class=\"anchor\" id=\"mckinney2011\"></a> McKinney, W. (2011). pandas: a foundational Python library for data analysis and statistics. *Python for High Performance and Scientific Computing, 14*(9). [See also: https://pandas.pydata.org/]"
   ]
  }
 ],
 "metadata": {
  "kernelspec": {
   "display_name": "Python 3",
   "language": "python",
   "name": "python3"
  },
  "language_info": {
   "codemirror_mode": {
    "name": "ipython",
    "version": 3
   },
   "file_extension": ".py",
   "mimetype": "text/x-python",
   "name": "python",
   "nbconvert_exporter": "python",
   "pygments_lexer": "ipython3",
   "version": "3.7.4"
  }
 },
 "nbformat": 4,
 "nbformat_minor": 4
}
