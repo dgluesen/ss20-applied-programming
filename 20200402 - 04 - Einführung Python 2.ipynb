{
 "cells": [
  {
   "cell_type": "markdown",
   "metadata": {},
   "source": [
    "<div style=\"width:image width px; font-size:75%; text-align:right;\">\n",
    "    <img src=\"img/everyone_adi-goldstein_unsplash.jpg\" width=\"width\" height=\"height\" style=\"padding-bottom:0.2em;\" />\n",
    "    <figcaption>Photo by Adi Goldstein on Unsplash</figcaption>\n",
    "</div>"
   ]
  },
  {
   "cell_type": "markdown",
   "metadata": {},
   "source": [
    "# Introduction to Python 2\n",
    "\n",
    "**Applied Programming - Summer term 2020 - FOM Hochschule für Oekonomie und Management - Cologne**\n",
    "\n",
    "**Lecture 04 - April 02, 2020**"
   ]
  },
  {
   "cell_type": "markdown",
   "metadata": {},
   "source": [
    "*Dennis Gluesenkamp*"
   ]
  },
  {
   "cell_type": "markdown",
   "metadata": {},
   "source": [
    "### Table of contents\n",
    "* [Recap](#recap)\n",
    "* [Loops](#loops)\n",
    "* [Collections](#collections)\n",
    "    * [Lists](#lists)\n",
    "    * [Tuples](#tuples)\n",
    "    * [Sets](#sets)\n",
    "    * [Dictionaries](#dictionaries)\n",
    "* [Modules](#modules)\n",
    "* [Packages](#packages)\n",
    "* [Third-party modules/packages](#thirdpartymodpack)\n",
    "    * [sqlite3](#sqlite3)\n",
    "    * [pandas](#pandas)\n",
    "* [Exercise for the next lecture](#exerciselecture)\n",
    "* [References](#references)"
   ]
  },
  {
   "cell_type": "markdown",
   "metadata": {},
   "source": [
    "### Recap<a class=\"anchor\" id=\"recap\"></a>\n",
    "\n",
    "To briefly repeat what you learned in the previous lecture, please answer the following questions or write the Python code according to the instructions\n",
    "1. Write your solutions under this cell by creating more new cells. Introduce the solutions with a header of the fourth level.\n",
    "2. What is the function to determine that 'foo' is a string and 3.1415 is a floating number?\n",
    "3. What is the difference between an expression and a statement?\n",
    "4. What is the problem with the following statement? Correct the code so that it is runnable.\n",
    "```python\n",
    "12monkeys = 'film'\n",
    "result = 3 * 12monkeys\n",
    "print(result)\n",
    "```\n",
    "5. What are the basic types of packages and modules?\n",
    "6. Calculate the quotient of 11 (dividend) and 7 (divisor) and round the result to four decimal places.\n",
    "7. Create/define a custom function with three arguments that does the following: sum of the first and second argument, modulo third argument, and returns the result as a floating number. Set a default value of 2 for the third argument. "
   ]
  },
  {
   "cell_type": "markdown",
   "metadata": {},
   "source": [
    "### Loops<a class=\"anchor\" id=\"loops\"></a>\n",
    "In the last lecture the ``if`` statement was shown as a possible element for programming conditions. Another typical element for the implementation of execution sequences in code are loops. The two possibilities ``while`` and ``for`` in Python will be shown here. [[1]](#downey2015)"
   ]
  },
  {
   "cell_type": "code",
   "execution_count": null,
   "metadata": {},
   "outputs": [],
   "source": [
    "def countdown(n = 10):\n",
    "    while n > 0:\n",
    "        print(n)\n",
    "        n = n-1\n",
    "    print('Lift off!')"
   ]
  },
  {
   "cell_type": "code",
   "execution_count": null,
   "metadata": {},
   "outputs": [],
   "source": [
    "countdown()"
   ]
  },
  {
   "cell_type": "markdown",
   "metadata": {},
   "source": [
    "With the while loop it is important to do the programming carefully. The variable of the test condition should change so that the loop does not run infinitely  [[1]](#downey2015).\n",
    "\n",
    "The for ``loop`` in Python works more like an iterator than typically found in other programming languages where it loops through a set of code for a certain number. Of course the following loop is correct and functional:"
   ]
  },
  {
   "cell_type": "code",
   "execution_count": null,
   "metadata": {},
   "outputs": [],
   "source": [
    "def countup(n = 10):\n",
    "    for i in range(n):\n",
    "        print(i+1)\n",
    "    print('Finished!')"
   ]
  },
  {
   "cell_type": "code",
   "execution_count": null,
   "metadata": {},
   "outputs": [],
   "source": [
    "countup()"
   ]
  },
  {
   "cell_type": "markdown",
   "metadata": {},
   "source": [
    "However, you can also (and not only) iterate over the elements of lists:"
   ]
  },
  {
   "cell_type": "code",
   "execution_count": null,
   "metadata": {},
   "outputs": [],
   "source": [
    "for i in ['A1', 'B2', 'C3']:\n",
    "    print(i)"
   ]
  },
  {
   "cell_type": "markdown",
   "metadata": {},
   "source": [
    "Or even strings:"
   ]
  },
  {
   "cell_type": "code",
   "execution_count": null,
   "metadata": {},
   "outputs": [],
   "source": [
    "for i in 'LoremIpsum':\n",
    "    print(i)"
   ]
  },
  {
   "cell_type": "markdown",
   "metadata": {},
   "source": [
    "### Collections<a class=\"anchor\" id=\"collections\"></a>\n",
    "Python implements four types of data containers for general purposes which are called containers [[2]](#python2020a). These are [[3]](#w3schools2020):\n",
    "* **List** is a collection which is ordered and changeable. Allows duplicate members.\n",
    "* **Tuple** is a collection which is ordered and unchangeable. Allows duplicate members.\n",
    "* **Set** is a collection which is unordered and unindexed. No duplicate members.\n",
    "* **Dictionary** is a collection which is unordered, changeable and indexed. No duplicate members.\n",
    "\n",
    "The property that elements of a collection can respectively cannot be changed is called mutable respectively immutable. If you want to go deeper into this topic, the article by Megha Mohan [[4]](#mohan2017) is recommended."
   ]
  },
  {
   "cell_type": "markdown",
   "metadata": {},
   "source": [
    "#### Lists<a class=\"anchor\" id=\"lists\"></a>\n",
    "A list is a sequence of values, so it is ordered. The values of such a list are called items or elements and can be of any type - except a string which is also a list of characters. By the index you can access the items. Indices in Python start with 0. With negative indices the elements can be accessed backwards, so starting at the end of the list."
   ]
  },
  {
   "cell_type": "code",
   "execution_count": null,
   "metadata": {},
   "outputs": [],
   "source": [
    "listA = ['Mother', 'Father', 'Daughter', 'Son']\n",
    "type(listA)"
   ]
  },
  {
   "cell_type": "code",
   "execution_count": null,
   "metadata": {},
   "outputs": [],
   "source": [
    "listA[1]"
   ]
  },
  {
   "cell_type": "code",
   "execution_count": null,
   "metadata": {},
   "outputs": [],
   "source": [
    "listA[1:4]"
   ]
  },
  {
   "cell_type": "code",
   "execution_count": null,
   "metadata": {},
   "outputs": [],
   "source": [
    "listA[2:]"
   ]
  },
  {
   "cell_type": "code",
   "execution_count": null,
   "metadata": {},
   "outputs": [],
   "source": [
    "listA[-2]"
   ]
  },
  {
   "cell_type": "code",
   "execution_count": null,
   "metadata": {},
   "outputs": [],
   "source": [
    "listA[-4:-2]"
   ]
  },
  {
   "cell_type": "code",
   "execution_count": null,
   "metadata": {},
   "outputs": [],
   "source": [
    "# Append additional elements to the list\n",
    "listA.append('Grandma')\n",
    "listA"
   ]
  },
  {
   "cell_type": "code",
   "execution_count": null,
   "metadata": {},
   "outputs": [],
   "source": [
    "# Insert elements at a specific position\n",
    "listA.insert(4, \"Grandpa\")\n",
    "listA"
   ]
  },
  {
   "cell_type": "code",
   "execution_count": null,
   "metadata": {},
   "outputs": [],
   "source": [
    "# Change elements in the list, because lists are mutable\n",
    "listA[5] = 'Baby'\n",
    "listA"
   ]
  },
  {
   "cell_type": "code",
   "execution_count": null,
   "metadata": {},
   "outputs": [],
   "source": [
    "# Remove an element by value\n",
    "listA.remove('Grandpa')\n",
    "listA"
   ]
  },
  {
   "cell_type": "code",
   "execution_count": null,
   "metadata": {},
   "outputs": [],
   "source": [
    "# Remove an element by index (default is last element)\n",
    "listA.pop()\n",
    "listA"
   ]
  },
  {
   "cell_type": "markdown",
   "metadata": {},
   "source": [
    "##### Exercises\n",
    "1. Create a list of five fruits and variable name of your choice.\n",
    "2. Make a copy of that list, so that the upcoming change in task 3 doesn't change the copy of your list. How can you do this? Explain in this context what a reference to an object is. (You may have to do some research on the Internet to find the solution.)\n",
    "3. Remove the third element by index.\n",
    "4. Join/concatenate your original list and the copy. There are multiple ways for this task."
   ]
  },
  {
   "cell_type": "markdown",
   "metadata": {},
   "source": [
    "#### Tuples<a class=\"anchor\" id=\"tuples\"></a>\n",
    "The striking difference to lists is that tuples are not changeable - in other words *immutable*. However, their elements are also ordered by indexes."
   ]
  },
  {
   "cell_type": "code",
   "execution_count": null,
   "metadata": {},
   "outputs": [],
   "source": [
    "tupleA = ('Mother', 'Father', 'Daughter', 'Son')\n",
    "type(tupleA)"
   ]
  },
  {
   "cell_type": "code",
   "execution_count": null,
   "metadata": {},
   "outputs": [],
   "source": [
    "tupleA[1:4]"
   ]
  },
  {
   "cell_type": "code",
   "execution_count": null,
   "metadata": {},
   "outputs": [],
   "source": [
    "tupleA[-4:-2]"
   ]
  },
  {
   "cell_type": "code",
   "execution_count": null,
   "metadata": {},
   "outputs": [],
   "source": [
    "# Elements of the tuple, resp. the tuple as a whole is immutable\n",
    "tupleA[1] = 'Men'"
   ]
  },
  {
   "cell_type": "markdown",
   "metadata": {},
   "source": [
    "##### Exercises\n",
    "1. Create a tuple of five car manufacturers and variable name of your choice.\n",
    "2. Iterate through the tuple with a ``for`` loop and print the current manufacturer name in each loop iteration."
   ]
  },
  {
   "cell_type": "markdown",
   "metadata": {},
   "source": [
    "#### Sets<a class=\"anchor\" id=\"sets\"></a>\n",
    "In contrast to tuples and lists, sets do not have an order and therefore the elements do not have indices. However iteration is possible and you can check whether an element exists in the set. The sets are mutable, whereas Python offers also a specific type of immutable sets: ``frozenset`` [[5]](#python2020b)"
   ]
  },
  {
   "cell_type": "code",
   "execution_count": null,
   "metadata": {},
   "outputs": [],
   "source": [
    "setA = {'Mother', 'Father', 'Daughter', 'Son'}\n",
    "type(setA)"
   ]
  },
  {
   "cell_type": "code",
   "execution_count": null,
   "metadata": {},
   "outputs": [],
   "source": [
    "# Elements doesn't have an index\n",
    "setA[1]"
   ]
  },
  {
   "cell_type": "code",
   "execution_count": null,
   "metadata": {},
   "outputs": [],
   "source": [
    "for element in setA:\n",
    "    print(element) "
   ]
  },
  {
   "cell_type": "code",
   "execution_count": null,
   "metadata": {},
   "outputs": [],
   "source": [
    "'Father' in setA"
   ]
  },
  {
   "cell_type": "code",
   "execution_count": null,
   "metadata": {},
   "outputs": [],
   "source": [
    "setA.add('Grandma')\n",
    "setA"
   ]
  },
  {
   "cell_type": "code",
   "execution_count": null,
   "metadata": {},
   "outputs": [],
   "source": [
    "# Adding duplicates isn't possible but without error\n",
    "setA.add('Father')\n",
    "setA"
   ]
  },
  {
   "cell_type": "code",
   "execution_count": null,
   "metadata": {},
   "outputs": [],
   "source": [
    "setA.remove('Grandma')\n",
    "setA"
   ]
  },
  {
   "cell_type": "code",
   "execution_count": null,
   "metadata": {},
   "outputs": [],
   "source": [
    "# Raises an error if element doesn't exist\n",
    "setA.remove('Grandma')"
   ]
  },
  {
   "cell_type": "code",
   "execution_count": null,
   "metadata": {},
   "outputs": [],
   "source": [
    "# Different method for removing items without error raising\n",
    "setA.discard('Grandma')"
   ]
  },
  {
   "cell_type": "markdown",
   "metadata": {},
   "source": [
    "##### Exercises\n",
    "1. Create a set of five cities and variable name of your choice.\n",
    "2. Copy your set to a new variable and change two cities to other cities of your choice.\n",
    "3. Research and test the set-related method ``intersection()``.\n",
    "4. Which SQL-statement is equivalent to the ``intersection()`` method? Write the SQL-statement here in a Markdown cell by using appropriate syntax highlighting."
   ]
  },
  {
   "cell_type": "markdown",
   "metadata": {},
   "source": [
    "If you want to know more about the order in which sets are displayed, see [[6]](#aroutiounian2013)."
   ]
  },
  {
   "cell_type": "markdown",
   "metadata": {},
   "source": [
    "#### Dictionaries<a class=\"anchor\" id=\"dictionaries\"></a>\n",
    "Dictionaries consists of key-value-pairs which are unordered but the pairs have indices and can be changed - so dictionaries are *mutable*."
   ]
  },
  {
   "cell_type": "code",
   "execution_count": null,
   "metadata": {},
   "outputs": [],
   "source": [
    "dictA = {\n",
    "    'mother': 'Mary',\n",
    "    'father': 'Pete',\n",
    "    'daughter': 'Daisy',\n",
    "    'son': 'Chuck'\n",
    "}\n",
    "dictA"
   ]
  },
  {
   "cell_type": "code",
   "execution_count": null,
   "metadata": {},
   "outputs": [],
   "source": [
    "# Access value by key, not vice versa\n",
    "dictA['mother']"
   ]
  },
  {
   "cell_type": "code",
   "execution_count": null,
   "metadata": {},
   "outputs": [],
   "source": [
    "dictA.get('father')"
   ]
  },
  {
   "cell_type": "code",
   "execution_count": null,
   "metadata": {},
   "outputs": [],
   "source": [
    "dictA['mother'] = 'Deanna'\n",
    "dictA"
   ]
  },
  {
   "cell_type": "markdown",
   "metadata": {},
   "source": [
    "### Modules<a class=\"anchor\" id=\"modules\"></a>\n",
    "Modules are one of the levels of abstraction in Python and technically nothing more than individual Python files (``*.py``). These files contain variables and functions that belong together in a certain sense and are therefore implemented or defined separately. [[7, p.61](#reitz2016); [8](#learnpython2020)]\n",
    "\n",
    "To create a module, it is therefore only necessary to write the desired code in a Python file. This file can then be integrated into the current project, for example a Jupyter Notebook, by calling ``import`` followed by the module name which is the file name. It is possible to name the included module with an (abbreviated) name. This is done with the command ``as``."
   ]
  },
  {
   "cell_type": "code",
   "execution_count": null,
   "metadata": {},
   "outputs": [],
   "source": [
    "import examplemodule as em"
   ]
  },
  {
   "cell_type": "code",
   "execution_count": null,
   "metadata": {},
   "outputs": [],
   "source": [
    "em.calcEuclideanDist([0, 0, 0], em.coord2)"
   ]
  },
  {
   "cell_type": "markdown",
   "metadata": {},
   "source": [
    "### Packages<a class=\"anchor\" id=\"packages\"></a>\n",
    "If the complexity and the structure of a project makes it necessary to combine several modules to a superior unit, so-called packages can be created. These are folders that contain module files. The only special feature is the existence of a ``__init__.py`` in this folder, which contains overall definitions for the whole package. [[7, p.65](#reitz2016); [8](#learnpython2020)]\n",
    "\n",
    "A module of a package is included by the ``import`` command, preceded by the package name and separated from the module name by a period."
   ]
  },
  {
   "cell_type": "code",
   "execution_count": null,
   "metadata": {},
   "outputs": [],
   "source": [
    "import examplepackage.examplemodule as pem"
   ]
  },
  {
   "cell_type": "code",
   "execution_count": null,
   "metadata": {},
   "outputs": [],
   "source": [
    "help(pem)"
   ]
  },
  {
   "cell_type": "code",
   "execution_count": null,
   "metadata": {},
   "outputs": [],
   "source": [
    "pem.calcEuclideanDist(pem.coord1, [-1, -1, -1])"
   ]
  },
  {
   "cell_type": "markdown",
   "metadata": {},
   "source": [
    "### Third-party modules/packages<a class=\"anchor\" id=\"thirdpartymodpack\"></a>\n",
    "Besides the very extensive built-in modules and packages that Python already comes with by default, an overwhelming number of third-party packages can be installed and used. For an overview of such additional packages already included in the Anaconda distribution, please refer to [[9]](#anaconda2020). Here you can also see whether these packages are already available with the installation of Anaconda or whether they need to be installed later via conda. If you are not using Anaconda, you can install additional packages via ``pip`` [[10]](#pip2020). \n",
    "\n",
    "At this point we want to take a first, superficial look at two third-party packages: ``sqlite3`` [[11]](#sqlite32020) and ``pandas`` [[12]](#mckinney2011). In the next lectures we will learn more packages/modules and their usage."
   ]
  },
  {
   "cell_type": "markdown",
   "metadata": {},
   "source": [
    "#### sqlite3"
   ]
  },
  {
   "cell_type": "code",
   "execution_count": null,
   "metadata": {},
   "outputs": [],
   "source": [
    "import sqlite3"
   ]
  },
  {
   "cell_type": "code",
   "execution_count": null,
   "metadata": {},
   "outputs": [],
   "source": [
    "con_obj = sqlite3.connect('dat/baseball.sqlite')\n",
    "c = con_obj.cursor()"
   ]
  },
  {
   "cell_type": "code",
   "execution_count": null,
   "metadata": {
    "scrolled": true
   },
   "outputs": [],
   "source": [
    "c.execute(\"\"\"\n",
    "SELECT   name_full, city\n",
    "FROM     college\n",
    "WHERE    state = 'TX'\n",
    "\"\"\").fetchall()           # use fetchone() for single line of output"
   ]
  },
  {
   "cell_type": "markdown",
   "metadata": {},
   "source": [
    "#### pandas"
   ]
  },
  {
   "cell_type": "code",
   "execution_count": null,
   "metadata": {},
   "outputs": [],
   "source": [
    "import pandas as pd"
   ]
  },
  {
   "cell_type": "code",
   "execution_count": null,
   "metadata": {},
   "outputs": [],
   "source": [
    "df = pd.read_sql_query(\"\"\"\n",
    "SELECT   park_name, city\n",
    "FROM     park\n",
    "WHERE    state = 'GA'\n",
    "\"\"\", con_obj)"
   ]
  },
  {
   "cell_type": "code",
   "execution_count": null,
   "metadata": {},
   "outputs": [],
   "source": [
    "df"
   ]
  },
  {
   "cell_type": "code",
   "execution_count": null,
   "metadata": {},
   "outputs": [],
   "source": [
    "# Close the database connection\n",
    "con_obj.close()"
   ]
  },
  {
   "cell_type": "markdown",
   "metadata": {},
   "source": [
    "##### Exercises\n",
    "1. Write an SQL-statement for the ``read_sql_query()`` method of the pandas module which copies the solution to the question t) of the live exercises/example in lecture 2. Store the result in a variable.\n",
    "2. Solve the following tasks using the pandas-documentation or a cheat sheet:\n",
    "\n",
    "    a) Delete the column ``park_name`` from the DataFrame.\n",
    "    \n",
    "    b) Store a filtered copy table in a new variable where rows with an empty ``city`` column are excluded.\n",
    "    \n",
    "    c) Add a new column ``adress`` to the just create table, which is composed of the information on ``park``, a comma followed by a blank and the ``city``."
   ]
  },
  {
   "cell_type": "markdown",
   "metadata": {},
   "source": [
    "### Exercise for the next lecture<a class=\"anchor\" id=\"exerciselecture\"></a>\n",
    "The National Football League (NFL, US professional league for American football) consists of 32 teams divided into two conferences, the AFC and the NFC. Each of these Conferences is again divided into - more or less - regional divisions, named after the compass directions, e.g. NFC South. A tabular overview can be found at https://bit.ly/2UP8Cfi (English) or https://bit.ly/2xHHoPH (German).\n",
    "\n",
    "**For the following tasks, please form teams of at least (and ideally also a maximum of) three people, whereby you determine a team lead.** *Please*, organize yourself in such a way that the previous knowledge is equally distributed in each team. Especially git/GitHub knowledge should be at least a little bit present in each team.\n",
    "\n",
    "1. The team lead creates a repository for this mini-project on GitHub and invites the other team members as collaborators (Settings >>> Manage access >>> Invite a collaborator).\n",
    "2. In the subfolder \"modules\" of the repository of this lecture you will find a template file named \"template_l04.py\". The team lead should download it and add it to your repository. It is up to you whether you do this in a subfolder or directly on the top level.\n",
    "3. In the template, which will be a module for your project, you will find an initial structure for a dictionary and two methods. The team lead is responsible for filling the dictionary and the other two team members share the methods between themselves. (If there are more than three people in your team, more people can create separate dictionaries for other NFL divisions, thus increasing the database).\n",
    "4. Each collaborator now creates his or her own branch in git/GitHub on which he or she will work.\n",
    "5. When the development work is completed, the team lead is responsible for merging the individual results and testing. The result should be able to be integrated as a module or package into a Jupyter Notebook, where, if two teams are specified, a sentence can be displayed about which team is older."
   ]
  },
  {
   "cell_type": "markdown",
   "metadata": {},
   "source": [
    "### References<a class=\"anchor\" id=\"references\"></a>"
   ]
  },
  {
   "cell_type": "markdown",
   "metadata": {},
   "source": [
    "[1]<a class=\"anchor\" id=\"downey2015\"></a> Downey, A. (2015). *Think Python - How to think like a computer scientist* (2nd ed.). Green Tea Press. Retrieved 2020-03-26 from http://greenteapress.com/thinkpython2/thinkpython2.pdf"
   ]
  },
  {
   "cell_type": "markdown",
   "metadata": {},
   "source": [
    "[2]<a class=\"anchor\" id=\"python2020a\"></a> The Python Standard Library (2020). Collections. Retrieved 2020-03-31 from https://docs.python.org/3/library/collections.html"
   ]
  },
  {
   "cell_type": "markdown",
   "metadata": {},
   "source": [
    "[3]<a class=\"anchor\" id=\"w3schools2020\"></a> w3schools (2020). Python lists. Retrieved 2020-03-31 from https://www.w3schools.com/python/python_lists.asp"
   ]
  },
  {
   "cell_type": "markdown",
   "metadata": {},
   "source": [
    "[4]<a class=\"anchor\" id=\"downey2015\"></a> Mohan, M. (2017). Mutable vs Immutable Objects in Python. *Medium*. Retrieved 2020-03-26 from https://medium.com/@meghamohan/mutable-and-immutable-side-of-python-c2145cf72747"
   ]
  },
  {
   "cell_type": "markdown",
   "metadata": {},
   "source": [
    "[5]<a class=\"anchor\" id=\"python2020b\"></a> The Python Standard Library (2020). Built-in types. Retrieved 2020-03-31 from https://docs.python.org/2.7/library/stdtypes.html#frozenset"
   ]
  },
  {
   "cell_type": "markdown",
   "metadata": {},
   "source": [
    "[6]<a class=\"anchor\" id=\"aroutiounian2013\"></a> Aroutiounian, E., Machavity, Pieters, M. (2013). Why is the order in dictionaries and sets arbitrary? *Stack Overflow*. Retrieved 2020-03-31 from https://stackoverflow.com/questions/15479928/why-is-the-order-in-dictionaries-and-sets-arbitrary/15479974#15479974"
   ]
  },
  {
   "cell_type": "markdown",
   "metadata": {},
   "source": [
    "[7]<a class=\"anchor\" id=\"reitz2016\"></a> Reitz, K., & Schlusser, T. (2016). *The Hitchhiker's Guide to Python: Best Practices for Development*. O'Reilly Media, Inc."
   ]
  },
  {
   "cell_type": "markdown",
   "metadata": {},
   "source": [
    "[8]<a class=\"anchor\" id=\"learnpython2020\"></a> learnpython.org (2020). Modules and Packages. Retrieved 2020-03-26 from https://www.learnpython.org/en/Modules_and_Packages"
   ]
  },
  {
   "cell_type": "markdown",
   "metadata": {},
   "source": [
    "[9]<a class=\"anchor\" id=\"anaconda2020\"></a> Anaconda, Inc. (2020). Anaconda package lists. Retrieved 2020-03-31 from https://docs.anaconda.com/anaconda/packages/pkg-docs/"
   ]
  },
  {
   "cell_type": "markdown",
   "metadata": {},
   "source": [
    "[10]<a class=\"anchor\" id=\"pip2020\"></a> Python Software Foundation (2020). pip 20.0.2. Retrieved 2020-03-31 from https://pypi.org/project/pip/"
   ]
  },
  {
   "cell_type": "markdown",
   "metadata": {},
   "source": [
    "[11]<a class=\"anchor\" id=\"sqlite32020\"></a> The Python Standard Library (2020). sqlite3 — DB-API 2.0 interface for SQLite databases. Retrieved 2020-03-31 from https://docs.python.org/3/library/sqlite3.html"
   ]
  },
  {
   "cell_type": "markdown",
   "metadata": {},
   "source": [
    "[12]<a class=\"anchor\" id=\"mckinney2011\"></a> McKinney, W. (2011). pandas: a foundational Python library for data analysis and statistics. *Python for High Performance and Scientific Computing, 14*(9). [See also: https://pandas.pydata.org/]"
   ]
  }
 ],
 "metadata": {
  "kernelspec": {
   "display_name": "Python 3",
   "language": "python",
   "name": "python3"
  },
  "language_info": {
   "codemirror_mode": {
    "name": "ipython",
    "version": 3
   },
   "file_extension": ".py",
   "mimetype": "text/x-python",
   "name": "python",
   "nbconvert_exporter": "python",
   "pygments_lexer": "ipython3",
   "version": "3.7.4"
  }
 },
 "nbformat": 4,
 "nbformat_minor": 4
}
